{
 "cells": [
  {
   "cell_type": "markdown",
   "metadata": {
    "colab_type": "text",
    "id": "view-in-github"
   },
   "source": [
    "<a href=\"https://colab.research.google.com/github/paolopetta/FIA-Yourbook/blob/main/Yourbook.ipynb\" target=\"_parent\"><img src=\"https://colab.research.google.com/assets/colab-badge.svg\" alt=\"Open In Colab\"/></a>"
   ]
  },
  {
   "cell_type": "code",
   "execution_count": 213,
   "metadata": {
    "id": "g0lEmDxv-I4H"
   },
   "outputs": [],
   "source": [
    "#Import delle librerie necessarie\n",
    "import numpy as np\n",
    "import pandas as pd\n",
    "#import pandas_profiling\n",
    "import seaborn as sns\n",
    "import matplotlib.pyplot as plt\n",
    "from scipy.sparse import csr_matrix\n",
    "from sklearn.neighbors import NearestNeighbors\n",
    "from PIL import Image\n",
    "import requests"
   ]
  },
  {
   "cell_type": "code",
   "execution_count": 214,
   "metadata": {
    "colab": {
     "base_uri": "https://localhost:8080/"
    },
    "id": "DXj2iOWD-Ql3",
    "outputId": "590f8b28-b6c3-4b45-daf3-c86a66a8a988"
   },
   "outputs": [
    {
     "name": "stderr",
     "output_type": "stream",
     "text": [
      "Skipping line 815: ';' expected after '\"'\n",
      "Skipping line 1679: ';' expected after '\"'\n",
      "Skipping line 2531: ';' expected after '\"'\n",
      "Skipping line 2640: ';' expected after '\"'\n",
      "Skipping line 3236: ';' expected after '\"'\n",
      "Skipping line 3256: ';' expected after '\"'\n",
      "Skipping line 4906: ';' expected after '\"'\n",
      "Skipping line 6452: ';' expected after '\"'\n",
      "Skipping line 8349: ';' expected after '\"'\n",
      "Skipping line 9669: ';' expected after '\"'\n",
      "Skipping line 9723: ';' expected after '\"'\n",
      "Skipping line 10010: ';' expected after '\"'\n",
      "Skipping line 10192: ';' expected after '\"'\n",
      "Skipping line 10754: ';' expected after '\"'\n",
      "Skipping line 10824: ';' expected after '\"'\n",
      "Skipping line 10862: ';' expected after '\"'\n",
      "Skipping line 11442: ';' expected after '\"'\n",
      "Skipping line 11584: ';' expected after '\"'\n",
      "Skipping line 11859: ';' expected after '\"'\n",
      "Skipping line 12206: ';' expected after '\"'\n",
      "Skipping line 12229: ';' expected after '\"'\n",
      "Skipping line 12719: ';' expected after '\"'\n",
      "Skipping line 12885: ';' expected after '\"'\n",
      "Skipping line 13376: ';' expected after '\"'\n",
      "Skipping line 13380: ';' expected after '\"'\n",
      "Skipping line 13394: ';' expected after '\"'\n",
      "Skipping line 13639: ';' expected after '\"'\n",
      "Skipping line 14346: ';' expected after '\"'\n",
      "Skipping line 14723: ';' expected after '\"'\n",
      "Skipping line 14769: ';' expected after '\"'\n",
      "Skipping line 14936: ';' expected after '\"'\n",
      "Skipping line 14977: ';' expected after '\"'\n",
      "Skipping line 15633: ';' expected after '\"'\n",
      "Skipping line 15690: ';' expected after '\"'\n",
      "Skipping line 15772: ';' expected after '\"'\n",
      "Skipping line 15853: ';' expected after '\"'\n",
      "Skipping line 16088: ';' expected after '\"'\n",
      "Skipping line 16090: ';' expected after '\"'\n",
      "Skipping line 17320: ';' expected after '\"'\n",
      "Skipping line 17410: ';' expected after '\"'\n",
      "Skipping line 17665: ';' expected after '\"'\n",
      "Skipping line 17997: ';' expected after '\"'\n",
      "Skipping line 18095: ';' expected after '\"'\n",
      "Skipping line 18839: ';' expected after '\"'\n",
      "Skipping line 19156: ';' expected after '\"'\n",
      "Skipping line 19510: ';' expected after '\"'\n",
      "Skipping line 20266: ';' expected after '\"'\n",
      "Skipping line 20434: ';' expected after '\"'\n",
      "Skipping line 21438: ';' expected after '\"'\n",
      "Skipping line 21602: ';' expected after '\"'\n",
      "Skipping line 21719: ';' expected after '\"'\n",
      "Skipping line 21889: ';' expected after '\"'\n",
      "Skipping line 22197: ';' expected after '\"'\n",
      "Skipping line 22460: ';' expected after '\"'\n",
      "Skipping line 23571: ';' expected after '\"'\n",
      "Skipping line 23786: ';' expected after '\"'\n",
      "Skipping line 24257: ';' expected after '\"'\n",
      "Skipping line 24719: ';' expected after '\"'\n",
      "Skipping line 24924: ';' expected after '\"'\n",
      "Skipping line 25849: ';' expected after '\"'\n",
      "Skipping line 26079: ';' expected after '\"'\n",
      "Skipping line 26151: ';' expected after '\"'\n",
      "Skipping line 26234: ';' expected after '\"'\n",
      "Skipping line 26235: ';' expected after '\"'\n",
      "Skipping line 26299: ';' expected after '\"'\n",
      "Skipping line 26538: ';' expected after '\"'\n",
      "Skipping line 26659: ';' expected after '\"'\n",
      "Skipping line 26660: ';' expected after '\"'\n",
      "Skipping line 27295: ';' expected after '\"'\n",
      "Skipping line 27758: ';' expected after '\"'\n",
      "Skipping line 27759: ';' expected after '\"'\n",
      "Skipping line 27781: ';' expected after '\"'\n",
      "Skipping line 28220: ';' expected after '\"'\n",
      "Skipping line 28297: ';' expected after '\"'\n",
      "Skipping line 28443: ';' expected after '\"'\n",
      "Skipping line 28600: ';' expected after '\"'\n",
      "Skipping line 28803: ';' expected after '\"'\n",
      "Skipping line 28913: ';' expected after '\"'\n",
      "Skipping line 29505: ';' expected after '\"'\n",
      "Skipping line 29938: ';' expected after '\"'\n",
      "Skipping line 30821: ';' expected after '\"'\n",
      "Skipping line 31366: ';' expected after '\"'\n",
      "Skipping line 32075: ';' expected after '\"'\n",
      "Skipping line 33098: ';' expected after '\"'\n",
      "Skipping line 33658: ';' expected after '\"'\n",
      "Skipping line 34203: ';' expected after '\"'\n",
      "Skipping line 34252: ';' expected after '\"'\n",
      "Skipping line 34705: ';' expected after '\"'\n",
      "Skipping line 34827: ';' expected after '\"'\n",
      "Skipping line 35901: ';' expected after '\"'\n",
      "Skipping line 35902: ';' expected after '\"'\n",
      "Skipping line 36035: ';' expected after '\"'\n",
      "Skipping line 36394: ';' expected after '\"'\n",
      "Skipping line 37131: ';' expected after '\"'\n",
      "Skipping line 40079: ';' expected after '\"'\n",
      "Skipping line 40441: ';' expected after '\"'\n",
      "Skipping line 41193: ';' expected after '\"'\n",
      "Skipping line 42360: ';' expected after '\"'\n",
      "Skipping line 42524: ';' expected after '\"'\n",
      "Skipping line 42607: ';' expected after '\"'\n",
      "Skipping line 42627: ';' expected after '\"'\n",
      "Skipping line 42628: ';' expected after '\"'\n",
      "Skipping line 42699: ';' expected after '\"'\n",
      "Skipping line 42743: ';' expected after '\"'\n",
      "Skipping line 42755: ';' expected after '\"'\n",
      "Skipping line 42795: ';' expected after '\"'\n",
      "Skipping line 42816: ';' expected after '\"'\n",
      "Skipping line 42952: ';' expected after '\"'\n",
      "Skipping line 43134: ';' expected after '\"'\n",
      "Skipping line 43667: ';' expected after '\"'\n",
      "Skipping line 44917: ';' expected after '\"'\n",
      "Skipping line 45713: ';' expected after '\"'\n",
      "Skipping line 46741: ';' expected after '\"'\n",
      "Skipping line 47598: ';' expected after '\"'\n",
      "Skipping line 48121: ';' expected after '\"'\n",
      "Skipping line 48132: ';' expected after '\"'\n",
      "Skipping line 48547: ';' expected after '\"'\n",
      "Skipping line 49526: ';' expected after '\"'\n",
      "Skipping line 50265: ';' expected after '\"'\n",
      "Skipping line 50272: ';' expected after '\"'\n",
      "Skipping line 50413: ';' expected after '\"'\n",
      "Skipping line 51060: ';' expected after '\"'\n",
      "Skipping line 51227: ';' expected after '\"'\n",
      "Skipping line 51256: ';' expected after '\"'\n",
      "Skipping line 51685: ';' expected after '\"'\n",
      "Skipping line 51751: ';' expected after '\"'\n",
      "Skipping line 52174: ';' expected after '\"'\n",
      "Skipping line 54725: ';' expected after '\"'\n",
      "Skipping line 55120: ';' expected after '\"'\n",
      "Skipping line 55194: ';' expected after '\"'\n",
      "Skipping line 55312: ';' expected after '\"'\n",
      "Skipping line 55483: ';' expected after '\"'\n",
      "Skipping line 55740: ';' expected after '\"'\n",
      "Skipping line 56523: ';' expected after '\"'\n",
      "Skipping line 56528: ';' expected after '\"'\n",
      "Skipping line 56827: ';' expected after '\"'\n",
      "Skipping line 56901: ';' expected after '\"'\n",
      "Skipping line 57373: ';' expected after '\"'\n",
      "Skipping line 57377: ';' expected after '\"'\n",
      "Skipping line 57943: ';' expected after '\"'\n",
      "Skipping line 58309: ';' expected after '\"'\n",
      "Skipping line 58386: ';' expected after '\"'\n",
      "Skipping line 58578: ';' expected after '\"'\n",
      "Skipping line 58600: ';' expected after '\"'\n",
      "Skipping line 58969: ';' expected after '\"'\n",
      "Skipping line 59060: ';' expected after '\"'\n",
      "Skipping line 59234: ';' expected after '\"'\n",
      "Skipping line 59494: ';' expected after '\"'\n",
      "Skipping line 59507: ';' expected after '\"'\n",
      "Skipping line 59612: ';' expected after '\"'\n",
      "Skipping line 59803: ';' expected after '\"'\n",
      "Skipping line 59988: ';' expected after '\"'\n",
      "Skipping line 60739: ';' expected after '\"'\n",
      "Skipping line 60744: ';' expected after '\"'\n",
      "Skipping line 61818: ';' expected after '\"'\n",
      "Skipping line 61821: ';' expected after '\"'\n",
      "Skipping line 62200: ';' expected after '\"'\n",
      "Skipping line 62265: ';' expected after '\"'\n",
      "Skipping line 62581: ';' expected after '\"'\n",
      "Skipping line 62777: ';' expected after '\"'\n",
      "Skipping line 62890: ';' expected after '\"'\n",
      "Skipping line 63839: ';' expected after '\"'\n",
      "Skipping line 64033: ';' expected after '\"'\n",
      "Skipping line 64253: ';' expected after '\"'\n",
      "Skipping line 65345: ';' expected after '\"'\n",
      "Skipping line 65756: ';' expected after '\"'\n",
      "Skipping line 66394: ';' expected after '\"'\n",
      "Skipping line 66446: ';' expected after '\"'\n",
      "Skipping line 66521: ';' expected after '\"'\n",
      "Skipping line 67104: ';' expected after '\"'\n",
      "Skipping line 67729: ';' expected after '\"'\n",
      "Skipping line 67924: ';' expected after '\"'\n",
      "Skipping line 67973: ';' expected after '\"'\n",
      "Skipping line 68107: ';' expected after '\"'\n",
      "Skipping line 68111: ';' expected after '\"'\n",
      "Skipping line 68134: ';' expected after '\"'\n",
      "Skipping line 69712: ';' expected after '\"'\n",
      "Skipping line 69920: ';' expected after '\"'\n",
      "Skipping line 70649: ';' expected after '\"'\n",
      "Skipping line 70764: ';' expected after '\"'\n",
      "Skipping line 70826: ';' expected after '\"'\n",
      "Skipping line 71125: ';' expected after '\"'\n",
      "Skipping line 71531: ';' expected after '\"'\n",
      "Skipping line 71615: ';' expected after '\"'\n",
      "Skipping line 71769: ';' expected after '\"'\n",
      "Skipping line 72335: ';' expected after '\"'\n",
      "Skipping line 72372: ';' expected after '\"'\n",
      "Skipping line 72572: ';' expected after '\"'\n",
      "Skipping line 72929: ';' expected after '\"'\n",
      "Skipping line 72930: ';' expected after '\"'\n",
      "Skipping line 72931: ';' expected after '\"'\n",
      "Skipping line 73156: ';' expected after '\"'\n",
      "Skipping line 73162: ';' expected after '\"'\n",
      "Skipping line 73199: ';' expected after '\"'\n",
      "Skipping line 73270: ';' expected after '\"'\n",
      "Skipping line 73849: ';' expected after '\"'\n",
      "Skipping line 73880: ';' expected after '\"'\n",
      "Skipping line 74291: ';' expected after '\"'\n",
      "Skipping line 75043: ';' expected after '\"'\n",
      "Skipping line 75071: ';' expected after '\"'\n",
      "Skipping line 76445: ';' expected after '\"'\n",
      "Skipping line 76492: ';' expected after '\"'\n",
      "Skipping line 76844: ';' expected after '\"'\n",
      "Skipping line 77231: ';' expected after '\"'\n",
      "Skipping line 77336: ';' expected after '\"'\n",
      "Skipping line 77781: ';' expected after '\"'\n",
      "Skipping line 77835: ';' expected after '\"'\n",
      "Skipping line 78089: ';' expected after '\"'\n",
      "Skipping line 78186: ';' expected after '\"'\n",
      "Skipping line 78524: ';' expected after '\"'\n",
      "Skipping line 78752: ';' expected after '\"'\n",
      "Skipping line 79118: ';' expected after '\"'\n",
      "Skipping line 79320: ';' expected after '\"'\n",
      "Skipping line 79725: ';' expected after '\"'\n",
      "Skipping line 79909: ';' expected after '\"'\n",
      "Skipping line 79974: ';' expected after '\"'\n",
      "Skipping line 81924: ';' expected after '\"'\n",
      "Skipping line 83588: ';' expected after '\"'\n",
      "Skipping line 83609: ';' expected after '\"'\n",
      "Skipping line 83907: ';' expected after '\"'\n",
      "Skipping line 84489: ';' expected after '\"'\n",
      "Skipping line 84513: ';' expected after '\"'\n",
      "Skipping line 84564: ';' expected after '\"'\n",
      "Skipping line 85035: ';' expected after '\"'\n",
      "Skipping line 85094: ';' expected after '\"'\n",
      "Skipping line 85510: ';' expected after '\"'\n",
      "Skipping line 86373: ';' expected after '\"'\n",
      "Skipping line 86429: ';' expected after '\"'\n",
      "Skipping line 86637: ';' expected after '\"'\n"
     ]
    },
    {
     "name": "stderr",
     "output_type": "stream",
     "text": [
      "Skipping line 86694: ';' expected after '\"'\n",
      "Skipping line 86822: ';' expected after '\"'\n",
      "Skipping line 87322: ';' expected after '\"'\n",
      "Skipping line 87757: ';' expected after '\"'\n",
      "Skipping line 87950: ';' expected after '\"'\n",
      "Skipping line 88000: ';' expected after '\"'\n",
      "Skipping line 88405: ';' expected after '\"'\n",
      "Skipping line 88698: ';' expected after '\"'\n",
      "Skipping line 88809: ';' expected after '\"'\n",
      "Skipping line 88980: ';' expected after '\"'\n",
      "Skipping line 89309: ';' expected after '\"'\n",
      "Skipping line 89988: ';' expected after '\"'\n",
      "Skipping line 90052: ';' expected after '\"'\n",
      "Skipping line 90062: ';' expected after '\"'\n",
      "Skipping line 90210: ';' expected after '\"'\n",
      "Skipping line 91033: ';' expected after '\"'\n",
      "Skipping line 91338: ';' expected after '\"'\n",
      "Skipping line 91603: ';' expected after '\"'\n",
      "Skipping line 91658: ';' expected after '\"'\n",
      "Skipping line 91950: ';' expected after '\"'\n",
      "Skipping line 92038: ';' expected after '\"'\n",
      "Skipping line 92099: ';' expected after '\"'\n",
      "Skipping line 92232: ';' expected after '\"'\n",
      "Skipping line 92436: ';' expected after '\"'\n",
      "Skipping line 92829: ';' expected after '\"'\n",
      "Skipping line 92856: ';' expected after '\"'\n",
      "Skipping line 92948: ';' expected after '\"'\n",
      "Skipping line 93118: ';' expected after '\"'\n",
      "Skipping line 93289: ';' expected after '\"'\n",
      "Skipping line 93299: ';' expected after '\"'\n",
      "Skipping line 93760: ';' expected after '\"'\n",
      "Skipping line 93862: ';' expected after '\"'\n",
      "Skipping line 94130: ';' expected after '\"'\n",
      "Skipping line 94236: ';' expected after '\"'\n",
      "Skipping line 94316: ';' expected after '\"'\n",
      "Skipping line 94735: ';' expected after '\"'\n",
      "Skipping line 95058: ';' expected after '\"'\n",
      "Skipping line 95075: ';' expected after '\"'\n",
      "Skipping line 95244: ';' expected after '\"'\n",
      "Skipping line 95248: ';' expected after '\"'\n",
      "Skipping line 95342: ';' expected after '\"'\n",
      "Skipping line 95455: ';' expected after '\"'\n",
      "Skipping line 95482: ';' expected after '\"'\n",
      "Skipping line 95768: ';' expected after '\"'\n",
      "Skipping line 96577: ';' expected after '\"'\n",
      "Skipping line 96795: ';' expected after '\"'\n",
      "Skipping line 96899: ';' expected after '\"'\n",
      "Skipping line 97100: ';' expected after '\"'\n",
      "Skipping line 97300: ';' expected after '\"'\n",
      "Skipping line 98038: ';' expected after '\"'\n",
      "Skipping line 98119: ';' expected after '\"'\n",
      "Skipping line 98290: ';' expected after '\"'\n",
      "Skipping line 98344: ';' expected after '\"'\n",
      "Skipping line 98515: ';' expected after '\"'\n",
      "Skipping line 99472: ';' expected after '\"'\n",
      "Skipping line 100783: ';' expected after '\"'\n",
      "Skipping line 100797: ';' expected after '\"'\n",
      "Skipping line 101070: ';' expected after '\"'\n",
      "Skipping line 101472: ';' expected after '\"'\n",
      "Skipping line 101915: ';' expected after '\"'\n",
      "Skipping line 102249: ';' expected after '\"'\n",
      "Skipping line 102341: ';' expected after '\"'\n",
      "Skipping line 102440: ';' expected after '\"'\n",
      "Skipping line 103013: ';' expected after '\"'\n",
      "Skipping line 103090: ';' expected after '\"'\n",
      "Skipping line 103103: ';' expected after '\"'\n",
      "Skipping line 103653: ';' expected after '\"'\n",
      "Skipping line 103684: ';' expected after '\"'\n",
      "Skipping line 104047: ';' expected after '\"'\n",
      "Skipping line 104082: ';' expected after '\"'\n",
      "Skipping line 104319: ';' expected after '\"'\n",
      "Skipping line 104771: ';' expected after '\"'\n",
      "Skipping line 105170: ';' expected after '\"'\n",
      "Skipping line 105209: ';' expected after '\"'\n",
      "Skipping line 105342: ';' expected after '\"'\n",
      "Skipping line 105641: ';' expected after '\"'\n",
      "Skipping line 105770: ';' expected after '\"'\n",
      "Skipping line 105836: ';' expected after '\"'\n",
      "Skipping line 105893: ';' expected after '\"'\n",
      "Skipping line 106183: ';' expected after '\"'\n",
      "Skipping line 106320: ';' expected after '\"'\n",
      "Skipping line 106949: ';' expected after '\"'\n",
      "Skipping line 106976: ';' expected after '\"'\n",
      "Skipping line 107052: ';' expected after '\"'\n",
      "Skipping line 107299: ';' expected after '\"'\n",
      "Skipping line 107331: ';' expected after '\"'\n",
      "Skipping line 107357: ';' expected after '\"'\n",
      "Skipping line 107511: ';' expected after '\"'\n",
      "Skipping line 107551: ';' expected after '\"'\n",
      "Skipping line 107634: ';' expected after '\"'\n",
      "Skipping line 107763: ';' expected after '\"'\n",
      "Skipping line 107822: ';' expected after '\"'\n",
      "Skipping line 108142: ';' expected after '\"'\n",
      "Skipping line 108289: ';' expected after '\"'\n",
      "Skipping line 108529: ';' expected after '\"'\n",
      "Skipping line 108567: ';' expected after '\"'\n",
      "Skipping line 108900: ';' expected after '\"'\n",
      "Skipping line 109021: ';' expected after '\"'\n",
      "Skipping line 109643: ';' expected after '\"'\n",
      "Skipping line 109944: ';' expected after '\"'\n",
      "Skipping line 110041: ';' expected after '\"'\n",
      "Skipping line 110048: ';' expected after '\"'\n",
      "Skipping line 110548: ';' expected after '\"'\n",
      "Skipping line 110752: ';' expected after '\"'\n",
      "Skipping line 111038: ';' expected after '\"'\n",
      "Skipping line 111040: ';' expected after '\"'\n",
      "Skipping line 111174: ';' expected after '\"'\n",
      "Skipping line 111222: ';' expected after '\"'\n",
      "Skipping line 111543: ';' expected after '\"'\n",
      "Skipping line 111851: ';' expected after '\"'\n",
      "Skipping line 111852: ';' expected after '\"'\n",
      "Skipping line 111878: ';' expected after '\"'\n",
      "Skipping line 111954: ';' expected after '\"'\n",
      "Skipping line 111990: ';' expected after '\"'\n",
      "Skipping line 112119: ';' expected after '\"'\n",
      "Skipping line 112121: ';' expected after '\"'\n",
      "Skipping line 112282: ';' expected after '\"'\n",
      "Skipping line 112965: ';' expected after '\"'\n",
      "Skipping line 113461: ';' expected after '\"'\n",
      "Skipping line 113731: ';' expected after '\"'\n",
      "Skipping line 114070: ';' expected after '\"'\n",
      "Skipping line 114783: ';' expected after '\"'\n",
      "Skipping line 114934: ';' expected after '\"'\n",
      "Skipping line 115215: ';' expected after '\"'\n",
      "Skipping line 115493: ';' expected after '\"'\n",
      "Skipping line 115508: ';' expected after '\"'\n",
      "Skipping line 115751: ';' expected after '\"'\n",
      "Skipping line 116002: ';' expected after '\"'\n",
      "Skipping line 116049: ';' expected after '\"'\n",
      "Skipping line 116144: ';' expected after '\"'\n",
      "Skipping line 116171: ';' expected after '\"'\n",
      "Skipping line 116179: ';' expected after '\"'\n",
      "Skipping line 116463: ';' expected after '\"'\n",
      "Skipping line 117147: ';' expected after '\"'\n",
      "Skipping line 117176: ';' expected after '\"'\n",
      "Skipping line 117368: ';' expected after '\"'\n",
      "Skipping line 117997: ';' expected after '\"'\n",
      "Skipping line 118007: ';' expected after '\"'\n",
      "Skipping line 118225: ';' expected after '\"'\n",
      "Skipping line 118272: ';' expected after '\"'\n",
      "Skipping line 118288: ';' expected after '\"'\n",
      "Skipping line 119009: ';' expected after '\"'\n",
      "Skipping line 119535: ';' expected after '\"'\n",
      "Skipping line 119548: ';' expected after '\"'\n",
      "Skipping line 119910: ';' expected after '\"'\n",
      "Skipping line 120219: ';' expected after '\"'\n",
      "Skipping line 121400: ';' expected after '\"'\n",
      "Skipping line 121421: ';' expected after '\"'\n",
      "Skipping line 121422: ';' expected after '\"'\n",
      "Skipping line 121480: ';' expected after '\"'\n",
      "Skipping line 121768: ';' expected after '\"'\n",
      "Skipping line 122100: ';' expected after '\"'\n",
      "Skipping line 122608: ';' expected after '\"'\n",
      "Skipping line 123031: ';' expected after '\"'\n",
      "Skipping line 123127: ';' expected after '\"'\n",
      "Skipping line 123490: ';' expected after '\"'\n",
      "Skipping line 123756: ';' expected after '\"'\n",
      "Skipping line 123931: ';' expected after '\"'\n",
      "Skipping line 124311: ';' expected after '\"'\n",
      "Skipping line 124946: ';' expected after '\"'\n",
      "Skipping line 125104: ';' expected after '\"'\n",
      "Skipping line 125505: ';' expected after '\"'\n",
      "Skipping line 126333: ';' expected after '\"'\n",
      "Skipping line 126756: ';' expected after '\"'\n",
      "Skipping line 127265: ';' expected after '\"'\n",
      "Skipping line 127745: ';' expected after '\"'\n",
      "Skipping line 128018: ';' expected after '\"'\n",
      "Skipping line 128631: ';' expected after '\"'\n",
      "Skipping line 128633: ';' expected after '\"'\n",
      "Skipping line 128635: ';' expected after '\"'\n",
      "Skipping line 129190: ';' expected after '\"'\n",
      "Skipping line 129668: ';' expected after '\"'\n",
      "Skipping line 129942: ';' expected after '\"'\n",
      "Skipping line 130220: ';' expected after '\"'\n",
      "Skipping line 130307: ';' expected after '\"'\n",
      "Skipping line 130448: ';' expected after '\"'\n",
      "Skipping line 130794: ';' expected after '\"'\n",
      "Skipping line 131400: ';' expected after '\"'\n",
      "Skipping line 131541: ';' expected after '\"'\n",
      "Skipping line 131571: ';' expected after '\"'\n",
      "Skipping line 131589: ';' expected after '\"'\n",
      "Skipping line 131591: ';' expected after '\"'\n",
      "Skipping line 131662: ';' expected after '\"'\n",
      "Skipping line 131999: ';' expected after '\"'\n",
      "Skipping line 132090: ';' expected after '\"'\n",
      "Skipping line 132362: ';' expected after '\"'\n",
      "Skipping line 132516: ';' expected after '\"'\n",
      "Skipping line 132970: ';' expected after '\"'\n",
      "Skipping line 133250: ';' expected after '\"'\n",
      "Skipping line 133252: ';' expected after '\"'\n",
      "Skipping line 133254: ';' expected after '\"'\n",
      "Skipping line 133362: ';' expected after '\"'\n",
      "Skipping line 133480: ';' expected after '\"'\n",
      "Skipping line 133523: ';' expected after '\"'\n",
      "Skipping line 133625: ';' expected after '\"'\n",
      "Skipping line 133996: ';' expected after '\"'\n",
      "Skipping line 133998: ';' expected after '\"'\n",
      "Skipping line 134001: ';' expected after '\"'\n",
      "Skipping line 134004: ';' expected after '\"'\n",
      "Skipping line 134006: ';' expected after '\"'\n",
      "Skipping line 134007: ';' expected after '\"'\n",
      "Skipping line 135052: ';' expected after '\"'\n",
      "Skipping line 135121: ';' expected after '\"'\n",
      "Skipping line 136649: ';' expected after '\"'\n",
      "Skipping line 136776: ';' expected after '\"'\n",
      "Skipping line 137577: ';' expected after '\"'\n",
      "Skipping line 137613: ';' expected after '\"'\n",
      "Skipping line 137936: ';' expected after '\"'\n",
      "Skipping line 137939: ';' expected after '\"'\n",
      "Skipping line 137965: ';' expected after '\"'\n",
      "Skipping line 138058: ';' expected after '\"'\n",
      "Skipping line 138060: ';' expected after '\"'\n",
      "Skipping line 138061: ';' expected after '\"'\n",
      "Skipping line 138062: ';' expected after '\"'\n",
      "Skipping line 138063: ';' expected after '\"'\n",
      "Skipping line 138064: ';' expected after '\"'\n",
      "Skipping line 138065: ';' expected after '\"'\n",
      "Skipping line 138311: ';' expected after '\"'\n",
      "Skipping line 138790: ';' expected after '\"'\n",
      "Skipping line 139139: ';' expected after '\"'\n",
      "Skipping line 139140: ';' expected after '\"'\n",
      "Skipping line 139341: ';' expected after '\"'\n",
      "Skipping line 139568: ';' expected after '\"'\n",
      "Skipping line 139586: ';' expected after '\"'\n",
      "Skipping line 139591: ';' expected after '\"'\n",
      "Skipping line 140406: ';' expected after '\"'\n",
      "Skipping line 140500: ';' expected after '\"'\n",
      "Skipping line 140618: ';' expected after '\"'\n",
      "Skipping line 140952: ';' expected after '\"'\n",
      "Skipping line 141433: ';' expected after '\"'\n",
      "Skipping line 141437: ';' expected after '\"'\n",
      "Skipping line 141661: ';' expected after '\"'\n",
      "Skipping line 141675: ';' expected after '\"'\n",
      "Skipping line 141744: ';' expected after '\"'\n",
      "Skipping line 141961: ';' expected after '\"'\n",
      "Skipping line 142003: ';' expected after '\"'\n",
      "Skipping line 142157: ';' expected after '\"'\n",
      "Skipping line 142607: ';' expected after '\"'\n",
      "Skipping line 142639: ';' expected after '\"'\n",
      "Skipping line 142732: ';' expected after '\"'\n",
      "Skipping line 143505: ';' expected after '\"'\n",
      "Skipping line 143664: ';' expected after '\"'\n",
      "Skipping line 143677: ';' expected after '\"'\n",
      "Skipping line 144058: ';' expected after '\"'\n",
      "Skipping line 145142: ';' expected after '\"'\n",
      "Skipping line 145177: ';' expected after '\"'\n",
      "Skipping line 145725: ';' expected after '\"'\n",
      "Skipping line 146593: ';' expected after '\"'\n",
      "Skipping line 146761: ';' expected after '\"'\n",
      "Skipping line 146953: ';' expected after '\"'\n",
      "Skipping line 147144: ';' expected after '\"'\n",
      "Skipping line 147267: ';' expected after '\"'\n",
      "Skipping line 147368: ';' expected after '\"'\n",
      "Skipping line 147902: ';' expected after '\"'\n",
      "Skipping line 148994: ';' expected after '\"'\n",
      "Skipping line 149202: ';' expected after '\"'\n",
      "Skipping line 149700: ';' expected after '\"'\n",
      "Skipping line 150315: ';' expected after '\"'\n",
      "Skipping line 150624: ';' expected after '\"'\n",
      "Skipping line 150759: ';' expected after '\"'\n",
      "Skipping line 150789: ';' expected after '\"'\n",
      "Skipping line 151117: ';' expected after '\"'\n",
      "Skipping line 151252: ';' expected after '\"'\n",
      "Skipping line 151335: ';' expected after '\"'\n",
      "Skipping line 152340: ';' expected after '\"'\n",
      "Skipping line 152557: ';' expected after '\"'\n",
      "Skipping line 152662: ';' expected after '\"'\n",
      "Skipping line 153921: ';' expected after '\"'\n",
      "Skipping line 154493: ';' expected after '\"'\n",
      "Skipping line 154607: ';' expected after '\"'\n",
      "Skipping line 154679: ';' expected after '\"'\n",
      "Skipping line 155080: ';' expected after '\"'\n",
      "Skipping line 155149: ';' expected after '\"'\n",
      "Skipping line 155677: ';' expected after '\"'\n",
      "Skipping line 155754: ';' expected after '\"'\n",
      "Skipping line 155966: ';' expected after '\"'\n",
      "Skipping line 156172: ';' expected after '\"'\n",
      "Skipping line 156273: ';' expected after '\"'\n",
      "Skipping line 156883: ';' expected after '\"'\n",
      "Skipping line 157128: ';' expected after '\"'\n",
      "Skipping line 158326: ';' expected after '\"'\n",
      "Skipping line 158329: ';' expected after '\"'\n",
      "Skipping line 158333: ';' expected after '\"'\n",
      "Skipping line 158540: ';' expected after '\"'\n",
      "Skipping line 158567: ';' expected after '\"'\n",
      "Skipping line 159031: ';' expected after '\"'\n",
      "Skipping line 159966: ';' expected after '\"'\n",
      "Skipping line 160139: ';' expected after '\"'\n",
      "Skipping line 160946: ';' expected after '\"'\n",
      "Skipping line 160975: ';' expected after '\"'\n",
      "Skipping line 161015: ';' expected after '\"'\n",
      "Skipping line 161227: ';' expected after '\"'\n",
      "Skipping line 161629: ';' expected after '\"'\n",
      "Skipping line 161889: ';' expected after '\"'\n",
      "Skipping line 161927: ';' expected after '\"'\n",
      "Skipping line 162335: ';' expected after '\"'\n",
      "Skipping line 162620: ';' expected after '\"'\n",
      "Skipping line 162664: ';' expected after '\"'\n",
      "Skipping line 162790: ';' expected after '\"'\n",
      "Skipping line 163058: ';' expected after '\"'\n",
      "Skipping line 163081: ';' expected after '\"'\n",
      "Skipping line 163134: ';' expected after '\"'\n",
      "Skipping line 163429: ';' expected after '\"'\n",
      "Skipping line 163633: ';' expected after '\"'\n",
      "Skipping line 163680: ';' expected after '\"'\n",
      "Skipping line 164365: ';' expected after '\"'\n",
      "Skipping line 164385: ';' expected after '\"'\n",
      "Skipping line 164639: ';' expected after '\"'\n",
      "Skipping line 164640: ';' expected after '\"'\n",
      "Skipping line 165005: ';' expected after '\"'\n",
      "Skipping line 165056: ';' expected after '\"'\n",
      "Skipping line 165169: ';' expected after '\"'\n",
      "Skipping line 165306: ';' expected after '\"'\n",
      "Skipping line 165317: ';' expected after '\"'\n",
      "Skipping line 165514: ';' expected after '\"'\n",
      "Skipping line 165946: ';' expected after '\"'\n",
      "Skipping line 166007: ';' expected after '\"'\n",
      "Skipping line 166120: ';' expected after '\"'\n",
      "Skipping line 166367: ';' expected after '\"'\n",
      "Skipping line 166404: ';' expected after '\"'\n",
      "Skipping line 166982: ';' expected after '\"'\n",
      "Skipping line 167285: ';' expected after '\"'\n",
      "Skipping line 167342: ';' expected after '\"'\n",
      "Skipping line 167492: ';' expected after '\"'\n",
      "Skipping line 167606: ';' expected after '\"'\n",
      "Skipping line 168620: ';' expected after '\"'\n",
      "Skipping line 169037: ';' expected after '\"'\n",
      "Skipping line 169206: ';' expected after '\"'\n",
      "Skipping line 169486: ';' expected after '\"'\n",
      "Skipping line 169549: ';' expected after '\"'\n",
      "Skipping line 169948: ';' expected after '\"'\n",
      "Skipping line 170417: ';' expected after '\"'\n",
      "Skipping line 170472: ';' expected after '\"'\n",
      "Skipping line 170503: ';' expected after '\"'\n",
      "Skipping line 170657: ';' expected after '\"'\n",
      "Skipping line 170909: ';' expected after '\"'\n",
      "Skipping line 171103: ';' expected after '\"'\n"
     ]
    },
    {
     "name": "stderr",
     "output_type": "stream",
     "text": [
      "Skipping line 171492: ';' expected after '\"'\n",
      "Skipping line 172648: ';' expected after '\"'\n",
      "Skipping line 172655: ';' expected after '\"'\n",
      "Skipping line 173268: ';' expected after '\"'\n",
      "Skipping line 173779: ';' expected after '\"'\n",
      "Skipping line 174525: ';' expected after '\"'\n",
      "Skipping line 174617: ';' expected after '\"'\n",
      "Skipping line 174914: ';' expected after '\"'\n",
      "Skipping line 175627: ';' expected after '\"'\n",
      "Skipping line 175836: ';' expected after '\"'\n",
      "Skipping line 176055: ';' expected after '\"'\n",
      "Skipping line 176218: ';' expected after '\"'\n",
      "Skipping line 176323: ';' expected after '\"'\n",
      "Skipping line 176463: ';' expected after '\"'\n",
      "Skipping line 176778: ';' expected after '\"'\n",
      "Skipping line 177387: ';' expected after '\"'\n",
      "Skipping line 177398: ';' expected after '\"'\n",
      "Skipping line 177568: ';' expected after '\"'\n",
      "Skipping line 177979: ';' expected after '\"'\n",
      "Skipping line 178833: ';' expected after '\"'\n",
      "Skipping line 179312: ';' expected after '\"'\n",
      "Skipping line 179568: ';' expected after '\"'\n",
      "Skipping line 180189: ';' expected after '\"'\n",
      "Skipping line 180284: ';' expected after '\"'\n",
      "Skipping line 180392: ';' expected after '\"'\n",
      "Skipping line 180664: ';' expected after '\"'\n",
      "Skipping line 180746: ';' expected after '\"'\n",
      "Skipping line 181126: ';' expected after '\"'\n",
      "Skipping line 181420: ';' expected after '\"'\n",
      "Skipping line 182335: ';' expected after '\"'\n",
      "Skipping line 182796: ';' expected after '\"'\n",
      "Skipping line 183086: ';' expected after '\"'\n",
      "Skipping line 183294: ';' expected after '\"'\n",
      "Skipping line 183444: ';' expected after '\"'\n",
      "Skipping line 183896: ';' expected after '\"'\n",
      "Skipping line 184373: ';' expected after '\"'\n",
      "Skipping line 184854: ';' expected after '\"'\n",
      "Skipping line 185067: ';' expected after '\"'\n",
      "Skipping line 185406: ';' expected after '\"'\n",
      "Skipping line 185738: ';' expected after '\"'\n",
      "Skipping line 185882: ';' expected after '\"'\n",
      "Skipping line 186633: ';' expected after '\"'\n",
      "Skipping line 186748: ';' expected after '\"'\n",
      "Skipping line 187243: ';' expected after '\"'\n",
      "Skipping line 187355: ';' expected after '\"'\n",
      "Skipping line 187446: ';' expected after '\"'\n",
      "Skipping line 187596: ';' expected after '\"'\n",
      "Skipping line 187847: ';' expected after '\"'\n",
      "Skipping line 187954: ';' expected after '\"'\n",
      "Skipping line 188170: ';' expected after '\"'\n",
      "Skipping line 188645: ';' expected after '\"'\n",
      "Skipping line 188812: ';' expected after '\"'\n",
      "Skipping line 188934: ';' expected after '\"'\n",
      "Skipping line 189288: ';' expected after '\"'\n",
      "Skipping line 189438: ';' expected after '\"'\n",
      "Skipping line 189651: ';' expected after '\"'\n",
      "Skipping line 189867: ';' expected after '\"'\n",
      "Skipping line 192028: ';' expected after '\"'\n",
      "Skipping line 192315: ';' expected after '\"'\n",
      "Skipping line 193103: ';' expected after '\"'\n",
      "Skipping line 193160: ';' expected after '\"'\n",
      "Skipping line 193582: ';' expected after '\"'\n",
      "Skipping line 193583: ';' expected after '\"'\n",
      "Skipping line 194544: ';' expected after '\"'\n",
      "Skipping line 194553: ';' expected after '\"'\n",
      "Skipping line 194683: ';' expected after '\"'\n",
      "Skipping line 194865: ';' expected after '\"'\n",
      "Skipping line 195213: ';' expected after '\"'\n",
      "Skipping line 195879: ';' expected after '\"'\n",
      "Skipping line 196652: ';' expected after '\"'\n",
      "Skipping line 196922: ';' expected after '\"'\n",
      "Skipping line 197202: ';' expected after '\"'\n",
      "Skipping line 197231: ';' expected after '\"'\n",
      "Skipping line 197376: ';' expected after '\"'\n",
      "Skipping line 197809: ';' expected after '\"'\n",
      "Skipping line 197820: ';' expected after '\"'\n",
      "Skipping line 197950: ';' expected after '\"'\n",
      "Skipping line 198076: ';' expected after '\"'\n",
      "Skipping line 198109: ';' expected after '\"'\n",
      "Skipping line 198133: ';' expected after '\"'\n",
      "Skipping line 198491: ';' expected after '\"'\n",
      "Skipping line 198688: ';' expected after '\"'\n",
      "Skipping line 199435: ';' expected after '\"'\n",
      "Skipping line 199501: ';' expected after '\"'\n",
      "Skipping line 200306: ';' expected after '\"'\n",
      "Skipping line 200908: ';' expected after '\"'\n",
      "Skipping line 201267: ';' expected after '\"'\n",
      "Skipping line 201651: ';' expected after '\"'\n",
      "Skipping line 202255: ';' expected after '\"'\n",
      "Skipping line 202365: ';' expected after '\"'\n",
      "Skipping line 202816: ';' expected after '\"'\n",
      "Skipping line 203064: ';' expected after '\"'\n",
      "Skipping line 203131: ';' expected after '\"'\n",
      "Skipping line 203240: ';' expected after '\"'\n",
      "Skipping line 203737: ';' expected after '\"'\n",
      "Skipping line 204300: ';' expected after '\"'\n",
      "Skipping line 205001: ';' expected after '\"'\n",
      "Skipping line 205962: ';' expected after '\"'\n",
      "Skipping line 207489: ';' expected after '\"'\n",
      "Skipping line 207692: ';' expected after '\"'\n",
      "Skipping line 208011: ';' expected after '\"'\n",
      "Skipping line 208339: ';' expected after '\"'\n",
      "Skipping line 208474: ';' expected after '\"'\n",
      "Skipping line 208675: ';' expected after '\"'\n",
      "Skipping line 208760: ';' expected after '\"'\n",
      "Skipping line 209070: ';' expected after '\"'\n",
      "Skipping line 209388: ';' expected after '\"'\n",
      "Skipping line 209552: ';' expected after '\"'\n",
      "Skipping line 209633: ';' expected after '\"'\n",
      "Skipping line 209634: ';' expected after '\"'\n",
      "Skipping line 210006: ';' expected after '\"'\n",
      "Skipping line 210047: ';' expected after '\"'\n",
      "Skipping line 210603: ';' expected after '\"'\n",
      "Skipping line 211122: ';' expected after '\"'\n",
      "Skipping line 211908: ';' expected after '\"'\n",
      "Skipping line 212421: ';' expected after '\"'\n",
      "Skipping line 212577: ';' expected after '\"'\n",
      "Skipping line 212579: ';' expected after '\"'\n",
      "Skipping line 212704: ';' expected after '\"'\n",
      "Skipping line 213285: ';' expected after '\"'\n",
      "Skipping line 213555: ';' expected after '\"'\n",
      "Skipping line 213847: ';' expected after '\"'\n",
      "Skipping line 214241: ';' expected after '\"'\n",
      "Skipping line 214872: ';' expected after '\"'\n",
      "Skipping line 214954: ';' expected after '\"'\n",
      "Skipping line 215024: ';' expected after '\"'\n",
      "Skipping line 215034: ';' expected after '\"'\n",
      "Skipping line 215165: ';' expected after '\"'\n",
      "Skipping line 215230: ';' expected after '\"'\n",
      "Skipping line 215267: ';' expected after '\"'\n",
      "Skipping line 215430: ';' expected after '\"'\n",
      "Skipping line 215638: ';' expected after '\"'\n",
      "Skipping line 216364: ';' expected after '\"'\n",
      "Skipping line 216508: ';' expected after '\"'\n",
      "Skipping line 216515: ';' expected after '\"'\n",
      "Skipping line 216518: ';' expected after '\"'\n",
      "Skipping line 216523: ';' expected after '\"'\n",
      "Skipping line 216524: ';' expected after '\"'\n",
      "Skipping line 216530: ';' expected after '\"'\n",
      "Skipping line 216768: ';' expected after '\"'\n",
      "Skipping line 216793: ';' expected after '\"'\n",
      "Skipping line 216829: ';' expected after '\"'\n",
      "Skipping line 217785: ';' expected after '\"'\n",
      "Skipping line 217842: ';' expected after '\"'\n",
      "Skipping line 218054: ';' expected after '\"'\n",
      "Skipping line 218477: ';' expected after '\"'\n",
      "Skipping line 218620: ';' expected after '\"'\n",
      "Skipping line 218627: ';' expected after '\"'\n",
      "Skipping line 218633: ';' expected after '\"'\n",
      "Skipping line 218732: ';' expected after '\"'\n",
      "Skipping line 219354: ';' expected after '\"'\n",
      "Skipping line 219797: ';' expected after '\"'\n",
      "Skipping line 219926: ';' expected after '\"'\n",
      "Skipping line 220330: ';' expected after '\"'\n",
      "Skipping line 220370: ';' expected after '\"'\n",
      "Skipping line 220626: ';' expected after '\"'\n",
      "Skipping line 220746: ';' expected after '\"'\n",
      "Skipping line 221109: ';' expected after '\"'\n",
      "Skipping line 221180: ';' expected after '\"'\n",
      "Skipping line 221502: ';' expected after '\"'\n",
      "Skipping line 221693: ';' expected after '\"'\n",
      "Skipping line 222154: ';' expected after '\"'\n",
      "Skipping line 222911: ';' expected after '\"'\n",
      "Skipping line 223498: ';' expected after '\"'\n",
      "Skipping line 224123: ';' expected after '\"'\n",
      "Skipping line 224820: ';' expected after '\"'\n",
      "Skipping line 225101: ';' expected after '\"'\n",
      "Skipping line 225242: ';' expected after '\"'\n",
      "Skipping line 225399: ';' expected after '\"'\n",
      "Skipping line 225825: ';' expected after '\"'\n",
      "Skipping line 226144: ';' expected after '\"'\n",
      "Skipping line 226897: ';' expected after '\"'\n",
      "Skipping line 227645: ';' expected after '\"'\n",
      "Skipping line 227933: ';' expected after '\"'\n",
      "Skipping line 228111: ';' expected after '\"'\n",
      "Skipping line 228382: ';' expected after '\"'\n",
      "Skipping line 228687: ';' expected after '\"'\n",
      "Skipping line 228957: ';' expected after '\"'\n",
      "Skipping line 229187: ';' expected after '\"'\n",
      "Skipping line 229345: ';' expected after '\"'\n",
      "Skipping line 229499: ';' expected after '\"'\n",
      "Skipping line 229655: ';' expected after '\"'\n",
      "Skipping line 229792: ';' expected after '\"'\n",
      "Skipping line 230398: ';' expected after '\"'\n",
      "Skipping line 230714: ';' expected after '\"'\n",
      "Skipping line 231244: ';' expected after '\"'\n",
      "Skipping line 231272: ';' expected after '\"'\n",
      "Skipping line 231617: ';' expected after '\"'\n",
      "Skipping line 231800: ';' expected after '\"'\n",
      "Skipping line 231890: ';' expected after '\"'\n",
      "Skipping line 232328: ';' expected after '\"'\n",
      "Skipping line 232561: ';' expected after '\"'\n",
      "Skipping line 233014: ';' expected after '\"'\n",
      "Skipping line 233056: ';' expected after '\"'\n",
      "Skipping line 233917: ';' expected after '\"'\n",
      "Skipping line 233999: ';' expected after '\"'\n",
      "Skipping line 234353: ';' expected after '\"'\n",
      "Skipping line 234467: ';' expected after '\"'\n",
      "Skipping line 235072: ';' expected after '\"'\n",
      "Skipping line 236109: ';' expected after '\"'\n",
      "Skipping line 236438: ';' expected after '\"'\n",
      "Skipping line 236718: ';' expected after '\"'\n",
      "Skipping line 237419: ';' expected after '\"'\n",
      "Skipping line 237452: ';' expected after '\"'\n",
      "Skipping line 237995: ';' expected after '\"'\n",
      "Skipping line 238317: ';' expected after '\"'\n",
      "Skipping line 238333: ';' expected after '\"'\n",
      "Skipping line 238809: ';' expected after '\"'\n",
      "Skipping line 238927: ';' expected after '\"'\n",
      "Skipping line 239029: ';' expected after '\"'\n",
      "Skipping line 239262: ';' expected after '\"'\n",
      "Skipping line 239276: ';' expected after '\"'\n",
      "Skipping line 239280: ';' expected after '\"'\n",
      "Skipping line 239404: ';' expected after '\"'\n",
      "Skipping line 239449: ';' expected after '\"'\n",
      "Skipping line 239775: ';' expected after '\"'\n",
      "Skipping line 239782: ';' expected after '\"'\n",
      "Skipping line 241511: ';' expected after '\"'\n",
      "Skipping line 241757: ';' expected after '\"'\n",
      "Skipping line 242034: ';' expected after '\"'\n",
      "Skipping line 242076: ';' expected after '\"'\n",
      "Skipping line 242195: ';' expected after '\"'\n",
      "Skipping line 242199: ';' expected after '\"'\n",
      "Skipping line 242369: ';' expected after '\"'\n",
      "Skipping line 242542: ';' expected after '\"'\n",
      "Skipping line 242550: ';' expected after '\"'\n",
      "Skipping line 243351: ';' expected after '\"'\n",
      "Skipping line 243704: ';' expected after '\"'\n",
      "Skipping line 244207: ';' expected after '\"'\n",
      "Skipping line 244557: ';' expected after '\"'\n",
      "Skipping line 244799: ';' expected after '\"'\n",
      "Skipping line 244864: ';' expected after '\"'\n",
      "Skipping line 245110: ';' expected after '\"'\n",
      "Skipping line 245317: ';' expected after '\"'\n",
      "Skipping line 245414: ';' expected after '\"'\n",
      "Skipping line 245729: ';' expected after '\"'\n",
      "Skipping line 245933: ';' expected after '\"'\n",
      "Skipping line 246351: ';' expected after '\"'\n",
      "Skipping line 246811: ';' expected after '\"'\n",
      "Skipping line 246877: ';' expected after '\"'\n",
      "Skipping line 246990: ';' expected after '\"'\n",
      "Skipping line 247354: ';' expected after '\"'\n"
     ]
    },
    {
     "name": "stderr",
     "output_type": "stream",
     "text": [
      "Skipping line 248581: ';' expected after '\"'\n",
      "Skipping line 249082: ';' expected after '\"'\n",
      "Skipping line 249549: ';' expected after '\"'\n",
      "Skipping line 249612: ';' expected after '\"'\n",
      "Skipping line 249797: ';' expected after '\"'\n",
      "Skipping line 249913: ';' expected after '\"'\n",
      "Skipping line 249989: ';' expected after '\"'\n",
      "Skipping line 250051: ';' expected after '\"'\n",
      "Skipping line 250145: ';' expected after '\"'\n",
      "Skipping line 250388: ';' expected after '\"'\n",
      "Skipping line 250403: ';' expected after '\"'\n",
      "Skipping line 250404: ';' expected after '\"'\n",
      "Skipping line 250440: ';' expected after '\"'\n",
      "Skipping line 250767: ';' expected after '\"'\n",
      "Skipping line 251090: ';' expected after '\"'\n",
      "Skipping line 251296: ';' expected after '\"'\n",
      "Skipping line 251297: ';' expected after '\"'\n",
      "Skipping line 252116: ';' expected after '\"'\n",
      "Skipping line 252233: ';' expected after '\"'\n",
      "Skipping line 253468: ';' expected after '\"'\n",
      "Skipping line 253871: ';' expected after '\"'\n",
      "Skipping line 253894: ';' expected after '\"'\n",
      "Skipping line 253930: ';' expected after '\"'\n",
      "Skipping line 254172: ';' expected after '\"'\n",
      "Skipping line 254209: ';' expected after '\"'\n",
      "Skipping line 254859: ';' expected after '\"'\n",
      "Skipping line 254880: ';' expected after '\"'\n",
      "Skipping line 255062: ';' expected after '\"'\n",
      "Skipping line 255209: ';' expected after '\"'\n",
      "Skipping line 255822: ';' expected after '\"'\n",
      "Skipping line 256961: ';' expected after '\"'\n",
      "Skipping line 257600: ';' expected after '\"'\n",
      "Skipping line 258688: ';' expected after '\"'\n",
      "Skipping line 258873: ';' expected after '\"'\n",
      "Skipping line 258922: ';' expected after '\"'\n",
      "Skipping line 259387: ';' expected after '\"'\n",
      "Skipping line 259671: ';' expected after '\"'\n",
      "Skipping line 259941: ';' expected after '\"'\n",
      "Skipping line 260581: ';' expected after '\"'\n",
      "Skipping line 260625: ';' expected after '\"'\n",
      "Skipping line 260776: ';' expected after '\"'\n",
      "Skipping line 261529: ';' expected after '\"'\n",
      "Skipping line 261531: ';' expected after '\"'\n",
      "Skipping line 261626: ';' expected after '\"'\n",
      "Skipping line 261770: ';' expected after '\"'\n",
      "Skipping line 262168: ';' expected after '\"'\n",
      "Skipping line 262543: ';' expected after '\"'\n",
      "Skipping line 262544: ';' expected after '\"'\n",
      "Skipping line 262667: ';' expected after '\"'\n",
      "Skipping line 262711: ';' expected after '\"'\n",
      "Skipping line 263847: ';' expected after '\"'\n",
      "Skipping line 263870: ';' expected after '\"'\n",
      "Skipping line 263893: ';' expected after '\"'\n",
      "Skipping line 264104: ';' expected after '\"'\n",
      "Skipping line 264135: ';' expected after '\"'\n",
      "Skipping line 264753: ';' expected after '\"'\n",
      "Skipping line 264840: ';' expected after '\"'\n",
      "Skipping line 264976: ';' expected after '\"'\n",
      "Skipping line 265097: ';' expected after '\"'\n",
      "Skipping line 266221: ';' expected after '\"'\n",
      "Skipping line 267107: ';' expected after '\"'\n",
      "Skipping line 267207: ';' expected after '\"'\n",
      "Skipping line 267322: ';' expected after '\"'\n",
      "Skipping line 267622: ';' expected after '\"'\n",
      "Skipping line 267820: ';' expected after '\"'\n",
      "Skipping line 268025: ';' expected after '\"'\n",
      "Skipping line 268160: ';' expected after '\"'\n",
      "Skipping line 268278: ';' expected after '\"'\n",
      "Skipping line 268315: ';' expected after '\"'\n",
      "Skipping line 268361: ';' expected after '\"'\n",
      "Skipping line 268921: ';' expected after '\"'\n",
      "Skipping line 269121: ';' expected after '\"'\n",
      "Skipping line 269285: ';' expected after '\"'\n",
      "Skipping line 269402: ';' expected after '\"'\n",
      "Skipping line 269638: ';' expected after '\"'\n",
      "Skipping line 270486: ';' expected after '\"'\n",
      "Skipping line 270558: ';' expected after '\"'\n",
      "Skipping line 270821: ';' expected after '\"'\n",
      "Skipping line 271173: ';' expected after '\"'\n",
      "Skipping line 271192: ';' expected after '\"'\n",
      "Skipping line 21689: ';' expected after '\"'\n",
      "Skipping line 45329: ';' expected after '\"'\n",
      "Skipping line 45330: ';' expected after '\"'\n",
      "Skipping line 183262: ';' expected after '\"'\n",
      "Skipping line 210093: ';' expected after '\"'\n",
      "Skipping line 531938: ';' expected after '\"'\n",
      "Skipping line 663237: ';' expected after '\"'\n",
      "Skipping line 824822: ';' expected after '\"'\n",
      "Skipping line 877349: ';' expected after '\"'\n",
      "Skipping line 941679: ';' expected after '\"'\n",
      "Skipping line 1134132: ';' expected after '\"'\n",
      "Skipping line 1145176: ';' expected after '\"'\n",
      "Skipping line 1145177: ';' expected after '\"'\n",
      "Skipping line 1148551: ';' expected after '\"'\n"
     ]
    }
   ],
   "source": [
    "#Import dei dataset con le informazioni:\n",
    "#user.cvs -> info sugli utenti\n",
    "#book.cvs -> info su i libri\n",
    "#ratings.cvs -> votazioni che utenti hanno dati ai libri\n",
    "#Inoltre, l'import elimina tutte le righe dei dataset che non sono corrette \n",
    "users = pd.read_csv('Users.csv', error_bad_lines=False, delimiter=';', encoding = 'ISO-8859-1')\n",
    "books = pd.read_csv('Books.csv', error_bad_lines=False, delimiter=';', engine = 'python' , encoding = 'ISO-8859-1')\n",
    "ratings = pd.read_csv('Ratings.csv', error_bad_lines=False, delimiter=';', engine = 'python' , encoding = 'ISO-8859-1')"
   ]
  },
  {
   "cell_type": "code",
   "execution_count": 215,
   "metadata": {
    "id": "R-Tp91-T-bWx"
   },
   "outputs": [],
   "source": [
    "#Inizia la fase di preparazione dei dati di ratings\n",
    "#Rimuoviamo tutti i duplicati presenti\n",
    "ratings.drop_duplicates(inplace=True, keep='first') "
   ]
  },
  {
   "cell_type": "code",
   "execution_count": 216,
   "metadata": {
    "colab": {
     "base_uri": "https://localhost:8080/"
    },
    "id": "bv36K5yf-eJf",
    "outputId": "29e1f27c-4556-40f7-eb14-c8021ac914f9"
   },
   "outputs": [
    {
     "name": "stdout",
     "output_type": "stream",
     "text": [
      "(1149766, 3)\n"
     ]
    }
   ],
   "source": [
    "#Rimuoviamo le righe di rating che sono nulle\n",
    "ratings = ratings.dropna()\n",
    "#stampiamo la dimesione della tabella di ratings\n",
    "print(ratings.shape)"
   ]
  },
  {
   "cell_type": "code",
   "execution_count": 217,
   "metadata": {
    "colab": {
     "base_uri": "https://localhost:8080/"
    },
    "id": "nIHD-9vN-kCW",
    "outputId": "824eef78-d8c0-4793-f5f8-8913584dc411"
   },
   "outputs": [
    {
     "data": {
      "text/plain": [
       "2.8669059617348225"
      ]
     },
     "execution_count": 217,
     "metadata": {},
     "output_type": "execute_result"
    }
   ],
   "source": [
    "#stampiamo la media delle votazioni\n",
    "ratings['Book-Rating'].mean()"
   ]
  },
  {
   "cell_type": "code",
   "execution_count": 218,
   "metadata": {
    "colab": {
     "base_uri": "https://localhost:8080/"
    },
    "id": "AknctxUd-o3C",
    "outputId": "1001caaf-b045-43c1-ef88-17f507d8855c"
   },
   "outputs": [
    {
     "name": "stdout",
     "output_type": "stream",
     "text": [
      "<class 'pandas.core.frame.DataFrame'>\n",
      "Int64Index: 433659 entries, 1 to 1149765\n",
      "Data columns (total 3 columns):\n",
      " #   Column       Non-Null Count   Dtype \n",
      "---  ------       --------------   ----- \n",
      " 0   User-ID      433659 non-null  int64 \n",
      " 1   ISBN         433659 non-null  object\n",
      " 2   Book-Rating  433659 non-null  int64 \n",
      "dtypes: int64(2), object(1)\n",
      "memory usage: 13.2+ MB\n"
     ]
    }
   ],
   "source": [
    "#rimuoviamo da rating tutte le votazioni dei libri uguali a 0\n",
    "ratings = ratings[ratings['Book-Rating'] != 0]\n",
    "ratings.info()"
   ]
  },
  {
   "cell_type": "code",
   "execution_count": 219,
   "metadata": {
    "colab": {
     "base_uri": "https://localhost:8080/"
    },
    "id": "t1TmRIEGA9Sd",
    "outputId": "a801c763-6f05-4869-bb45-de372af9bd12"
   },
   "outputs": [
    {
     "data": {
      "text/plain": [
       "count    278858.00000\n",
       "mean     139429.50000\n",
       "std       80499.51502\n",
       "min           1.00000\n",
       "25%       69715.25000\n",
       "50%      139429.50000\n",
       "75%      209143.75000\n",
       "max      278858.00000\n",
       "Name: User-ID, dtype: float64"
      ]
     },
     "execution_count": 219,
     "metadata": {},
     "output_type": "execute_result"
    }
   ],
   "source": [
    "#Inizia la fase di preparazione dei dati di user\n",
    "#stampiamo le informazioni di user-id\n",
    "users['User-ID'].describe()"
   ]
  },
  {
   "cell_type": "code",
   "execution_count": 220,
   "metadata": {
    "colab": {
     "base_uri": "https://localhost:8080/"
    },
    "id": "cf0B3S-wA1U0",
    "outputId": "dd77bb56-916f-422d-e031-82f955315fbd"
   },
   "outputs": [
    {
     "name": "stdout",
     "output_type": "stream",
     "text": [
      "0\n"
     ]
    }
   ],
   "source": [
    "#Stampa la somma di tutti gli userid che sono null\n",
    "print(users['User-ID'].isnull().sum())"
   ]
  },
  {
   "cell_type": "code",
   "execution_count": 221,
   "metadata": {
    "id": "oqAGDQKsA3Fi"
   },
   "outputs": [],
   "source": [
    "#andiamo ad eliminare tutti gli user che sono null\n",
    "users_df0 = users.dropna()"
   ]
  },
  {
   "cell_type": "code",
   "execution_count": 222,
   "metadata": {
    "colab": {
     "base_uri": "https://localhost:8080/"
    },
    "id": "hAH5nE2o-4Ef",
    "outputId": "84009504-b206-46e9-8d8b-48ca037a15ea"
   },
   "outputs": [
    {
     "data": {
      "text/plain": [
       "1              2\n",
       "3              4\n",
       "5              6\n",
       "9             10\n",
       "10            11\n",
       "           ...  \n",
       "278848    278849\n",
       "278850    278851\n",
       "278851    278852\n",
       "278852    278853\n",
       "278854    278855\n",
       "Name: User-ID, Length: 168096, dtype: int64"
      ]
     },
     "execution_count": 222,
     "metadata": {},
     "output_type": "execute_result"
    }
   ],
   "source": [
    "#gli userid erano scritti come float e li trasformiamo in int\n",
    "users_df0['User-ID'].astype(np.int64)"
   ]
  },
  {
   "cell_type": "code",
   "execution_count": null,
   "metadata": {
    "colab": {
     "base_uri": "https://localhost:8080/",
     "height": 136
    },
    "id": "8a9Chh0a-6Zi",
    "outputId": "d6ef0d2f-f237-40a8-a0fe-024af6552f8e"
   },
   "outputs": [],
   "source": []
  },
  {
   "cell_type": "code",
   "execution_count": 223,
   "metadata": {
    "id": "ayrkt0ex-7IT"
   },
   "outputs": [],
   "source": [
    "#Merge tra ratings e user\n",
    "B1 = pd.merge(ratings, users_df0, on='User-ID', how='left')"
   ]
  },
  {
   "cell_type": "code",
   "execution_count": 224,
   "metadata": {
    "id": "K5Gn0Khi_Ag9"
   },
   "outputs": [],
   "source": [
    "#Merge b1 e books\n",
    "B2 = pd.merge(B1, books, on='ISBN', how='left')"
   ]
  },
  {
   "cell_type": "code",
   "execution_count": 225,
   "metadata": {
    "colab": {
     "base_uri": "https://localhost:8080/"
    },
    "id": "sGnU3lKl_E39",
    "outputId": "06b9e57e-e234-4f7e-c99e-4c57f040237c"
   },
   "outputs": [
    {
     "name": "stdout",
     "output_type": "stream",
     "text": [
      "(268917, 12)\n"
     ]
    }
   ],
   "source": [
    "#Cancelliamo tutti i dati che sono null\n",
    "B3 = B2.dropna()\n",
    "#Abbiamo ottenuto una tabella unita e di molto ridotta rispetto alle tabelle iniziali\n",
    "print(B3.shape)"
   ]
  },
  {
   "cell_type": "code",
   "execution_count": 226,
   "metadata": {
    "colab": {
     "base_uri": "https://localhost:8080/"
    },
    "id": "B2otZjPXGwhb",
    "outputId": "4d9c7fb2-3516-4463-e7a7-1094aa374ded"
   },
   "outputs": [
    {
     "name": "stderr",
     "output_type": "stream",
     "text": [
      "C:\\Users\\pavil\\miniconda3\\lib\\site-packages\\pandas\\core\\frame.py:4438: SettingWithCopyWarning: \n",
      "A value is trying to be set on a copy of a slice from a DataFrame\n",
      "\n",
      "See the caveats in the documentation: https://pandas.pydata.org/pandas-docs/stable/user_guide/indexing.html#returning-a-view-versus-a-copy\n",
      "  return super().rename(\n"
     ]
    }
   ],
   "source": [
    "#Rinominiamo le colonne\n",
    "B3.rename(columns={\n",
    "    'User-ID': 'User_ID', \n",
    "    'Book-Rating': 'Book_Rating', \n",
    "    'Book-Title': 'Book_Title',\n",
    "    'Book-Author': 'Book_Author',\n",
    "    'Year-Of-Publication': 'Year_Of_Publication'\n",
    "}, inplace=True)"
   ]
  },
  {
   "cell_type": "code",
   "execution_count": 227,
   "metadata": {
    "colab": {
     "base_uri": "https://localhost:8080/"
    },
    "id": "9O3dKcDP_K3d",
    "outputId": "1c96d100-eb83-40e7-dfaf-bcb2e7ea52b9"
   },
   "outputs": [
    {
     "name": "stdout",
     "output_type": "stream",
     "text": [
      "<class 'pandas.core.frame.DataFrame'>\n",
      "Int64Index: 268917 entries, 1 to 433657\n",
      "Data columns (total 12 columns):\n",
      " #   Column               Non-Null Count   Dtype  \n",
      "---  ------               --------------   -----  \n",
      " 0   User_ID              268917 non-null  int64  \n",
      " 1   ISBN                 268917 non-null  object \n",
      " 2   Book_Rating          268917 non-null  int64  \n",
      " 3   Location             268917 non-null  object \n",
      " 4   Age                  268917 non-null  float64\n",
      " 5   Book_Title           268917 non-null  object \n",
      " 6   Book_Author          268917 non-null  object \n",
      " 7   Year_Of_Publication  268917 non-null  float64\n",
      " 8   Publisher            268917 non-null  object \n",
      " 9   Image-URL-S          268917 non-null  object \n",
      " 10  Image-URL-M          268917 non-null  object \n",
      " 11  Image-URL-L          268917 non-null  object \n",
      "dtypes: float64(2), int64(2), object(8)\n",
      "memory usage: 26.7+ MB\n"
     ]
    }
   ],
   "source": [
    "B3.info()"
   ]
  },
  {
   "cell_type": "code",
   "execution_count": 228,
   "metadata": {
    "id": "_OuwoftX_Mq5"
   },
   "outputs": [],
   "source": [
    "bn = B3[\"Book_Title\"].value_counts()"
   ]
  },
  {
   "cell_type": "code",
   "execution_count": 229,
   "metadata": {
    "colab": {
     "base_uri": "https://localhost:8080/"
    },
    "id": "W1uAfCqh_OsA",
    "outputId": "250a0caf-b158-4ef3-bcc9-f58024390ed6"
   },
   "outputs": [
    {
     "data": {
      "text/plain": [
       "98391     5687\n",
       "153662    1843\n",
       "235105    1020\n",
       "171118     959\n",
       "16795      956\n",
       "          ... \n",
       "64864        1\n",
       "77146        1\n",
       "217983       1\n",
       "87381        1\n",
       "140228       1\n",
       "Name: User_ID, Length: 40490, dtype: int64"
      ]
     },
     "execution_count": 229,
     "metadata": {},
     "output_type": "execute_result"
    }
   ],
   "source": [
    "B3[\"User_ID\"].value_counts()"
   ]
  },
  {
   "cell_type": "code",
   "execution_count": 230,
   "metadata": {
    "colab": {
     "base_uri": "https://localhost:8080/"
    },
    "id": "jbOoJtIr_QQC",
    "outputId": "03ca9999-9bc0-419e-f989-52b9f0f912cb"
   },
   "outputs": [
    {
     "data": {
      "text/plain": [
       "count     268917\n",
       "unique     40490\n",
       "top        98391\n",
       "freq        5687\n",
       "Name: User_ID, dtype: object"
      ]
     },
     "execution_count": 230,
     "metadata": {},
     "output_type": "execute_result"
    }
   ],
   "source": [
    "user = B3['User_ID'].astype(\"str\")\n",
    "user.describe()"
   ]
  },
  {
   "cell_type": "code",
   "execution_count": 231,
   "metadata": {
    "colab": {
     "base_uri": "https://localhost:8080/"
    },
    "id": "7rNVXlPX_RSY",
    "outputId": "4fa2ee8b-728a-4d0e-f1b2-4ea4ecab4063"
   },
   "outputs": [
    {
     "data": {
      "text/plain": [
       "(267701, 12)"
      ]
     },
     "execution_count": 231,
     "metadata": {},
     "output_type": "execute_result"
    }
   ],
   "source": [
    "#Eliminiamo tutti gli utenti che hanno età >= 80 || <= 10\n",
    "B4 = B3.drop(B3[B3['Age'] >= 80].index)\n",
    "B4.shape"
   ]
  },
  {
   "cell_type": "code",
   "execution_count": 232,
   "metadata": {
    "colab": {
     "base_uri": "https://localhost:8080/"
    },
    "id": "kZFvdpR-_UZr",
    "outputId": "5b78a56c-aab9-4f08-f194-9219367edd7a"
   },
   "outputs": [
    {
     "data": {
      "text/plain": [
       "(265986, 12)"
      ]
     },
     "execution_count": 232,
     "metadata": {},
     "output_type": "execute_result"
    }
   ],
   "source": [
    "B4 = B4.drop(B4[B4['Age'] <= 10].index)\n",
    "B4.shape"
   ]
  },
  {
   "cell_type": "code",
   "execution_count": 233,
   "metadata": {
    "colab": {
     "base_uri": "https://localhost:8080/"
    },
    "id": "GkAHn5L-_dC7",
    "outputId": "8683e26e-62d2-4596-8268-d3d446e65bce"
   },
   "outputs": [
    {
     "data": {
      "text/plain": [
       "(265964, 12)"
      ]
     },
     "execution_count": 233,
     "metadata": {},
     "output_type": "execute_result"
    }
   ],
   "source": [
    "#Eliminiarmo tutti i libri pubblicati dal 2010 in poi e prima del 1200\n",
    "B4 = B4.drop(B4[B4['Year_Of_Publication'] >= 2010].index)\n",
    "B4.shape"
   ]
  },
  {
   "cell_type": "code",
   "execution_count": 234,
   "metadata": {
    "colab": {
     "base_uri": "https://localhost:8080/"
    },
    "id": "o0NIqfSo_f69",
    "outputId": "6b445736-9448-4961-a186-2875985d8a7d"
   },
   "outputs": [
    {
     "data": {
      "text/plain": [
       "count    265964.000000\n",
       "mean       1965.268363\n",
       "std         244.926071\n",
       "min           0.000000\n",
       "25%        1992.000000\n",
       "50%        1998.000000\n",
       "75%        2001.000000\n",
       "max        2006.000000\n",
       "Name: Year_Of_Publication, dtype: float64"
      ]
     },
     "execution_count": 234,
     "metadata": {},
     "output_type": "execute_result"
    }
   ],
   "source": [
    "B4['Year_Of_Publication'].describe()"
   ]
  },
  {
   "cell_type": "code",
   "execution_count": 235,
   "metadata": {
    "colab": {
     "base_uri": "https://localhost:8080/"
    },
    "id": "uil9zSW8_hhw",
    "outputId": "f9a20f0b-24ec-430f-ae90-cb1440bd2565"
   },
   "outputs": [
    {
     "data": {
      "text/plain": [
       "(261900, 12)"
      ]
     },
     "execution_count": 235,
     "metadata": {},
     "output_type": "execute_result"
    }
   ],
   "source": [
    "B4 = B4.drop(B4[B4['Year_Of_Publication'] <= 1200].index)\n",
    "B4.shape"
   ]
  },
  {
   "cell_type": "code",
   "execution_count": 236,
   "metadata": {
    "id": "cShJ7qOn_jgq"
   },
   "outputs": [],
   "source": [
    "bn = B4[\"Book_Title\"].value_counts()"
   ]
  },
  {
   "cell_type": "code",
   "execution_count": 237,
   "metadata": {
    "colab": {
     "base_uri": "https://localhost:8080/",
     "height": 298
    },
    "id": "mQQlYBJf_lx0",
    "outputId": "e4704871-deb3-4c95-e839-a98854614a25"
   },
   "outputs": [
    {
     "data": {
      "text/plain": [
       "<AxesSubplot:title={'center':'Book_Rating Distribution'}, ylabel='Frequency'>"
      ]
     },
     "execution_count": 237,
     "metadata": {},
     "output_type": "execute_result"
    },
    {
     "data": {
      "image/png": "[encoded data removed]",
      "text/plain": [
       "<Figure size 432x288 with 1 Axes>"
      ]
     },
     "metadata": {
      "needs_background": "light"
     },
     "output_type": "display_data"
    }
   ],
   "source": [
    "#Assegnamo a user tutti gli id e ne eliminiamo i duplicati\n",
    "user = B4['User_ID']\n",
    "user.drop_duplicates(inplace=True, keep='first') \n",
    "\n",
    "#grafico che rappresenta la frequenza delle votazioni e la frequenza di una determinata età degli utenti\n",
    "#x (da 0 a 10) votazione dei libri, (da 11 a 80) età degli utenti\n",
    "#y frequenza di questi componenti\n",
    "user = pd.merge(user, B4, on='User_ID', how='left')\n",
    "user['Age'].plot(kind='hist', title='Age Distribution',)\n",
    "B4['Book_Rating'].plot(kind='hist', title='Book_Rating Distribution',)"
   ]
  },
  {
   "cell_type": "code",
   "execution_count": 238,
   "metadata": {
    "colab": {
     "base_uri": "https://localhost:8080/",
     "height": 419
    },
    "id": "RQkSHQO8_rex",
    "outputId": "e7c15cd5-b893-4a54-c4f7-4c3993569692"
   },
   "outputs": [
    {
     "data": {
      "image/png": "[encoded data removed]",
      "text/plain": [
       "<Figure size 2900x800 with 1 Axes>"
      ]
     },
     "metadata": {
      "needs_background": "light"
     },
     "output_type": "display_data"
    }
   ],
   "source": [
    "from matplotlib import pyplot as plt\n",
    "from matplotlib import font_manager\n",
    "\n",
    "#grafico con i 5 libri più apprezzati (*)\n",
    "data1 = B4.groupby(by=\"Book_Title\").count().sort_values(by=\"Book_Rating\", ascending=False)[:5][\"Book_Rating\"]\n",
    "_x = data1.index\n",
    "_y = data1.values\n",
    "\n",
    "\n",
    "plt.figure(figsize=(29,8), dpi=100)\n",
    "plt.bar(range(len(_x)), _y, width=0.5)\n",
    "\n",
    "plt.xticks(range(len(_x)), _x)\n",
    "plt.xlabel(\"Book Title\")\n",
    "plt.ylabel(\"Num Counts\")\n",
    "plt.title(\"Top Rated Books\")\n",
    "plt.show()"
   ]
  },
  {
   "cell_type": "code",
   "execution_count": 239,
   "metadata": {
    "id": "xRrluoxP_3Ba"
   },
   "outputs": [],
   "source": [
    "user = B4['User_ID'].astype(\"str\")"
   ]
  },
  {
   "cell_type": "code",
   "execution_count": 240,
   "metadata": {
    "colab": {
     "base_uri": "https://localhost:8080/"
    },
    "id": "TGKhANth_4Ha",
    "outputId": "a8f62d10-2a49-4e8b-8316-ffa6238fc017"
   },
   "outputs": [
    {
     "data": {
      "text/plain": [
       "98391     5687\n",
       "153662    1831\n",
       "235105    1017\n",
       "16795      953\n",
       "171118     951\n",
       "          ... \n",
       "97816        1\n",
       "99847        1\n",
       "236996       1\n",
       "245184       1\n",
       "82280        1\n",
       "Name: User_ID, Length: 39401, dtype: int64"
      ]
     },
     "execution_count": 240,
     "metadata": {},
     "output_type": "execute_result"
    }
   ],
   "source": [
    "B4[\"User_ID\"].value_counts()"
   ]
  },
  {
   "cell_type": "code",
   "execution_count": null,
   "metadata": {
    "colab": {
     "base_uri": "https://localhost:8080/",
     "height": 366
    },
    "id": "ctFrX92m_5hk",
    "outputId": "264921ce-1dc6-44d0-b03c-a5e975129a2f"
   },
   "outputs": [],
   "source": []
  },
  {
   "cell_type": "code",
   "execution_count": 241,
   "metadata": {
    "id": "rbAe6nju_9TR"
   },
   "outputs": [],
   "source": [
    "import numpy as np \n",
    "import pandas as pd \n",
    "import matplotlib.pyplot as plt\n",
    "import seaborn as sns\n",
    "import networkx as nx\n",
    "from networkx.algorithms import bipartite"
   ]
  },
  {
   "cell_type": "code",
   "execution_count": 242,
   "metadata": {
    "id": "ixJRH_WsDjX2"
   },
   "outputs": [],
   "source": [
    "#dataset su cui lavorare, ancora da modificare\n",
    "data = B4"
   ]
  },
  {
   "cell_type": "code",
   "execution_count": 243,
   "metadata": {
    "colab": {
     "base_uri": "https://localhost:8080/",
     "height": 791
    },
    "id": "2TU-w7LADoCK",
    "outputId": "fa50df86-fbce-41c7-b9a4-5ecc679a4923"
   },
   "outputs": [
    {
     "data": {
      "text/html": [
       "<div>\n",
       "<style scoped>\n",
       "    .dataframe tbody tr th:only-of-type {\n",
       "        vertical-align: middle;\n",
       "    }\n",
       "\n",
       "    .dataframe tbody tr th {\n",
       "        vertical-align: top;\n",
       "    }\n",
       "\n",
       "    .dataframe thead th {\n",
       "        text-align: right;\n",
       "    }\n",
       "</style>\n",
       "<table border=\"1\" class=\"dataframe\">\n",
       "  <thead>\n",
       "    <tr style=\"text-align: right;\">\n",
       "      <th></th>\n",
       "      <th>User_ID</th>\n",
       "      <th>ISBN</th>\n",
       "      <th>Book_Rating</th>\n",
       "      <th>Location</th>\n",
       "      <th>Age</th>\n",
       "      <th>Book_Title</th>\n",
       "      <th>Book_Author</th>\n",
       "      <th>Year_Of_Publication</th>\n",
       "      <th>Publisher</th>\n",
       "      <th>Image-URL-S</th>\n",
       "      <th>Image-URL-M</th>\n",
       "      <th>Image-URL-L</th>\n",
       "    </tr>\n",
       "  </thead>\n",
       "  <tbody>\n",
       "    <tr>\n",
       "      <th>1</th>\n",
       "      <td>276729</td>\n",
       "      <td>052165615X</td>\n",
       "      <td>3</td>\n",
       "      <td>rijeka, n/a, croatia</td>\n",
       "      <td>16.0</td>\n",
       "      <td>Help!: Level 1</td>\n",
       "      <td>Philip Prowse</td>\n",
       "      <td>1999.0</td>\n",
       "      <td>Cambridge University Press</td>\n",
       "      <td>http://images.amazon.com/images/P/052165615X.0...</td>\n",
       "      <td>http://images.amazon.com/images/P/052165615X.0...</td>\n",
       "      <td>http://images.amazon.com/images/P/052165615X.0...</td>\n",
       "    </tr>\n",
       "    <tr>\n",
       "      <th>2</th>\n",
       "      <td>276729</td>\n",
       "      <td>0521795028</td>\n",
       "      <td>6</td>\n",
       "      <td>rijeka, n/a, croatia</td>\n",
       "      <td>16.0</td>\n",
       "      <td>The Amsterdam Connection : Level 4 (Cambridge ...</td>\n",
       "      <td>Sue Leather</td>\n",
       "      <td>2001.0</td>\n",
       "      <td>Cambridge University Press</td>\n",
       "      <td>http://images.amazon.com/images/P/0521795028.0...</td>\n",
       "      <td>http://images.amazon.com/images/P/0521795028.0...</td>\n",
       "      <td>http://images.amazon.com/images/P/0521795028.0...</td>\n",
       "    </tr>\n",
       "    <tr>\n",
       "      <th>7</th>\n",
       "      <td>276747</td>\n",
       "      <td>0060517794</td>\n",
       "      <td>9</td>\n",
       "      <td>iowa city, iowa, usa</td>\n",
       "      <td>25.0</td>\n",
       "      <td>Little Altars Everywhere</td>\n",
       "      <td>Rebecca Wells</td>\n",
       "      <td>2003.0</td>\n",
       "      <td>HarperTorch</td>\n",
       "      <td>http://images.amazon.com/images/P/0060517794.0...</td>\n",
       "      <td>http://images.amazon.com/images/P/0060517794.0...</td>\n",
       "      <td>http://images.amazon.com/images/P/0060517794.0...</td>\n",
       "    </tr>\n",
       "    <tr>\n",
       "      <th>8</th>\n",
       "      <td>276747</td>\n",
       "      <td>0671537458</td>\n",
       "      <td>9</td>\n",
       "      <td>iowa city, iowa, usa</td>\n",
       "      <td>25.0</td>\n",
       "      <td>Waiting to Exhale</td>\n",
       "      <td>Terry McMillan</td>\n",
       "      <td>1995.0</td>\n",
       "      <td>Pocket</td>\n",
       "      <td>http://images.amazon.com/images/P/0671537458.0...</td>\n",
       "      <td>http://images.amazon.com/images/P/0671537458.0...</td>\n",
       "      <td>http://images.amazon.com/images/P/0671537458.0...</td>\n",
       "    </tr>\n",
       "    <tr>\n",
       "      <th>9</th>\n",
       "      <td>276747</td>\n",
       "      <td>0679776818</td>\n",
       "      <td>8</td>\n",
       "      <td>iowa city, iowa, usa</td>\n",
       "      <td>25.0</td>\n",
       "      <td>Birdsong: A Novel of Love and War</td>\n",
       "      <td>Sebastian Faulks</td>\n",
       "      <td>1997.0</td>\n",
       "      <td>Vintage Books USA</td>\n",
       "      <td>http://images.amazon.com/images/P/0679776818.0...</td>\n",
       "      <td>http://images.amazon.com/images/P/0679776818.0...</td>\n",
       "      <td>http://images.amazon.com/images/P/0679776818.0...</td>\n",
       "    </tr>\n",
       "    <tr>\n",
       "      <th>...</th>\n",
       "      <td>...</td>\n",
       "      <td>...</td>\n",
       "      <td>...</td>\n",
       "      <td>...</td>\n",
       "      <td>...</td>\n",
       "      <td>...</td>\n",
       "      <td>...</td>\n",
       "      <td>...</td>\n",
       "      <td>...</td>\n",
       "      <td>...</td>\n",
       "      <td>...</td>\n",
       "      <td>...</td>\n",
       "    </tr>\n",
       "    <tr>\n",
       "      <th>157</th>\n",
       "      <td>276872</td>\n",
       "      <td>042518109X</td>\n",
       "      <td>8</td>\n",
       "      <td>são paulo, são paulo, brazil</td>\n",
       "      <td>43.0</td>\n",
       "      <td>Whispers</td>\n",
       "      <td>Dean R. Koontz</td>\n",
       "      <td>2001.0</td>\n",
       "      <td>Berkley Publishing Group</td>\n",
       "      <td>http://images.amazon.com/images/P/042518109X.0...</td>\n",
       "      <td>http://images.amazon.com/images/P/042518109X.0...</td>\n",
       "      <td>http://images.amazon.com/images/P/042518109X.0...</td>\n",
       "    </tr>\n",
       "    <tr>\n",
       "      <th>158</th>\n",
       "      <td>276872</td>\n",
       "      <td>0425188221</td>\n",
       "      <td>7</td>\n",
       "      <td>são paulo, são paulo, brazil</td>\n",
       "      <td>43.0</td>\n",
       "      <td>Shadowland</td>\n",
       "      <td>Peter Straub</td>\n",
       "      <td>2003.0</td>\n",
       "      <td>Berkley Publishing Group</td>\n",
       "      <td>http://images.amazon.com/images/P/0425188221.0...</td>\n",
       "      <td>http://images.amazon.com/images/P/0425188221.0...</td>\n",
       "      <td>http://images.amazon.com/images/P/0425188221.0...</td>\n",
       "    </tr>\n",
       "    <tr>\n",
       "      <th>161</th>\n",
       "      <td>276872</td>\n",
       "      <td>8571648972</td>\n",
       "      <td>10</td>\n",
       "      <td>são paulo, são paulo, brazil</td>\n",
       "      <td>43.0</td>\n",
       "      <td>EstaÃ§Ã£o Carandiru</td>\n",
       "      <td>Drauzio Varella</td>\n",
       "      <td>1999.0</td>\n",
       "      <td>Companhia das Letras</td>\n",
       "      <td>http://images.amazon.com/images/P/8571648972.0...</td>\n",
       "      <td>http://images.amazon.com/images/P/8571648972.0...</td>\n",
       "      <td>http://images.amazon.com/images/P/8571648972.0...</td>\n",
       "    </tr>\n",
       "    <tr>\n",
       "      <th>191</th>\n",
       "      <td>276896</td>\n",
       "      <td>0440241537</td>\n",
       "      <td>10</td>\n",
       "      <td>mena, arkansas, usa</td>\n",
       "      <td>14.0</td>\n",
       "      <td>The King of Torts</td>\n",
       "      <td>JOHN GRISHAM</td>\n",
       "      <td>2003.0</td>\n",
       "      <td>Dell</td>\n",
       "      <td>http://images.amazon.com/images/P/0440241537.0...</td>\n",
       "      <td>http://images.amazon.com/images/P/0440241537.0...</td>\n",
       "      <td>http://images.amazon.com/images/P/0440241537.0...</td>\n",
       "    </tr>\n",
       "    <tr>\n",
       "      <th>197</th>\n",
       "      <td>276905</td>\n",
       "      <td>0060542845</td>\n",
       "      <td>8</td>\n",
       "      <td>toronto, ontario, canada</td>\n",
       "      <td>22.0</td>\n",
       "      <td>The Holiday Present</td>\n",
       "      <td>Johanna Lindsey</td>\n",
       "      <td>2003.0</td>\n",
       "      <td>Avon Books</td>\n",
       "      <td>http://images.amazon.com/images/P/0060542845.0...</td>\n",
       "      <td>http://images.amazon.com/images/P/0060542845.0...</td>\n",
       "      <td>http://images.amazon.com/images/P/0060542845.0...</td>\n",
       "    </tr>\n",
       "  </tbody>\n",
       "</table>\n",
       "<p>100 rows × 12 columns</p>\n",
       "</div>"
      ],
      "text/plain": [
       "     User_ID        ISBN  Book_Rating                      Location   Age  \\\n",
       "1     276729  052165615X            3          rijeka, n/a, croatia  16.0   \n",
       "2     276729  0521795028            6          rijeka, n/a, croatia  16.0   \n",
       "7     276747  0060517794            9          iowa city, iowa, usa  25.0   \n",
       "8     276747  0671537458            9          iowa city, iowa, usa  25.0   \n",
       "9     276747  0679776818            8          iowa city, iowa, usa  25.0   \n",
       "..       ...         ...          ...                           ...   ...   \n",
       "157   276872  042518109X            8  são paulo, são paulo, brazil  43.0   \n",
       "158   276872  0425188221            7  são paulo, são paulo, brazil  43.0   \n",
       "161   276872  8571648972           10  são paulo, são paulo, brazil  43.0   \n",
       "191   276896  0440241537           10           mena, arkansas, usa  14.0   \n",
       "197   276905  0060542845            8      toronto, ontario, canada  22.0   \n",
       "\n",
       "                                            Book_Title       Book_Author  \\\n",
       "1                                       Help!: Level 1     Philip Prowse   \n",
       "2    The Amsterdam Connection : Level 4 (Cambridge ...       Sue Leather   \n",
       "7                             Little Altars Everywhere     Rebecca Wells   \n",
       "8                                    Waiting to Exhale    Terry McMillan   \n",
       "9                    Birdsong: A Novel of Love and War  Sebastian Faulks   \n",
       "..                                                 ...               ...   \n",
       "157                                           Whispers    Dean R. Koontz   \n",
       "158                                         Shadowland      Peter Straub   \n",
       "161                                EstaÃ§Ã£o Carandiru   Drauzio Varella   \n",
       "191                                  The King of Torts      JOHN GRISHAM   \n",
       "197                                The Holiday Present   Johanna Lindsey   \n",
       "\n",
       "     Year_Of_Publication                   Publisher  \\\n",
       "1                 1999.0  Cambridge University Press   \n",
       "2                 2001.0  Cambridge University Press   \n",
       "7                 2003.0                 HarperTorch   \n",
       "8                 1995.0                      Pocket   \n",
       "9                 1997.0           Vintage Books USA   \n",
       "..                   ...                         ...   \n",
       "157               2001.0    Berkley Publishing Group   \n",
       "158               2003.0    Berkley Publishing Group   \n",
       "161               1999.0        Companhia das Letras   \n",
       "191               2003.0                        Dell   \n",
       "197               2003.0                  Avon Books   \n",
       "\n",
       "                                           Image-URL-S  \\\n",
       "1    http://images.amazon.com/images/P/052165615X.0...   \n",
       "2    http://images.amazon.com/images/P/0521795028.0...   \n",
       "7    http://images.amazon.com/images/P/0060517794.0...   \n",
       "8    http://images.amazon.com/images/P/0671537458.0...   \n",
       "9    http://images.amazon.com/images/P/0679776818.0...   \n",
       "..                                                 ...   \n",
       "157  http://images.amazon.com/images/P/042518109X.0...   \n",
       "158  http://images.amazon.com/images/P/0425188221.0...   \n",
       "161  http://images.amazon.com/images/P/8571648972.0...   \n",
       "191  http://images.amazon.com/images/P/0440241537.0...   \n",
       "197  http://images.amazon.com/images/P/0060542845.0...   \n",
       "\n",
       "                                           Image-URL-M  \\\n",
       "1    http://images.amazon.com/images/P/052165615X.0...   \n",
       "2    http://images.amazon.com/images/P/0521795028.0...   \n",
       "7    http://images.amazon.com/images/P/0060517794.0...   \n",
       "8    http://images.amazon.com/images/P/0671537458.0...   \n",
       "9    http://images.amazon.com/images/P/0679776818.0...   \n",
       "..                                                 ...   \n",
       "157  http://images.amazon.com/images/P/042518109X.0...   \n",
       "158  http://images.amazon.com/images/P/0425188221.0...   \n",
       "161  http://images.amazon.com/images/P/8571648972.0...   \n",
       "191  http://images.amazon.com/images/P/0440241537.0...   \n",
       "197  http://images.amazon.com/images/P/0060542845.0...   \n",
       "\n",
       "                                           Image-URL-L  \n",
       "1    http://images.amazon.com/images/P/052165615X.0...  \n",
       "2    http://images.amazon.com/images/P/0521795028.0...  \n",
       "7    http://images.amazon.com/images/P/0060517794.0...  \n",
       "8    http://images.amazon.com/images/P/0671537458.0...  \n",
       "9    http://images.amazon.com/images/P/0679776818.0...  \n",
       "..                                                 ...  \n",
       "157  http://images.amazon.com/images/P/042518109X.0...  \n",
       "158  http://images.amazon.com/images/P/0425188221.0...  \n",
       "161  http://images.amazon.com/images/P/8571648972.0...  \n",
       "191  http://images.amazon.com/images/P/0440241537.0...  \n",
       "197  http://images.amazon.com/images/P/0060542845.0...  \n",
       "\n",
       "[100 rows x 12 columns]"
      ]
     },
     "execution_count": 243,
     "metadata": {},
     "output_type": "execute_result"
    }
   ],
   "source": [
    "#stampa dei primi 20 elmenti, da modificare se lo manteniamo\n",
    "data.head(100)"
   ]
  },
  {
   "cell_type": "code",
   "execution_count": 244,
   "metadata": {
    "colab": {
     "base_uri": "https://localhost:8080/"
    },
    "id": "ZVs-rKaWDuLD",
    "outputId": "e34aea68-62b0-4517-9ad5-0ff13da0aceb"
   },
   "outputs": [
    {
     "name": "stdout",
     "output_type": "stream",
     "text": [
      "<class 'pandas.core.frame.DataFrame'>\n",
      "Int64Index: 240441 entries, 2 to 433657\n",
      "Data columns (total 12 columns):\n",
      " #   Column               Non-Null Count   Dtype  \n",
      "---  ------               --------------   -----  \n",
      " 0   User_ID              240441 non-null  int64  \n",
      " 1   ISBN                 240441 non-null  float64\n",
      " 2   Book_Rating          240441 non-null  int64  \n",
      " 3   Location             240441 non-null  object \n",
      " 4   Age                  240441 non-null  float64\n",
      " 5   Book_Title           240441 non-null  object \n",
      " 6   Book_Author          240441 non-null  object \n",
      " 7   Year_Of_Publication  240441 non-null  float64\n",
      " 8   Publisher            240441 non-null  object \n",
      " 9   Image-URL-S          240441 non-null  object \n",
      " 10  Image-URL-M          240441 non-null  object \n",
      " 11  Image-URL-L          240441 non-null  object \n",
      "dtypes: float64(3), int64(2), object(7)\n",
      "memory usage: 23.8+ MB\n"
     ]
    }
   ],
   "source": [
    "\n",
    "data['ISBN'] = pd.to_numeric(data['ISBN'],errors='coerce')\n",
    "data.dropna(inplace=True)\n",
    "data.head()\n",
    "data.info()"
   ]
  },
  {
   "cell_type": "code",
   "execution_count": 245,
   "metadata": {
    "id": "ba4r6aujEabq"
   },
   "outputs": [],
   "source": [
    "#eliminazione delle immagini\n",
    "data.drop(['Image-URL-S','Image-URL-M','Image-URL-L'],axis=1,inplace=True)"
   ]
  },
  {
   "cell_type": "code",
   "execution_count": 246,
   "metadata": {
    "colab": {
     "base_uri": "https://localhost:8080/"
    },
    "id": "GgJX9ZZnE_bV",
    "outputId": "e1a3faaf-429f-4521-d989-f3c9a19268a0"
   },
   "outputs": [
    {
     "data": {
      "text/plain": [
       "True"
      ]
     },
     "execution_count": 246,
     "metadata": {},
     "output_type": "execute_result"
    }
   ],
   "source": [
    "G = nx.Graph()\n",
    "m=list(data['User_ID'])\n",
    "n=list(data['Book_Title'])\n",
    "zip_list=list(zip(m,n))\n",
    "# Add nodes with the node attribute \"bipartite\"\n",
    "G.add_nodes_from(m, bipartite=0)\n",
    "G.add_nodes_from(n, bipartite=1)\n",
    "G.add_edges_from(list(zip(m,n))) \n",
    "    \n",
    "bipartite.is_bipartite(G)"
   ]
  },
  {
   "cell_type": "code",
   "execution_count": 247,
   "metadata": {
    "colab": {
     "base_uri": "https://localhost:8080/"
    },
    "id": "V5C0WaUAD5W3",
    "outputId": "7481db22-f667-4111-e8a4-6a5c1ff9a5e4"
   },
   "outputs": [],
   "source": [
    "#G.adj"
   ]
  },
  {
   "cell_type": "code",
   "execution_count": 248,
   "metadata": {
    "id": "alaJk3OBD72_"
   },
   "outputs": [],
   "source": [
    "#togliere quello sopra assolutamente\n",
    "#print(nx.adjacency_matrix(G).todense())"
   ]
  },
  {
   "cell_type": "code",
   "execution_count": 249,
   "metadata": {
    "colab": {
     "base_uri": "https://localhost:8080/",
     "height": 195
    },
    "id": "5DG8peNcHNyo",
    "outputId": "cdde23dd-2115-4089-c032-5e39f87453d8"
   },
   "outputs": [
    {
     "data": {
      "text/html": [
       "<div>\n",
       "<style scoped>\n",
       "    .dataframe tbody tr th:only-of-type {\n",
       "        vertical-align: middle;\n",
       "    }\n",
       "\n",
       "    .dataframe tbody tr th {\n",
       "        vertical-align: top;\n",
       "    }\n",
       "\n",
       "    .dataframe thead th {\n",
       "        text-align: right;\n",
       "    }\n",
       "</style>\n",
       "<table border=\"1\" class=\"dataframe\">\n",
       "  <thead>\n",
       "    <tr style=\"text-align: right;\">\n",
       "      <th></th>\n",
       "      <th>source</th>\n",
       "      <th>target</th>\n",
       "    </tr>\n",
       "  </thead>\n",
       "  <tbody>\n",
       "    <tr>\n",
       "      <th>0</th>\n",
       "      <td>276729</td>\n",
       "      <td>The Amsterdam Connection : Level 4 (Cambridge ...</td>\n",
       "    </tr>\n",
       "    <tr>\n",
       "      <th>1</th>\n",
       "      <td>276747</td>\n",
       "      <td>Little Altars Everywhere</td>\n",
       "    </tr>\n",
       "    <tr>\n",
       "      <th>2</th>\n",
       "      <td>276747</td>\n",
       "      <td>Waiting to Exhale</td>\n",
       "    </tr>\n",
       "    <tr>\n",
       "      <th>3</th>\n",
       "      <td>276747</td>\n",
       "      <td>Birdsong: A Novel of Love and War</td>\n",
       "    </tr>\n",
       "    <tr>\n",
       "      <th>4</th>\n",
       "      <td>276747</td>\n",
       "      <td>How to Deal With Difficult People</td>\n",
       "    </tr>\n",
       "  </tbody>\n",
       "</table>\n",
       "</div>"
      ],
      "text/plain": [
       "   source                                             target\n",
       "0  276729  The Amsterdam Connection : Level 4 (Cambridge ...\n",
       "1  276747                           Little Altars Everywhere\n",
       "2  276747                                  Waiting to Exhale\n",
       "3  276747                  Birdsong: A Novel of Love and War\n",
       "4  276747                  How to Deal With Difficult People"
      ]
     },
     "execution_count": 249,
     "metadata": {},
     "output_type": "execute_result"
    }
   ],
   "source": [
    "pdd = pd.DataFrame(zip_list,columns=['source','target'])\n",
    "pdd.head()"
   ]
  },
  {
   "cell_type": "code",
   "execution_count": 250,
   "metadata": {
    "id": "i4CMLT6LHPv5"
   },
   "outputs": [],
   "source": [
    "top_nodes = {n for n, d in G.nodes(data=True) if d[\"bipartite\"] == 0}\n",
    "bottom_nodes = set(G) - top_nodes"
   ]
  },
  {
   "cell_type": "code",
   "execution_count": null,
   "metadata": {
    "id": "G0mo2w9yHWEm"
   },
   "outputs": [],
   "source": []
  },
  {
   "cell_type": "code",
   "execution_count": null,
   "metadata": {
    "id": "u7nzlN5XHdV0"
   },
   "outputs": [],
   "source": []
  },
  {
   "cell_type": "code",
   "execution_count": 251,
   "metadata": {
    "id": "YcJilGreHmop"
   },
   "outputs": [],
   "source": [
    "cent = nx.degree_centrality(G)\n",
    "name = []\n",
    "centrality = []\n",
    "\n",
    "for key, value in cent.items():\n",
    "    name.append(key)\n",
    "    centrality.append(value)"
   ]
  },
  {
   "cell_type": "code",
   "execution_count": 252,
   "metadata": {
    "id": "NUGEhHU6Hsuh"
   },
   "outputs": [],
   "source": [
    "cent = pd.DataFrame()    \n",
    "cent['name'] = name\n",
    "cent['centrality'] = centrality\n",
    "cent = cent.sort_values(by='centrality', ascending=False)"
   ]
  },
  {
   "cell_type": "code",
   "execution_count": null,
   "metadata": {
    "colab": {
     "base_uri": "https://localhost:8080/",
     "height": 1000
    },
    "id": "9fuzZwZqHu6J",
    "outputId": "381be863-9503-4442-ac3a-583058ce59ef"
   },
   "outputs": [],
   "source": []
  },
  {
   "cell_type": "code",
   "execution_count": 253,
   "metadata": {
    "id": "5rPGPPHLIzhJ"
   },
   "outputs": [],
   "source": [
    "from sklearn.preprocessing import MinMaxScaler\n",
    "from sklearn.model_selection import train_test_split\n",
    "import numpy as np\n",
    "import pandas as pd\n",
    "from sklearn.cluster import KMeans\n",
    "from scipy.spatial.distance import cdist\n",
    "import matplotlib.pyplot as plt\n",
    "import seaborn as sns\n",
    "from sklearn.decomposition import PCA"
   ]
  },
  {
   "cell_type": "code",
   "execution_count": 254,
   "metadata": {
    "id": "BcTqxAbgI_EA"
   },
   "outputs": [],
   "source": [
    "data1 = data.copy()"
   ]
  },
  {
   "cell_type": "code",
   "execution_count": 255,
   "metadata": {
    "id": "ecYntnsAJF19"
   },
   "outputs": [],
   "source": [
    "#eliminiamo altri dati inutili\n",
    "data.drop(['Book_Title','Publisher','Location'],axis=1,inplace=True)"
   ]
  },
  {
   "cell_type": "code",
   "execution_count": 256,
   "metadata": {
    "colab": {
     "base_uri": "https://localhost:8080/"
    },
    "id": "cfFc6KpJJiAs",
    "outputId": "852cb7b5-9bee-487e-def1-a48ec3b7cfdf"
   },
   "outputs": [
    {
     "name": "stdout",
     "output_type": "stream",
     "text": [
      "<class 'pandas.core.frame.DataFrame'>\n",
      "Int64Index: 240441 entries, 2 to 433657\n",
      "Data columns (total 6 columns):\n",
      " #   Column               Non-Null Count   Dtype  \n",
      "---  ------               --------------   -----  \n",
      " 0   User_ID              240441 non-null  int64  \n",
      " 1   ISBN                 240441 non-null  float64\n",
      " 2   Book_Rating          240441 non-null  int64  \n",
      " 3   Age                  240441 non-null  float64\n",
      " 4   Book_Author          240441 non-null  object \n",
      " 5   Year_Of_Publication  240441 non-null  float64\n",
      "dtypes: float64(3), int64(2), object(1)\n",
      "memory usage: 12.8+ MB\n"
     ]
    }
   ],
   "source": [
    "#stampa dei dati risultanti\n",
    "data.head()\n",
    "data.info()"
   ]
  },
  {
   "cell_type": "code",
   "execution_count": 257,
   "metadata": {
    "colab": {
     "base_uri": "https://localhost:8080/"
    },
    "id": "rgjxxuIyJltl",
    "outputId": "c47263e3-669b-47fb-9e91-afb1e0ca138d"
   },
   "outputs": [
    {
     "name": "stdout",
     "output_type": "stream",
     "text": [
      "<class 'pandas.core.frame.DataFrame'>\n",
      "Int64Index: 240441 entries, 2 to 433657\n",
      "Data columns (total 9 columns):\n",
      " #   Column               Non-Null Count   Dtype  \n",
      "---  ------               --------------   -----  \n",
      " 0   User_ID              240441 non-null  int64  \n",
      " 1   ISBN                 240441 non-null  float64\n",
      " 2   Book_Rating          240441 non-null  int64  \n",
      " 3   Location             240441 non-null  object \n",
      " 4   Age                  240441 non-null  float64\n",
      " 5   Book_Title           240441 non-null  object \n",
      " 6   Book_Author          240441 non-null  object \n",
      " 7   Year_Of_Publication  240441 non-null  float64\n",
      " 8   Publisher            240441 non-null  object \n",
      "dtypes: float64(3), int64(2), object(4)\n",
      "memory usage: 18.3+ MB\n"
     ]
    }
   ],
   "source": [
    "#prendiamo i get dummies su bookauthor\n",
    "data_encoded = pd.get_dummies(data, columns=[\"Book_Author\"], sparse=True)                  \n",
    "data_encoded\n",
    "data1.info()"
   ]
  },
  {
   "cell_type": "code",
   "execution_count": 258,
   "metadata": {},
   "outputs": [
    {
     "name": "stdout",
     "output_type": "stream",
     "text": [
      "<class 'pandas.core.frame.DataFrame'>\n",
      "Int64Index: 240441 entries, 2 to 433657\n",
      "Columns: 46760 entries, User_ID to Book_Author_Ã?Â?pictÃ?Â¨te\n",
      "dtypes: Sparse[uint8, 0](46755), float64(3), int64(2)\n",
      "memory usage: 12.2 MB\n"
     ]
    }
   ],
   "source": [
    "data_encoded.info()"
   ]
  },
  {
   "cell_type": "code",
   "execution_count": 259,
   "metadata": {
    "colab": {
     "base_uri": "https://localhost:8080/"
    },
    "id": "aVdrw0s8KXJ7",
    "outputId": "9cd1452c-0fbe-4393-d844-3592a81d5c4e"
   },
   "outputs": [
    {
     "name": "stderr",
     "output_type": "stream",
     "text": [
      "C:\\Users\\pavil\\miniconda3\\lib\\site-packages\\sklearn\\utils\\validation.py:515: UserWarning: pandas.DataFrame with sparse columns found.It will be converted to a dense numpy array.\n",
      "  warnings.warn(\n",
      "C:\\Users\\pavil\\miniconda3\\lib\\site-packages\\sklearn\\utils\\validation.py:515: UserWarning: pandas.DataFrame with sparse columns found.It will be converted to a dense numpy array.\n",
      "  warnings.warn(\n",
      "C:\\Users\\pavil\\miniconda3\\lib\\site-packages\\sklearn\\utils\\validation.py:515: UserWarning: pandas.DataFrame with sparse columns found.It will be converted to a dense numpy array.\n",
      "  warnings.warn(\n"
     ]
    },
    {
     "name": "stdout",
     "output_type": "stream",
     "text": [
      "[[1.         0.04504143 0.66666667 ... 0.         0.         0.        ]\n",
      " [1.         0.04569926 0.66666667 ... 0.         0.         0.        ]\n",
      " [1.         0.05669997 0.88888889 ... 0.         0.         0.        ]\n",
      " ...\n",
      " [1.11327078 0.06884548 1.         ... 0.         0.         0.        ]\n",
      " [1.11327078 0.07053909 0.66666667 ... 0.         0.         0.        ]\n",
      " [1.11863271 0.07507484 0.77777778 ... 0.         0.         0.        ]]\n"
     ]
    }
   ],
   "source": [
    "# minmax scaler (this part is referred from HW2)\n",
    "scaler = MinMaxScaler()\n",
    "\n",
    "#andiamo a creare i dataset per il training e il test\n",
    "#molto ridotti per mancanza di capacità di elaborazione\n",
    "train = data_encoded[:1000]\n",
    "test = data_encoded[1001:1101]\n",
    "\n",
    "#train, test = np.split(data_encoded.sample(frac=0.01), [int(.6*len(data_encoded))], [int(.4*len(data_encoded))])\n",
    "#print(train)\n",
    "#print(test)\n",
    "\n",
    "#train_X,test_X = train_test_split(data_encoded, test_size=0.3, random_state=930)\n",
    "X_train = scaler.fit_transform(train)\n",
    "X_test = scaler.transform(test)\n",
    "print(X_test)"
   ]
  },
  {
   "cell_type": "code",
   "execution_count": 260,
   "metadata": {},
   "outputs": [
    {
     "name": "stdout",
     "output_type": "stream",
     "text": [
      "<class 'pandas.core.frame.DataFrame'>\n",
      "Int64Index: 240441 entries, 2 to 433657\n",
      "Columns: 46760 entries, User_ID to Book_Author_Ã?Â?pictÃ?Â¨te\n",
      "dtypes: Sparse[uint8, 0](46755), float64(3), int64(2)\n",
      "memory usage: 12.2 MB\n"
     ]
    }
   ],
   "source": [
    "data_encoded.info()"
   ]
  },
  {
   "cell_type": "code",
   "execution_count": 261,
   "metadata": {},
   "outputs": [
    {
     "name": "stderr",
     "output_type": "stream",
     "text": [
      "C:\\Users\\pavil\\miniconda3\\lib\\site-packages\\sklearn\\utils\\validation.py:515: UserWarning: pandas.DataFrame with sparse columns found.It will be converted to a dense numpy array.\n",
      "  warnings.warn(\n"
     ]
    }
   ],
   "source": [
    "X = scaler.transform(data_encoded[:1000])"
   ]
  },
  {
   "cell_type": "raw",
   "metadata": {},
   "source": []
  },
  {
   "cell_type": "code",
   "execution_count": 262,
   "metadata": {},
   "outputs": [
    {
     "name": "stdout",
     "output_type": "stream",
     "text": [
      "[[0.         0.05343092 0.55555556 ... 0.         0.         0.        ]\n",
      " [0.01206434 0.00599327 0.88888889 ... 0.         0.         0.        ]\n",
      " [0.01206434 0.06883041 0.88888889 ... 0.         0.         0.        ]\n",
      " ...\n",
      " [1.         0.0322702  1.         ... 0.         0.         0.        ]\n",
      " [1.         0.0322702  1.         ... 0.         0.         0.        ]\n",
      " [1.         0.03234712 1.         ... 0.         0.         0.        ]]\n"
     ]
    }
   ],
   "source": [
    "print(X)"
   ]
  },
  {
   "cell_type": "code",
   "execution_count": 284,
   "metadata": {},
   "outputs": [],
   "source": [
    "#grafico di punto di gomito\n",
    "K = range(1, 7)\n",
    "meanDispersions = [] \n",
    "for k in K:\n",
    "    kmeans = KMeans(n_clusters=2)\n",
    "    kmeans.fit(X_train)\n",
    "    \n",
    "    meanDispersions.append(kmeans.inertia_)\n",
    "      "
   ]
  },
  {
   "cell_type": "code",
   "execution_count": 285,
   "metadata": {},
   "outputs": [
    {
     "data": {
      "image/png": "[encoded data removed]",
      "text/plain": [
       "<Figure size 432x288 with 1 Axes>"
      ]
     },
     "metadata": {
      "needs_background": "light"
     },
     "output_type": "display_data"
    }
   ],
   "source": [
    "plt.plot(K, meanDispersions, 'rx-')\n",
    "plt.xlabel('k')\n",
    "plt.ylabel('Average Dispersion')\n",
    "plt.title('Selecting k with the Elbow Method')\n",
    "plt.show() "
   ]
  },
  {
   "cell_type": "code",
   "execution_count": null,
   "metadata": {},
   "outputs": [],
   "source": [
    "kmeans = KMeans(n_clusters=3)\n",
    "\n",
    "y1 = kmeans.fit_predict(X_train)\n",
    "y2 = kmeans.predict(X_test)\n",
    "whole_data = kmeans.predict(X)\n",
    "\n",
    "#generate two subsets with data generated from last step \n",
    "train = pd.DataFrame(X_train, columns = data_encoded.columns)\n",
    "test = pd.DataFrame(X_test, columns = data_encoded.columns)\n",
    "#then add the prediction of clustering to these data\n",
    "train['Cluster'] = y1\n",
    "test['Cluster'] = y2\n",
    "data1= data1[:1000]\n",
    "data1['Cluster']= whole_data"
   ]
  },
  {
   "cell_type": "code",
   "execution_count": null,
   "metadata": {},
   "outputs": [],
   "source": [
    "# check the outcomes of each cluster\n",
    "groupby1 = data1.groupby(by='Cluster').mean()\n",
    "groupby1"
   ]
  },
  {
   "cell_type": "code",
   "execution_count": null,
   "metadata": {},
   "outputs": [],
   "source": [
    "plt.scatter(X[:, 0], X[:, 1], c=y1, s=50, cmap='viridis')\n",
    "centers = kmeans.cluster_centers_\n",
    "plt.scatter(centers[:, 0], centers[:, 1], c='black', s=200, alpha=0.5);"
   ]
  },
  {
   "cell_type": "code",
   "execution_count": null,
   "metadata": {},
   "outputs": [],
   "source": [
    "from sklearn.metrics import silhouette_samples, silhouette_score\n",
    "score = silhouette_score(X, y1)\n",
    "print(\"Silouhette score: \" + str(score))"
   ]
  },
  {
   "cell_type": "code",
   "execution_count": null,
   "metadata": {},
   "outputs": [],
   "source": []
  },
  {
   "cell_type": "code",
   "execution_count": null,
   "metadata": {},
   "outputs": [],
   "source": [
    "merged = ratings.merge(books, on = 'ISBN')\n",
    "merged.head()\n",
    "merged.info()"
   ]
  },
  {
   "cell_type": "code",
   "execution_count": null,
   "metadata": {},
   "outputs": [],
   "source": [
    "#merge the data with number of ratings\n",
    "merged_groupby=merged.groupby('Book-Title')['Book-Rating'].count().reset_index()\n",
    "merged_groupby.rename(columns={'Book-Rating':'number_of_ratings'},inplace=True)\n",
    "#filter books with more than 30 reviews \n",
    "merged_groupby=merged_groupby[merged_groupby['number_of_ratings']>30]\n",
    "merged_groupby.head()"
   ]
  },
  {
   "cell_type": "code",
   "execution_count": null,
   "metadata": {},
   "outputs": [],
   "source": [
    "#merge the above two files together to get an integrated book review data with total review count for each book;then remove the duplicates\n",
    "integrated_merged=merged.merge(merged_groupby, on='Book-Title')\n",
    "integrated_merged.drop_duplicates(['User-ID','Book-Title'],inplace=True)\n",
    "integrated_merged.head()\n",
    "integrated_merged.info()"
   ]
  },
  {
   "cell_type": "code",
   "execution_count": null,
   "metadata": {},
   "outputs": [],
   "source": [
    "pivot=pd.pivot_table(integrated_merged, columns='User-ID',index='Book-Title',fill_value=0,values='Book-Rating')\n",
    "pivot.shape\n",
    "pivot"
   ]
  },
  {
   "cell_type": "code",
   "execution_count": null,
   "metadata": {},
   "outputs": [],
   "source": [
    "pivot_csr=csr_matrix(pivot)\n",
    "pivot_csr"
   ]
  },
  {
   "cell_type": "code",
   "execution_count": null,
   "metadata": {},
   "outputs": [],
   "source": [
    "#construct kNN models\n",
    "model=NearestNeighbors(algorithm='brute')\n",
    "model.fit(pivot_csr)"
   ]
  },
  {
   "cell_type": "code",
   "execution_count": null,
   "metadata": {},
   "outputs": [],
   "source": [
    "pivot.iloc[:,:].values.reshape(1,-1)\n",
    "#example of k neighbors \n",
    "distances,suggestions=model.kneighbors(pivot.iloc[55,:].values.reshape(1,-1))"
   ]
  },
  {
   "cell_type": "code",
   "execution_count": null,
   "metadata": {},
   "outputs": [],
   "source": [
    "distances"
   ]
  },
  {
   "cell_type": "code",
   "execution_count": null,
   "metadata": {},
   "outputs": [],
   "source": [
    "suggestions"
   ]
  },
  {
   "cell_type": "code",
   "execution_count": null,
   "metadata": {},
   "outputs": [],
   "source": [
    "#test the kNN collaborative filtering model\n",
    "for i in range(len(suggestions)):\n",
    "    print(pivot.index[suggestions[i]])\n",
    "    print(suggestions[i])"
   ]
  },
  {
   "cell_type": "code",
   "execution_count": null,
   "metadata": {},
   "outputs": [],
   "source": [
    "list1=list(B3['Book_Title'])\n",
    "list1"
   ]
  },
  {
   "cell_type": "code",
   "execution_count": null,
   "metadata": {},
   "outputs": [],
   "source": [
    "#final recommender system function building\n",
    "def book_recommend(book_name):\n",
    "    if book_name in list1:\n",
    "        book_id = np.where(pivot.index == book_name)[0][0]\n",
    "        distances, recommendations = model.kneighbors(pivot.iloc[book_id,:].values.reshape(1,-1))\n",
    "        print('begin to recommend all books similar to this book!!!')\n",
    "        for i in range(len(recommendations)):\n",
    "            if i == 0:\n",
    "                print(f\"For book \\\"{book_name}\\\" we would recommend the following:\")\n",
    "            if not i:\n",
    "                list2=pivot.index[recommendations[i]]\n",
    "                for j in range(len(list2)):\n",
    "                    print(list2[j])\n",
    "    else:\n",
    "        raise ValueError"
   ]
  },
  {
   "cell_type": "code",
   "execution_count": null,
   "metadata": {},
   "outputs": [],
   "source": [
    "name=input('Please Input a book name: ')\n",
    "book_recommend(name)"
   ]
  },
  {
   "cell_type": "code",
   "execution_count": null,
   "metadata": {},
   "outputs": [],
   "source": []
  },
  {
   "cell_type": "code",
   "execution_count": null,
   "metadata": {},
   "outputs": [],
   "source": []
  },
  {
   "cell_type": "code",
   "execution_count": null,
   "metadata": {},
   "outputs": [],
   "source": []
  }
 ],
 "metadata": {
  "colab": {
   "include_colab_link": true,
   "name": "Untitled1.ipynb",
   "provenance": []
  },
  "kernelspec": {
   "display_name": "Python 3",
   "language": "python",
   "name": "python3"
  },
  "language_info": {
   "codemirror_mode": {
    "name": "ipython",
    "version": 3
   },
   "file_extension": ".py",
   "mimetype": "text/x-python",
   "name": "python",
   "nbconvert_exporter": "python",
   "pygments_lexer": "ipython3",
   "version": "3.8.5"
  }
 },
 "nbformat": 4,
 "nbformat_minor": 4
}
