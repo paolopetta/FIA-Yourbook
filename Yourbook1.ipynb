{
  "nbformat": 4,
  "nbformat_minor": 0,
  "metadata": {
    "colab": {
      "name": "Untitled0.ipynb",
      "provenance": [],
      "collapsed_sections": [],
      "authorship_tag": "ABX9TyPuOTUNFmXiaaXqJ8rpew3K",
      "include_colab_link": true
    },
    "kernelspec": {
      "name": "python3",
      "display_name": "Python 3"
    }
  },
  "cells": [
    {
      "cell_type": "markdown",
      "metadata": {
        "id": "view-in-github",
        "colab_type": "text"
      },
      "source": [
        "<a href=\"https://colab.research.google.com/github/paolopetta/FIA-Yourbook/blob/main/Yourbook1.ipynb\" target=\"_parent\"><img src=\"https://colab.research.google.com/assets/colab-badge.svg\" alt=\"Open In Colab\"/></a>"
      ]
    },
    {
      "cell_type": "code",
      "metadata": {
        "id": "2FXyxjeayARF"
      },
      "source": [
        "import numpy as np \r\n",
        "import pandas as pd \r\n",
        "import seaborn as sns\r\n",
        "import matplotlib.pyplot as plt \r\n",
        "from sklearn.cluster import KMeans\r\n"
      ],
      "execution_count": 2,
      "outputs": []
    },
    {
      "cell_type": "code",
      "metadata": {
        "id": "eRcMitlcr8Z4",
        "colab": {
          "base_uri": "https://localhost:8080/"
        },
        "outputId": "1891cf30-9cb3-4555-9089-2139395e4317"
      },
      "source": [
        "from google.colab import drive\n",
        "drive.mount('/content/drive')"
      ],
      "execution_count": 3,
      "outputs": [
        {
          "output_type": "stream",
          "text": [
            "Drive already mounted at /content/drive; to attempt to forcibly remount, call drive.mount(\"/content/drive\", force_remount=True).\n"
          ],
          "name": "stdout"
        }
      ]
    },
    {
      "cell_type": "code",
      "metadata": {
        "id": "SO7zl4r81eID"
      },
      "source": [
        "users = pd.read_csv('/content/drive/MyDrive/Users.csv', error_bad_lines=False, delimiter=';', encoding = 'ISO-8859-1')"
      ],
      "execution_count": 4,
      "outputs": []
    },
    {
      "cell_type": "code",
      "metadata": {
        "id": "qXcYivgX2pxG",
        "colab": {
          "base_uri": "https://localhost:8080/"
        },
        "outputId": "67209867-a556-4454-a507-a9b24e5733a2"
      },
      "source": [
        "users.shape"
      ],
      "execution_count": 5,
      "outputs": [
        {
          "output_type": "execute_result",
          "data": {
            "text/plain": [
              "(278858, 3)"
            ]
          },
          "metadata": {
            "tags": []
          },
          "execution_count": 5
        }
      ]
    },
    {
      "cell_type": "code",
      "metadata": {
        "id": "60et_usg12y7",
        "colab": {
          "base_uri": "https://localhost:8080/"
        },
        "outputId": "ebb14e21-de76-42d7-d62d-371e1ec7e452"
      },
      "source": [
        "books = pd.read_csv('/content/drive/MyDrive/Books.csv', error_bad_lines=False, delimiter=';', engine = 'python' , encoding = 'ISO-8859-1')"
      ],
      "execution_count": 6,
      "outputs": [
        {
          "output_type": "stream",
          "text": [
            "Skipping line 815: ';' expected after '\"'\n",
            "Skipping line 1679: ';' expected after '\"'\n",
            "Skipping line 2531: ';' expected after '\"'\n",
            "Skipping line 2640: ';' expected after '\"'\n",
            "Skipping line 3236: ';' expected after '\"'\n",
            "Skipping line 3256: ';' expected after '\"'\n",
            "Skipping line 4906: ';' expected after '\"'\n",
            "Skipping line 6452: ';' expected after '\"'\n",
            "Skipping line 8349: ';' expected after '\"'\n",
            "Skipping line 9669: ';' expected after '\"'\n",
            "Skipping line 9723: ';' expected after '\"'\n",
            "Skipping line 10010: ';' expected after '\"'\n",
            "Skipping line 10192: ';' expected after '\"'\n",
            "Skipping line 10754: ';' expected after '\"'\n",
            "Skipping line 10824: ';' expected after '\"'\n",
            "Skipping line 10862: ';' expected after '\"'\n",
            "Skipping line 11442: ';' expected after '\"'\n",
            "Skipping line 11584: ';' expected after '\"'\n",
            "Skipping line 11859: ';' expected after '\"'\n",
            "Skipping line 12206: ';' expected after '\"'\n",
            "Skipping line 12229: ';' expected after '\"'\n",
            "Skipping line 12719: ';' expected after '\"'\n",
            "Skipping line 12885: ';' expected after '\"'\n",
            "Skipping line 13376: ';' expected after '\"'\n",
            "Skipping line 13380: ';' expected after '\"'\n",
            "Skipping line 13394: ';' expected after '\"'\n",
            "Skipping line 13639: ';' expected after '\"'\n",
            "Skipping line 14346: ';' expected after '\"'\n",
            "Skipping line 14723: ';' expected after '\"'\n",
            "Skipping line 14769: ';' expected after '\"'\n",
            "Skipping line 14936: ';' expected after '\"'\n",
            "Skipping line 14977: ';' expected after '\"'\n",
            "Skipping line 15633: ';' expected after '\"'\n",
            "Skipping line 15690: ';' expected after '\"'\n",
            "Skipping line 15772: ';' expected after '\"'\n",
            "Skipping line 15853: ';' expected after '\"'\n",
            "Skipping line 16088: ';' expected after '\"'\n",
            "Skipping line 16090: ';' expected after '\"'\n",
            "Skipping line 17320: ';' expected after '\"'\n",
            "Skipping line 17410: ';' expected after '\"'\n",
            "Skipping line 17665: ';' expected after '\"'\n",
            "Skipping line 17997: ';' expected after '\"'\n",
            "Skipping line 18095: ';' expected after '\"'\n",
            "Skipping line 18839: ';' expected after '\"'\n",
            "Skipping line 19156: ';' expected after '\"'\n",
            "Skipping line 19510: ';' expected after '\"'\n",
            "Skipping line 20266: ';' expected after '\"'\n",
            "Skipping line 20434: ';' expected after '\"'\n",
            "Skipping line 21438: ';' expected after '\"'\n",
            "Skipping line 21602: ';' expected after '\"'\n",
            "Skipping line 21719: ';' expected after '\"'\n",
            "Skipping line 21889: ';' expected after '\"'\n",
            "Skipping line 22197: ';' expected after '\"'\n",
            "Skipping line 22460: ';' expected after '\"'\n",
            "Skipping line 23571: ';' expected after '\"'\n",
            "Skipping line 23786: ';' expected after '\"'\n",
            "Skipping line 24257: ';' expected after '\"'\n",
            "Skipping line 24719: ';' expected after '\"'\n",
            "Skipping line 24924: ';' expected after '\"'\n",
            "Skipping line 25849: ';' expected after '\"'\n",
            "Skipping line 26079: ';' expected after '\"'\n",
            "Skipping line 26151: ';' expected after '\"'\n",
            "Skipping line 26234: ';' expected after '\"'\n",
            "Skipping line 26235: ';' expected after '\"'\n",
            "Skipping line 26299: ';' expected after '\"'\n",
            "Skipping line 26538: ';' expected after '\"'\n",
            "Skipping line 26659: ';' expected after '\"'\n",
            "Skipping line 26660: ';' expected after '\"'\n",
            "Skipping line 27295: ';' expected after '\"'\n",
            "Skipping line 27758: ';' expected after '\"'\n",
            "Skipping line 27759: ';' expected after '\"'\n",
            "Skipping line 27781: ';' expected after '\"'\n",
            "Skipping line 28220: ';' expected after '\"'\n",
            "Skipping line 28297: ';' expected after '\"'\n",
            "Skipping line 28443: ';' expected after '\"'\n",
            "Skipping line 28600: ';' expected after '\"'\n",
            "Skipping line 28803: ';' expected after '\"'\n",
            "Skipping line 28913: ';' expected after '\"'\n",
            "Skipping line 29505: ';' expected after '\"'\n",
            "Skipping line 29938: ';' expected after '\"'\n",
            "Skipping line 30821: ';' expected after '\"'\n",
            "Skipping line 31366: ';' expected after '\"'\n",
            "Skipping line 32075: ';' expected after '\"'\n",
            "Skipping line 33098: ';' expected after '\"'\n",
            "Skipping line 33658: ';' expected after '\"'\n",
            "Skipping line 34203: ';' expected after '\"'\n",
            "Skipping line 34252: ';' expected after '\"'\n",
            "Skipping line 34705: ';' expected after '\"'\n",
            "Skipping line 34827: ';' expected after '\"'\n",
            "Skipping line 35901: ';' expected after '\"'\n",
            "Skipping line 35902: ';' expected after '\"'\n",
            "Skipping line 36035: ';' expected after '\"'\n",
            "Skipping line 36394: ';' expected after '\"'\n",
            "Skipping line 37131: ';' expected after '\"'\n",
            "Skipping line 40079: ';' expected after '\"'\n",
            "Skipping line 40441: ';' expected after '\"'\n",
            "Skipping line 41193: ';' expected after '\"'\n",
            "Skipping line 42360: ';' expected after '\"'\n",
            "Skipping line 42524: ';' expected after '\"'\n",
            "Skipping line 42607: ';' expected after '\"'\n",
            "Skipping line 42627: ';' expected after '\"'\n",
            "Skipping line 42628: ';' expected after '\"'\n",
            "Skipping line 42699: ';' expected after '\"'\n",
            "Skipping line 42743: ';' expected after '\"'\n",
            "Skipping line 42755: ';' expected after '\"'\n",
            "Skipping line 42795: ';' expected after '\"'\n",
            "Skipping line 42816: ';' expected after '\"'\n",
            "Skipping line 42952: ';' expected after '\"'\n",
            "Skipping line 43134: ';' expected after '\"'\n",
            "Skipping line 43667: ';' expected after '\"'\n",
            "Skipping line 44917: ';' expected after '\"'\n",
            "Skipping line 45713: ';' expected after '\"'\n",
            "Skipping line 46741: ';' expected after '\"'\n",
            "Skipping line 47598: ';' expected after '\"'\n",
            "Skipping line 48121: ';' expected after '\"'\n",
            "Skipping line 48132: ';' expected after '\"'\n",
            "Skipping line 48547: ';' expected after '\"'\n",
            "Skipping line 49526: ';' expected after '\"'\n",
            "Skipping line 50265: ';' expected after '\"'\n",
            "Skipping line 50272: ';' expected after '\"'\n",
            "Skipping line 50413: ';' expected after '\"'\n",
            "Skipping line 51060: ';' expected after '\"'\n",
            "Skipping line 51227: ';' expected after '\"'\n",
            "Skipping line 51256: ';' expected after '\"'\n",
            "Skipping line 51685: ';' expected after '\"'\n",
            "Skipping line 51751: ';' expected after '\"'\n",
            "Skipping line 52174: ';' expected after '\"'\n",
            "Skipping line 54725: ';' expected after '\"'\n",
            "Skipping line 55120: ';' expected after '\"'\n",
            "Skipping line 55194: ';' expected after '\"'\n",
            "Skipping line 55312: ';' expected after '\"'\n",
            "Skipping line 55483: ';' expected after '\"'\n",
            "Skipping line 55740: ';' expected after '\"'\n",
            "Skipping line 56523: ';' expected after '\"'\n",
            "Skipping line 56528: ';' expected after '\"'\n",
            "Skipping line 56827: ';' expected after '\"'\n",
            "Skipping line 56901: ';' expected after '\"'\n",
            "Skipping line 57373: ';' expected after '\"'\n",
            "Skipping line 57377: ';' expected after '\"'\n",
            "Skipping line 57943: ';' expected after '\"'\n",
            "Skipping line 58309: ';' expected after '\"'\n",
            "Skipping line 58386: ';' expected after '\"'\n",
            "Skipping line 58578: ';' expected after '\"'\n",
            "Skipping line 58600: ';' expected after '\"'\n",
            "Skipping line 58969: ';' expected after '\"'\n",
            "Skipping line 59060: ';' expected after '\"'\n",
            "Skipping line 59234: ';' expected after '\"'\n",
            "Skipping line 59494: ';' expected after '\"'\n",
            "Skipping line 59507: ';' expected after '\"'\n",
            "Skipping line 59612: ';' expected after '\"'\n",
            "Skipping line 59803: ';' expected after '\"'\n",
            "Skipping line 59988: ';' expected after '\"'\n",
            "Skipping line 60739: ';' expected after '\"'\n",
            "Skipping line 60744: ';' expected after '\"'\n",
            "Skipping line 61818: ';' expected after '\"'\n",
            "Skipping line 61821: ';' expected after '\"'\n",
            "Skipping line 62200: ';' expected after '\"'\n",
            "Skipping line 62265: ';' expected after '\"'\n",
            "Skipping line 62581: ';' expected after '\"'\n",
            "Skipping line 62777: ';' expected after '\"'\n",
            "Skipping line 62890: ';' expected after '\"'\n",
            "Skipping line 63839: ';' expected after '\"'\n",
            "Skipping line 64033: ';' expected after '\"'\n",
            "Skipping line 64253: ';' expected after '\"'\n",
            "Skipping line 65345: ';' expected after '\"'\n",
            "Skipping line 65756: ';' expected after '\"'\n",
            "Skipping line 66394: ';' expected after '\"'\n",
            "Skipping line 66446: ';' expected after '\"'\n",
            "Skipping line 66521: ';' expected after '\"'\n",
            "Skipping line 67104: ';' expected after '\"'\n",
            "Skipping line 67729: ';' expected after '\"'\n",
            "Skipping line 67924: ';' expected after '\"'\n",
            "Skipping line 67973: ';' expected after '\"'\n",
            "Skipping line 68107: ';' expected after '\"'\n",
            "Skipping line 68111: ';' expected after '\"'\n",
            "Skipping line 68134: ';' expected after '\"'\n",
            "Skipping line 69712: ';' expected after '\"'\n",
            "Skipping line 69920: ';' expected after '\"'\n",
            "Skipping line 70649: ';' expected after '\"'\n",
            "Skipping line 70764: ';' expected after '\"'\n",
            "Skipping line 70826: ';' expected after '\"'\n",
            "Skipping line 71125: ';' expected after '\"'\n",
            "Skipping line 71531: ';' expected after '\"'\n",
            "Skipping line 71615: ';' expected after '\"'\n",
            "Skipping line 71769: ';' expected after '\"'\n",
            "Skipping line 72335: ';' expected after '\"'\n",
            "Skipping line 72372: ';' expected after '\"'\n",
            "Skipping line 72572: ';' expected after '\"'\n",
            "Skipping line 72929: ';' expected after '\"'\n",
            "Skipping line 72930: ';' expected after '\"'\n",
            "Skipping line 72931: ';' expected after '\"'\n",
            "Skipping line 73156: ';' expected after '\"'\n",
            "Skipping line 73162: ';' expected after '\"'\n",
            "Skipping line 73199: ';' expected after '\"'\n",
            "Skipping line 73270: ';' expected after '\"'\n",
            "Skipping line 73849: ';' expected after '\"'\n",
            "Skipping line 73880: ';' expected after '\"'\n",
            "Skipping line 74291: ';' expected after '\"'\n",
            "Skipping line 75043: ';' expected after '\"'\n",
            "Skipping line 75071: ';' expected after '\"'\n",
            "Skipping line 76445: ';' expected after '\"'\n",
            "Skipping line 76492: ';' expected after '\"'\n",
            "Skipping line 76844: ';' expected after '\"'\n",
            "Skipping line 77231: ';' expected after '\"'\n",
            "Skipping line 77336: ';' expected after '\"'\n",
            "Skipping line 77781: ';' expected after '\"'\n",
            "Skipping line 77835: ';' expected after '\"'\n",
            "Skipping line 78089: ';' expected after '\"'\n",
            "Skipping line 78186: ';' expected after '\"'\n",
            "Skipping line 78524: ';' expected after '\"'\n",
            "Skipping line 78752: ';' expected after '\"'\n",
            "Skipping line 79118: ';' expected after '\"'\n",
            "Skipping line 79320: ';' expected after '\"'\n",
            "Skipping line 79725: ';' expected after '\"'\n",
            "Skipping line 79909: ';' expected after '\"'\n",
            "Skipping line 79974: ';' expected after '\"'\n",
            "Skipping line 81924: ';' expected after '\"'\n",
            "Skipping line 83588: ';' expected after '\"'\n",
            "Skipping line 83609: ';' expected after '\"'\n",
            "Skipping line 83907: ';' expected after '\"'\n",
            "Skipping line 84489: ';' expected after '\"'\n",
            "Skipping line 84513: ';' expected after '\"'\n",
            "Skipping line 84564: ';' expected after '\"'\n",
            "Skipping line 85035: ';' expected after '\"'\n",
            "Skipping line 85094: ';' expected after '\"'\n",
            "Skipping line 85510: ';' expected after '\"'\n",
            "Skipping line 86373: ';' expected after '\"'\n",
            "Skipping line 86429: ';' expected after '\"'\n",
            "Skipping line 86637: ';' expected after '\"'\n",
            "Skipping line 86694: ';' expected after '\"'\n",
            "Skipping line 86822: ';' expected after '\"'\n",
            "Skipping line 87322: ';' expected after '\"'\n",
            "Skipping line 87757: ';' expected after '\"'\n",
            "Skipping line 87950: ';' expected after '\"'\n",
            "Skipping line 88000: ';' expected after '\"'\n",
            "Skipping line 88405: ';' expected after '\"'\n",
            "Skipping line 88698: ';' expected after '\"'\n",
            "Skipping line 88809: ';' expected after '\"'\n",
            "Skipping line 88980: ';' expected after '\"'\n",
            "Skipping line 89309: ';' expected after '\"'\n",
            "Skipping line 89988: ';' expected after '\"'\n",
            "Skipping line 90052: ';' expected after '\"'\n",
            "Skipping line 90062: ';' expected after '\"'\n",
            "Skipping line 90210: ';' expected after '\"'\n",
            "Skipping line 91033: ';' expected after '\"'\n",
            "Skipping line 91338: ';' expected after '\"'\n",
            "Skipping line 91603: ';' expected after '\"'\n",
            "Skipping line 91658: ';' expected after '\"'\n",
            "Skipping line 91950: ';' expected after '\"'\n",
            "Skipping line 92038: ';' expected after '\"'\n",
            "Skipping line 92099: ';' expected after '\"'\n",
            "Skipping line 92232: ';' expected after '\"'\n",
            "Skipping line 92436: ';' expected after '\"'\n",
            "Skipping line 92829: ';' expected after '\"'\n",
            "Skipping line 92856: ';' expected after '\"'\n",
            "Skipping line 92948: ';' expected after '\"'\n",
            "Skipping line 93118: ';' expected after '\"'\n",
            "Skipping line 93289: ';' expected after '\"'\n",
            "Skipping line 93299: ';' expected after '\"'\n",
            "Skipping line 93760: ';' expected after '\"'\n",
            "Skipping line 93862: ';' expected after '\"'\n",
            "Skipping line 94130: ';' expected after '\"'\n",
            "Skipping line 94236: ';' expected after '\"'\n",
            "Skipping line 94316: ';' expected after '\"'\n",
            "Skipping line 94735: ';' expected after '\"'\n",
            "Skipping line 95058: ';' expected after '\"'\n",
            "Skipping line 95075: ';' expected after '\"'\n",
            "Skipping line 95244: ';' expected after '\"'\n",
            "Skipping line 95248: ';' expected after '\"'\n",
            "Skipping line 95342: ';' expected after '\"'\n",
            "Skipping line 95455: ';' expected after '\"'\n",
            "Skipping line 95482: ';' expected after '\"'\n",
            "Skipping line 95768: ';' expected after '\"'\n",
            "Skipping line 96577: ';' expected after '\"'\n",
            "Skipping line 96795: ';' expected after '\"'\n",
            "Skipping line 96899: ';' expected after '\"'\n",
            "Skipping line 97100: ';' expected after '\"'\n",
            "Skipping line 97300: ';' expected after '\"'\n",
            "Skipping line 98038: ';' expected after '\"'\n",
            "Skipping line 98119: ';' expected after '\"'\n",
            "Skipping line 98290: ';' expected after '\"'\n",
            "Skipping line 98344: ';' expected after '\"'\n",
            "Skipping line 98515: ';' expected after '\"'\n",
            "Skipping line 99472: ';' expected after '\"'\n",
            "Skipping line 100783: ';' expected after '\"'\n",
            "Skipping line 100797: ';' expected after '\"'\n",
            "Skipping line 101070: ';' expected after '\"'\n",
            "Skipping line 101472: ';' expected after '\"'\n",
            "Skipping line 101915: ';' expected after '\"'\n",
            "Skipping line 102249: ';' expected after '\"'\n",
            "Skipping line 102341: ';' expected after '\"'\n",
            "Skipping line 102440: ';' expected after '\"'\n",
            "Skipping line 103013: ';' expected after '\"'\n",
            "Skipping line 103090: ';' expected after '\"'\n",
            "Skipping line 103103: ';' expected after '\"'\n",
            "Skipping line 103653: ';' expected after '\"'\n",
            "Skipping line 103684: ';' expected after '\"'\n",
            "Skipping line 104047: ';' expected after '\"'\n",
            "Skipping line 104082: ';' expected after '\"'\n",
            "Skipping line 104319: ';' expected after '\"'\n",
            "Skipping line 104771: ';' expected after '\"'\n",
            "Skipping line 105170: ';' expected after '\"'\n",
            "Skipping line 105209: ';' expected after '\"'\n",
            "Skipping line 105342: ';' expected after '\"'\n",
            "Skipping line 105641: ';' expected after '\"'\n",
            "Skipping line 105770: ';' expected after '\"'\n",
            "Skipping line 105836: ';' expected after '\"'\n",
            "Skipping line 105893: ';' expected after '\"'\n",
            "Skipping line 106183: ';' expected after '\"'\n",
            "Skipping line 106320: ';' expected after '\"'\n",
            "Skipping line 106949: ';' expected after '\"'\n",
            "Skipping line 106976: ';' expected after '\"'\n",
            "Skipping line 107052: ';' expected after '\"'\n",
            "Skipping line 107299: ';' expected after '\"'\n",
            "Skipping line 107331: ';' expected after '\"'\n",
            "Skipping line 107357: ';' expected after '\"'\n",
            "Skipping line 107511: ';' expected after '\"'\n",
            "Skipping line 107551: ';' expected after '\"'\n",
            "Skipping line 107634: ';' expected after '\"'\n",
            "Skipping line 107763: ';' expected after '\"'\n",
            "Skipping line 107822: ';' expected after '\"'\n",
            "Skipping line 108142: ';' expected after '\"'\n",
            "Skipping line 108289: ';' expected after '\"'\n",
            "Skipping line 108529: ';' expected after '\"'\n",
            "Skipping line 108567: ';' expected after '\"'\n",
            "Skipping line 108900: ';' expected after '\"'\n",
            "Skipping line 109021: ';' expected after '\"'\n",
            "Skipping line 109643: ';' expected after '\"'\n",
            "Skipping line 109944: ';' expected after '\"'\n",
            "Skipping line 110041: ';' expected after '\"'\n",
            "Skipping line 110048: ';' expected after '\"'\n",
            "Skipping line 110548: ';' expected after '\"'\n",
            "Skipping line 110752: ';' expected after '\"'\n",
            "Skipping line 111038: ';' expected after '\"'\n",
            "Skipping line 111040: ';' expected after '\"'\n",
            "Skipping line 111174: ';' expected after '\"'\n",
            "Skipping line 111222: ';' expected after '\"'\n",
            "Skipping line 111543: ';' expected after '\"'\n",
            "Skipping line 111851: ';' expected after '\"'\n",
            "Skipping line 111852: ';' expected after '\"'\n",
            "Skipping line 111878: ';' expected after '\"'\n",
            "Skipping line 111954: ';' expected after '\"'\n",
            "Skipping line 111990: ';' expected after '\"'\n",
            "Skipping line 112119: ';' expected after '\"'\n",
            "Skipping line 112121: ';' expected after '\"'\n",
            "Skipping line 112282: ';' expected after '\"'\n",
            "Skipping line 112965: ';' expected after '\"'\n",
            "Skipping line 113461: ';' expected after '\"'\n",
            "Skipping line 113731: ';' expected after '\"'\n",
            "Skipping line 114070: ';' expected after '\"'\n",
            "Skipping line 114783: ';' expected after '\"'\n",
            "Skipping line 114934: ';' expected after '\"'\n",
            "Skipping line 115215: ';' expected after '\"'\n",
            "Skipping line 115493: ';' expected after '\"'\n",
            "Skipping line 115508: ';' expected after '\"'\n",
            "Skipping line 115751: ';' expected after '\"'\n",
            "Skipping line 116002: ';' expected after '\"'\n",
            "Skipping line 116049: ';' expected after '\"'\n",
            "Skipping line 116144: ';' expected after '\"'\n",
            "Skipping line 116171: ';' expected after '\"'\n",
            "Skipping line 116179: ';' expected after '\"'\n",
            "Skipping line 116463: ';' expected after '\"'\n",
            "Skipping line 117147: ';' expected after '\"'\n",
            "Skipping line 117176: ';' expected after '\"'\n",
            "Skipping line 117368: ';' expected after '\"'\n",
            "Skipping line 117997: ';' expected after '\"'\n",
            "Skipping line 118007: ';' expected after '\"'\n",
            "Skipping line 118225: ';' expected after '\"'\n",
            "Skipping line 118272: ';' expected after '\"'\n",
            "Skipping line 118288: ';' expected after '\"'\n",
            "Skipping line 119009: ';' expected after '\"'\n",
            "Skipping line 119535: ';' expected after '\"'\n",
            "Skipping line 119548: ';' expected after '\"'\n",
            "Skipping line 119910: ';' expected after '\"'\n",
            "Skipping line 120219: ';' expected after '\"'\n",
            "Skipping line 121400: ';' expected after '\"'\n",
            "Skipping line 121421: ';' expected after '\"'\n",
            "Skipping line 121422: ';' expected after '\"'\n",
            "Skipping line 121480: ';' expected after '\"'\n",
            "Skipping line 121768: ';' expected after '\"'\n",
            "Skipping line 122100: ';' expected after '\"'\n",
            "Skipping line 122608: ';' expected after '\"'\n",
            "Skipping line 123031: ';' expected after '\"'\n",
            "Skipping line 123127: ';' expected after '\"'\n",
            "Skipping line 123490: ';' expected after '\"'\n",
            "Skipping line 123756: ';' expected after '\"'\n",
            "Skipping line 123931: ';' expected after '\"'\n",
            "Skipping line 124311: ';' expected after '\"'\n",
            "Skipping line 124946: ';' expected after '\"'\n",
            "Skipping line 125104: ';' expected after '\"'\n",
            "Skipping line 125505: ';' expected after '\"'\n",
            "Skipping line 126333: ';' expected after '\"'\n",
            "Skipping line 126756: ';' expected after '\"'\n",
            "Skipping line 127265: ';' expected after '\"'\n",
            "Skipping line 127745: ';' expected after '\"'\n",
            "Skipping line 128018: ';' expected after '\"'\n",
            "Skipping line 128631: ';' expected after '\"'\n",
            "Skipping line 128633: ';' expected after '\"'\n",
            "Skipping line 128635: ';' expected after '\"'\n",
            "Skipping line 129190: ';' expected after '\"'\n",
            "Skipping line 129668: ';' expected after '\"'\n",
            "Skipping line 129942: ';' expected after '\"'\n",
            "Skipping line 130220: ';' expected after '\"'\n",
            "Skipping line 130307: ';' expected after '\"'\n",
            "Skipping line 130448: ';' expected after '\"'\n",
            "Skipping line 130794: ';' expected after '\"'\n",
            "Skipping line 131400: ';' expected after '\"'\n",
            "Skipping line 131541: ';' expected after '\"'\n",
            "Skipping line 131571: ';' expected after '\"'\n",
            "Skipping line 131589: ';' expected after '\"'\n",
            "Skipping line 131591: ';' expected after '\"'\n",
            "Skipping line 131662: ';' expected after '\"'\n",
            "Skipping line 131999: ';' expected after '\"'\n",
            "Skipping line 132090: ';' expected after '\"'\n",
            "Skipping line 132362: ';' expected after '\"'\n",
            "Skipping line 132516: ';' expected after '\"'\n",
            "Skipping line 132970: ';' expected after '\"'\n",
            "Skipping line 133250: ';' expected after '\"'\n",
            "Skipping line 133252: ';' expected after '\"'\n",
            "Skipping line 133254: ';' expected after '\"'\n",
            "Skipping line 133362: ';' expected after '\"'\n",
            "Skipping line 133480: ';' expected after '\"'\n",
            "Skipping line 133523: ';' expected after '\"'\n",
            "Skipping line 133625: ';' expected after '\"'\n",
            "Skipping line 133996: ';' expected after '\"'\n",
            "Skipping line 133998: ';' expected after '\"'\n",
            "Skipping line 134001: ';' expected after '\"'\n",
            "Skipping line 134004: ';' expected after '\"'\n",
            "Skipping line 134006: ';' expected after '\"'\n",
            "Skipping line 134007: ';' expected after '\"'\n",
            "Skipping line 135052: ';' expected after '\"'\n",
            "Skipping line 135121: ';' expected after '\"'\n",
            "Skipping line 136649: ';' expected after '\"'\n",
            "Skipping line 136776: ';' expected after '\"'\n",
            "Skipping line 137577: ';' expected after '\"'\n",
            "Skipping line 137613: ';' expected after '\"'\n",
            "Skipping line 137936: ';' expected after '\"'\n",
            "Skipping line 137939: ';' expected after '\"'\n",
            "Skipping line 137965: ';' expected after '\"'\n",
            "Skipping line 138058: ';' expected after '\"'\n",
            "Skipping line 138060: ';' expected after '\"'\n",
            "Skipping line 138061: ';' expected after '\"'\n",
            "Skipping line 138062: ';' expected after '\"'\n",
            "Skipping line 138063: ';' expected after '\"'\n",
            "Skipping line 138064: ';' expected after '\"'\n",
            "Skipping line 138065: ';' expected after '\"'\n",
            "Skipping line 138311: ';' expected after '\"'\n",
            "Skipping line 138790: ';' expected after '\"'\n",
            "Skipping line 139139: ';' expected after '\"'\n",
            "Skipping line 139140: ';' expected after '\"'\n",
            "Skipping line 139341: ';' expected after '\"'\n",
            "Skipping line 139568: ';' expected after '\"'\n",
            "Skipping line 139586: ';' expected after '\"'\n",
            "Skipping line 139591: ';' expected after '\"'\n",
            "Skipping line 140406: ';' expected after '\"'\n",
            "Skipping line 140500: ';' expected after '\"'\n",
            "Skipping line 140618: ';' expected after '\"'\n",
            "Skipping line 140952: ';' expected after '\"'\n",
            "Skipping line 141433: ';' expected after '\"'\n",
            "Skipping line 141437: ';' expected after '\"'\n",
            "Skipping line 141661: ';' expected after '\"'\n",
            "Skipping line 141675: ';' expected after '\"'\n",
            "Skipping line 141744: ';' expected after '\"'\n",
            "Skipping line 141961: ';' expected after '\"'\n",
            "Skipping line 142003: ';' expected after '\"'\n",
            "Skipping line 142157: ';' expected after '\"'\n",
            "Skipping line 142607: ';' expected after '\"'\n",
            "Skipping line 142639: ';' expected after '\"'\n",
            "Skipping line 142732: ';' expected after '\"'\n",
            "Skipping line 143505: ';' expected after '\"'\n",
            "Skipping line 143664: ';' expected after '\"'\n",
            "Skipping line 143677: ';' expected after '\"'\n",
            "Skipping line 144058: ';' expected after '\"'\n",
            "Skipping line 145142: ';' expected after '\"'\n",
            "Skipping line 145177: ';' expected after '\"'\n",
            "Skipping line 145725: ';' expected after '\"'\n",
            "Skipping line 146593: ';' expected after '\"'\n",
            "Skipping line 146761: ';' expected after '\"'\n",
            "Skipping line 146953: ';' expected after '\"'\n",
            "Skipping line 147144: ';' expected after '\"'\n",
            "Skipping line 147267: ';' expected after '\"'\n",
            "Skipping line 147368: ';' expected after '\"'\n",
            "Skipping line 147902: ';' expected after '\"'\n",
            "Skipping line 148994: ';' expected after '\"'\n",
            "Skipping line 149202: ';' expected after '\"'\n",
            "Skipping line 149700: ';' expected after '\"'\n",
            "Skipping line 150315: ';' expected after '\"'\n",
            "Skipping line 150624: ';' expected after '\"'\n",
            "Skipping line 150759: ';' expected after '\"'\n",
            "Skipping line 150789: ';' expected after '\"'\n",
            "Skipping line 151117: ';' expected after '\"'\n",
            "Skipping line 151252: ';' expected after '\"'\n",
            "Skipping line 151335: ';' expected after '\"'\n",
            "Skipping line 152340: ';' expected after '\"'\n",
            "Skipping line 152557: ';' expected after '\"'\n",
            "Skipping line 152662: ';' expected after '\"'\n",
            "Skipping line 153921: ';' expected after '\"'\n",
            "Skipping line 154493: ';' expected after '\"'\n",
            "Skipping line 154607: ';' expected after '\"'\n",
            "Skipping line 154679: ';' expected after '\"'\n",
            "Skipping line 155080: ';' expected after '\"'\n",
            "Skipping line 155149: ';' expected after '\"'\n",
            "Skipping line 155677: ';' expected after '\"'\n",
            "Skipping line 155754: ';' expected after '\"'\n",
            "Skipping line 155966: ';' expected after '\"'\n",
            "Skipping line 156172: ';' expected after '\"'\n",
            "Skipping line 156273: ';' expected after '\"'\n",
            "Skipping line 156883: ';' expected after '\"'\n",
            "Skipping line 157128: ';' expected after '\"'\n",
            "Skipping line 158326: ';' expected after '\"'\n",
            "Skipping line 158329: ';' expected after '\"'\n",
            "Skipping line 158333: ';' expected after '\"'\n",
            "Skipping line 158540: ';' expected after '\"'\n",
            "Skipping line 158567: ';' expected after '\"'\n",
            "Skipping line 159031: ';' expected after '\"'\n",
            "Skipping line 159966: ';' expected after '\"'\n",
            "Skipping line 160139: ';' expected after '\"'\n",
            "Skipping line 160946: ';' expected after '\"'\n",
            "Skipping line 160975: ';' expected after '\"'\n",
            "Skipping line 161015: ';' expected after '\"'\n",
            "Skipping line 161227: ';' expected after '\"'\n",
            "Skipping line 161629: ';' expected after '\"'\n",
            "Skipping line 161889: ';' expected after '\"'\n",
            "Skipping line 161927: ';' expected after '\"'\n",
            "Skipping line 162335: ';' expected after '\"'\n",
            "Skipping line 162620: ';' expected after '\"'\n",
            "Skipping line 162664: ';' expected after '\"'\n",
            "Skipping line 162790: ';' expected after '\"'\n",
            "Skipping line 163058: ';' expected after '\"'\n",
            "Skipping line 163081: ';' expected after '\"'\n",
            "Skipping line 163134: ';' expected after '\"'\n",
            "Skipping line 163429: ';' expected after '\"'\n",
            "Skipping line 163633: ';' expected after '\"'\n",
            "Skipping line 163680: ';' expected after '\"'\n",
            "Skipping line 164365: ';' expected after '\"'\n",
            "Skipping line 164385: ';' expected after '\"'\n",
            "Skipping line 164639: ';' expected after '\"'\n",
            "Skipping line 164640: ';' expected after '\"'\n",
            "Skipping line 165005: ';' expected after '\"'\n",
            "Skipping line 165056: ';' expected after '\"'\n",
            "Skipping line 165169: ';' expected after '\"'\n",
            "Skipping line 165306: ';' expected after '\"'\n",
            "Skipping line 165317: ';' expected after '\"'\n",
            "Skipping line 165514: ';' expected after '\"'\n",
            "Skipping line 165946: ';' expected after '\"'\n",
            "Skipping line 166007: ';' expected after '\"'\n",
            "Skipping line 166120: ';' expected after '\"'\n",
            "Skipping line 166367: ';' expected after '\"'\n",
            "Skipping line 166404: ';' expected after '\"'\n",
            "Skipping line 166982: ';' expected after '\"'\n",
            "Skipping line 167285: ';' expected after '\"'\n",
            "Skipping line 167342: ';' expected after '\"'\n",
            "Skipping line 167492: ';' expected after '\"'\n",
            "Skipping line 167606: ';' expected after '\"'\n",
            "Skipping line 168620: ';' expected after '\"'\n",
            "Skipping line 169037: ';' expected after '\"'\n",
            "Skipping line 169206: ';' expected after '\"'\n",
            "Skipping line 169486: ';' expected after '\"'\n",
            "Skipping line 169549: ';' expected after '\"'\n",
            "Skipping line 169948: ';' expected after '\"'\n",
            "Skipping line 170417: ';' expected after '\"'\n",
            "Skipping line 170472: ';' expected after '\"'\n",
            "Skipping line 170503: ';' expected after '\"'\n",
            "Skipping line 170657: ';' expected after '\"'\n",
            "Skipping line 170909: ';' expected after '\"'\n",
            "Skipping line 171103: ';' expected after '\"'\n",
            "Skipping line 171492: ';' expected after '\"'\n",
            "Skipping line 172648: ';' expected after '\"'\n",
            "Skipping line 172655: ';' expected after '\"'\n",
            "Skipping line 173268: ';' expected after '\"'\n",
            "Skipping line 173779: ';' expected after '\"'\n",
            "Skipping line 174525: ';' expected after '\"'\n",
            "Skipping line 174617: ';' expected after '\"'\n",
            "Skipping line 174914: ';' expected after '\"'\n",
            "Skipping line 175627: ';' expected after '\"'\n",
            "Skipping line 175836: ';' expected after '\"'\n",
            "Skipping line 176055: ';' expected after '\"'\n",
            "Skipping line 176218: ';' expected after '\"'\n",
            "Skipping line 176323: ';' expected after '\"'\n",
            "Skipping line 176463: ';' expected after '\"'\n",
            "Skipping line 176778: ';' expected after '\"'\n",
            "Skipping line 177387: ';' expected after '\"'\n",
            "Skipping line 177398: ';' expected after '\"'\n",
            "Skipping line 177568: ';' expected after '\"'\n",
            "Skipping line 177979: ';' expected after '\"'\n",
            "Skipping line 178833: ';' expected after '\"'\n",
            "Skipping line 179312: ';' expected after '\"'\n",
            "Skipping line 179568: ';' expected after '\"'\n",
            "Skipping line 180189: ';' expected after '\"'\n",
            "Skipping line 180284: ';' expected after '\"'\n",
            "Skipping line 180392: ';' expected after '\"'\n",
            "Skipping line 180664: ';' expected after '\"'\n",
            "Skipping line 180746: ';' expected after '\"'\n",
            "Skipping line 181126: ';' expected after '\"'\n",
            "Skipping line 181420: ';' expected after '\"'\n",
            "Skipping line 182335: ';' expected after '\"'\n",
            "Skipping line 182796: ';' expected after '\"'\n",
            "Skipping line 183086: ';' expected after '\"'\n",
            "Skipping line 183294: ';' expected after '\"'\n",
            "Skipping line 183444: ';' expected after '\"'\n",
            "Skipping line 183896: ';' expected after '\"'\n",
            "Skipping line 184373: ';' expected after '\"'\n",
            "Skipping line 184854: ';' expected after '\"'\n",
            "Skipping line 185067: ';' expected after '\"'\n",
            "Skipping line 185406: ';' expected after '\"'\n",
            "Skipping line 185738: ';' expected after '\"'\n",
            "Skipping line 185882: ';' expected after '\"'\n",
            "Skipping line 186633: ';' expected after '\"'\n",
            "Skipping line 186748: ';' expected after '\"'\n",
            "Skipping line 187243: ';' expected after '\"'\n",
            "Skipping line 187355: ';' expected after '\"'\n",
            "Skipping line 187446: ';' expected after '\"'\n",
            "Skipping line 187596: ';' expected after '\"'\n",
            "Skipping line 187847: ';' expected after '\"'\n",
            "Skipping line 187954: ';' expected after '\"'\n",
            "Skipping line 188170: ';' expected after '\"'\n",
            "Skipping line 188645: ';' expected after '\"'\n",
            "Skipping line 188812: ';' expected after '\"'\n",
            "Skipping line 188934: ';' expected after '\"'\n",
            "Skipping line 189288: ';' expected after '\"'\n",
            "Skipping line 189438: ';' expected after '\"'\n",
            "Skipping line 189651: ';' expected after '\"'\n",
            "Skipping line 189867: ';' expected after '\"'\n",
            "Skipping line 192028: ';' expected after '\"'\n",
            "Skipping line 192315: ';' expected after '\"'\n",
            "Skipping line 193103: ';' expected after '\"'\n",
            "Skipping line 193160: ';' expected after '\"'\n",
            "Skipping line 193582: ';' expected after '\"'\n",
            "Skipping line 193583: ';' expected after '\"'\n",
            "Skipping line 194544: ';' expected after '\"'\n",
            "Skipping line 194553: ';' expected after '\"'\n",
            "Skipping line 194683: ';' expected after '\"'\n",
            "Skipping line 194865: ';' expected after '\"'\n",
            "Skipping line 195213: ';' expected after '\"'\n",
            "Skipping line 195879: ';' expected after '\"'\n",
            "Skipping line 196652: ';' expected after '\"'\n",
            "Skipping line 196922: ';' expected after '\"'\n",
            "Skipping line 197202: ';' expected after '\"'\n",
            "Skipping line 197231: ';' expected after '\"'\n",
            "Skipping line 197376: ';' expected after '\"'\n",
            "Skipping line 197809: ';' expected after '\"'\n",
            "Skipping line 197820: ';' expected after '\"'\n",
            "Skipping line 197950: ';' expected after '\"'\n",
            "Skipping line 198076: ';' expected after '\"'\n",
            "Skipping line 198109: ';' expected after '\"'\n",
            "Skipping line 198133: ';' expected after '\"'\n",
            "Skipping line 198491: ';' expected after '\"'\n",
            "Skipping line 198688: ';' expected after '\"'\n",
            "Skipping line 199435: ';' expected after '\"'\n",
            "Skipping line 199501: ';' expected after '\"'\n",
            "Skipping line 200306: ';' expected after '\"'\n",
            "Skipping line 200908: ';' expected after '\"'\n",
            "Skipping line 201267: ';' expected after '\"'\n",
            "Skipping line 201651: ';' expected after '\"'\n",
            "Skipping line 202255: ';' expected after '\"'\n",
            "Skipping line 202365: ';' expected after '\"'\n",
            "Skipping line 202816: ';' expected after '\"'\n",
            "Skipping line 203064: ';' expected after '\"'\n",
            "Skipping line 203131: ';' expected after '\"'\n",
            "Skipping line 203240: ';' expected after '\"'\n",
            "Skipping line 203737: ';' expected after '\"'\n",
            "Skipping line 204300: ';' expected after '\"'\n",
            "Skipping line 205001: ';' expected after '\"'\n",
            "Skipping line 205962: ';' expected after '\"'\n",
            "Skipping line 207489: ';' expected after '\"'\n",
            "Skipping line 207692: ';' expected after '\"'\n",
            "Skipping line 208011: ';' expected after '\"'\n",
            "Skipping line 208339: ';' expected after '\"'\n",
            "Skipping line 208474: ';' expected after '\"'\n",
            "Skipping line 208675: ';' expected after '\"'\n",
            "Skipping line 208760: ';' expected after '\"'\n",
            "Skipping line 209070: ';' expected after '\"'\n",
            "Skipping line 209388: ';' expected after '\"'\n",
            "Skipping line 209552: ';' expected after '\"'\n",
            "Skipping line 209633: ';' expected after '\"'\n",
            "Skipping line 209634: ';' expected after '\"'\n",
            "Skipping line 210006: ';' expected after '\"'\n",
            "Skipping line 210047: ';' expected after '\"'\n",
            "Skipping line 210603: ';' expected after '\"'\n",
            "Skipping line 211122: ';' expected after '\"'\n",
            "Skipping line 211908: ';' expected after '\"'\n",
            "Skipping line 212421: ';' expected after '\"'\n",
            "Skipping line 212577: ';' expected after '\"'\n",
            "Skipping line 212579: ';' expected after '\"'\n",
            "Skipping line 212704: ';' expected after '\"'\n",
            "Skipping line 213285: ';' expected after '\"'\n",
            "Skipping line 213555: ';' expected after '\"'\n",
            "Skipping line 213847: ';' expected after '\"'\n",
            "Skipping line 214241: ';' expected after '\"'\n",
            "Skipping line 214872: ';' expected after '\"'\n",
            "Skipping line 214954: ';' expected after '\"'\n",
            "Skipping line 215024: ';' expected after '\"'\n",
            "Skipping line 215034: ';' expected after '\"'\n",
            "Skipping line 215165: ';' expected after '\"'\n",
            "Skipping line 215230: ';' expected after '\"'\n",
            "Skipping line 215267: ';' expected after '\"'\n",
            "Skipping line 215430: ';' expected after '\"'\n",
            "Skipping line 215638: ';' expected after '\"'\n",
            "Skipping line 216364: ';' expected after '\"'\n",
            "Skipping line 216508: ';' expected after '\"'\n",
            "Skipping line 216515: ';' expected after '\"'\n",
            "Skipping line 216518: ';' expected after '\"'\n",
            "Skipping line 216523: ';' expected after '\"'\n",
            "Skipping line 216524: ';' expected after '\"'\n",
            "Skipping line 216530: ';' expected after '\"'\n",
            "Skipping line 216768: ';' expected after '\"'\n",
            "Skipping line 216793: ';' expected after '\"'\n",
            "Skipping line 216829: ';' expected after '\"'\n",
            "Skipping line 217785: ';' expected after '\"'\n",
            "Skipping line 217842: ';' expected after '\"'\n",
            "Skipping line 218054: ';' expected after '\"'\n",
            "Skipping line 218477: ';' expected after '\"'\n",
            "Skipping line 218620: ';' expected after '\"'\n",
            "Skipping line 218627: ';' expected after '\"'\n",
            "Skipping line 218633: ';' expected after '\"'\n",
            "Skipping line 218732: ';' expected after '\"'\n",
            "Skipping line 219354: ';' expected after '\"'\n",
            "Skipping line 219797: ';' expected after '\"'\n",
            "Skipping line 219926: ';' expected after '\"'\n",
            "Skipping line 220330: ';' expected after '\"'\n",
            "Skipping line 220370: ';' expected after '\"'\n",
            "Skipping line 220626: ';' expected after '\"'\n",
            "Skipping line 220746: ';' expected after '\"'\n",
            "Skipping line 221109: ';' expected after '\"'\n",
            "Skipping line 221180: ';' expected after '\"'\n",
            "Skipping line 221502: ';' expected after '\"'\n",
            "Skipping line 221693: ';' expected after '\"'\n",
            "Skipping line 222154: ';' expected after '\"'\n",
            "Skipping line 222911: ';' expected after '\"'\n",
            "Skipping line 223498: ';' expected after '\"'\n",
            "Skipping line 224123: ';' expected after '\"'\n",
            "Skipping line 224820: ';' expected after '\"'\n",
            "Skipping line 225101: ';' expected after '\"'\n",
            "Skipping line 225242: ';' expected after '\"'\n",
            "Skipping line 225399: ';' expected after '\"'\n",
            "Skipping line 225825: ';' expected after '\"'\n",
            "Skipping line 226144: ';' expected after '\"'\n",
            "Skipping line 226897: ';' expected after '\"'\n",
            "Skipping line 227645: ';' expected after '\"'\n",
            "Skipping line 227933: ';' expected after '\"'\n",
            "Skipping line 228111: ';' expected after '\"'\n",
            "Skipping line 228382: ';' expected after '\"'\n",
            "Skipping line 228687: ';' expected after '\"'\n",
            "Skipping line 228957: ';' expected after '\"'\n",
            "Skipping line 229187: ';' expected after '\"'\n",
            "Skipping line 229345: ';' expected after '\"'\n",
            "Skipping line 229499: ';' expected after '\"'\n",
            "Skipping line 229655: ';' expected after '\"'\n",
            "Skipping line 229792: ';' expected after '\"'\n",
            "Skipping line 230398: ';' expected after '\"'\n",
            "Skipping line 230714: ';' expected after '\"'\n",
            "Skipping line 231244: ';' expected after '\"'\n",
            "Skipping line 231272: ';' expected after '\"'\n",
            "Skipping line 231617: ';' expected after '\"'\n",
            "Skipping line 231800: ';' expected after '\"'\n",
            "Skipping line 231890: ';' expected after '\"'\n",
            "Skipping line 232328: ';' expected after '\"'\n",
            "Skipping line 232561: ';' expected after '\"'\n",
            "Skipping line 233014: ';' expected after '\"'\n",
            "Skipping line 233056: ';' expected after '\"'\n",
            "Skipping line 233917: ';' expected after '\"'\n",
            "Skipping line 233999: ';' expected after '\"'\n",
            "Skipping line 234353: ';' expected after '\"'\n",
            "Skipping line 234467: ';' expected after '\"'\n",
            "Skipping line 235072: ';' expected after '\"'\n",
            "Skipping line 236109: ';' expected after '\"'\n",
            "Skipping line 236438: ';' expected after '\"'\n",
            "Skipping line 236718: ';' expected after '\"'\n",
            "Skipping line 237419: ';' expected after '\"'\n",
            "Skipping line 237452: ';' expected after '\"'\n",
            "Skipping line 237995: ';' expected after '\"'\n",
            "Skipping line 238317: ';' expected after '\"'\n",
            "Skipping line 238333: ';' expected after '\"'\n",
            "Skipping line 238809: ';' expected after '\"'\n",
            "Skipping line 238927: ';' expected after '\"'\n",
            "Skipping line 239029: ';' expected after '\"'\n",
            "Skipping line 239262: ';' expected after '\"'\n",
            "Skipping line 239276: ';' expected after '\"'\n",
            "Skipping line 239280: ';' expected after '\"'\n",
            "Skipping line 239404: ';' expected after '\"'\n",
            "Skipping line 239449: ';' expected after '\"'\n",
            "Skipping line 239775: ';' expected after '\"'\n",
            "Skipping line 239782: ';' expected after '\"'\n",
            "Skipping line 241511: ';' expected after '\"'\n",
            "Skipping line 241757: ';' expected after '\"'\n",
            "Skipping line 242034: ';' expected after '\"'\n",
            "Skipping line 242076: ';' expected after '\"'\n",
            "Skipping line 242195: ';' expected after '\"'\n",
            "Skipping line 242199: ';' expected after '\"'\n",
            "Skipping line 242369: ';' expected after '\"'\n",
            "Skipping line 242542: ';' expected after '\"'\n",
            "Skipping line 242550: ';' expected after '\"'\n",
            "Skipping line 243351: ';' expected after '\"'\n",
            "Skipping line 243704: ';' expected after '\"'\n",
            "Skipping line 244207: ';' expected after '\"'\n",
            "Skipping line 244557: ';' expected after '\"'\n",
            "Skipping line 244799: ';' expected after '\"'\n",
            "Skipping line 244864: ';' expected after '\"'\n",
            "Skipping line 245110: ';' expected after '\"'\n",
            "Skipping line 245317: ';' expected after '\"'\n",
            "Skipping line 245414: ';' expected after '\"'\n",
            "Skipping line 245729: ';' expected after '\"'\n",
            "Skipping line 245933: ';' expected after '\"'\n",
            "Skipping line 246351: ';' expected after '\"'\n",
            "Skipping line 246811: ';' expected after '\"'\n",
            "Skipping line 246877: ';' expected after '\"'\n",
            "Skipping line 246990: ';' expected after '\"'\n",
            "Skipping line 247354: ';' expected after '\"'\n",
            "Skipping line 248581: ';' expected after '\"'\n",
            "Skipping line 249082: ';' expected after '\"'\n",
            "Skipping line 249549: ';' expected after '\"'\n",
            "Skipping line 249612: ';' expected after '\"'\n",
            "Skipping line 249797: ';' expected after '\"'\n",
            "Skipping line 249913: ';' expected after '\"'\n",
            "Skipping line 249989: ';' expected after '\"'\n",
            "Skipping line 250051: ';' expected after '\"'\n",
            "Skipping line 250145: ';' expected after '\"'\n",
            "Skipping line 250388: ';' expected after '\"'\n",
            "Skipping line 250403: ';' expected after '\"'\n",
            "Skipping line 250404: ';' expected after '\"'\n",
            "Skipping line 250440: ';' expected after '\"'\n",
            "Skipping line 250767: ';' expected after '\"'\n",
            "Skipping line 251090: ';' expected after '\"'\n",
            "Skipping line 251296: ';' expected after '\"'\n",
            "Skipping line 251297: ';' expected after '\"'\n",
            "Skipping line 252116: ';' expected after '\"'\n",
            "Skipping line 252233: ';' expected after '\"'\n",
            "Skipping line 253468: ';' expected after '\"'\n",
            "Skipping line 253871: ';' expected after '\"'\n",
            "Skipping line 253894: ';' expected after '\"'\n",
            "Skipping line 253930: ';' expected after '\"'\n",
            "Skipping line 254172: ';' expected after '\"'\n",
            "Skipping line 254209: ';' expected after '\"'\n",
            "Skipping line 254859: ';' expected after '\"'\n",
            "Skipping line 254880: ';' expected after '\"'\n",
            "Skipping line 255062: ';' expected after '\"'\n",
            "Skipping line 255209: ';' expected after '\"'\n",
            "Skipping line 255822: ';' expected after '\"'\n",
            "Skipping line 256961: ';' expected after '\"'\n",
            "Skipping line 257600: ';' expected after '\"'\n",
            "Skipping line 258688: ';' expected after '\"'\n",
            "Skipping line 258873: ';' expected after '\"'\n",
            "Skipping line 258922: ';' expected after '\"'\n",
            "Skipping line 259387: ';' expected after '\"'\n",
            "Skipping line 259671: ';' expected after '\"'\n",
            "Skipping line 259941: ';' expected after '\"'\n",
            "Skipping line 260581: ';' expected after '\"'\n",
            "Skipping line 260625: ';' expected after '\"'\n",
            "Skipping line 260776: ';' expected after '\"'\n",
            "Skipping line 261529: ';' expected after '\"'\n",
            "Skipping line 261531: ';' expected after '\"'\n",
            "Skipping line 261626: ';' expected after '\"'\n",
            "Skipping line 261770: ';' expected after '\"'\n",
            "Skipping line 262168: ';' expected after '\"'\n",
            "Skipping line 262543: ';' expected after '\"'\n",
            "Skipping line 262544: ';' expected after '\"'\n",
            "Skipping line 262667: ';' expected after '\"'\n",
            "Skipping line 262711: ';' expected after '\"'\n",
            "Skipping line 263847: ';' expected after '\"'\n",
            "Skipping line 263870: ';' expected after '\"'\n",
            "Skipping line 263893: ';' expected after '\"'\n",
            "Skipping line 264104: ';' expected after '\"'\n",
            "Skipping line 264135: ';' expected after '\"'\n",
            "Skipping line 264753: ';' expected after '\"'\n",
            "Skipping line 264840: ';' expected after '\"'\n",
            "Skipping line 264976: ';' expected after '\"'\n",
            "Skipping line 265097: ';' expected after '\"'\n",
            "Skipping line 266221: ';' expected after '\"'\n",
            "Skipping line 267107: ';' expected after '\"'\n",
            "Skipping line 267207: ';' expected after '\"'\n",
            "Skipping line 267322: ';' expected after '\"'\n",
            "Skipping line 267622: ';' expected after '\"'\n",
            "Skipping line 267820: ';' expected after '\"'\n",
            "Skipping line 268025: ';' expected after '\"'\n",
            "Skipping line 268160: ';' expected after '\"'\n",
            "Skipping line 268278: ';' expected after '\"'\n",
            "Skipping line 268315: ';' expected after '\"'\n",
            "Skipping line 268361: ';' expected after '\"'\n",
            "Skipping line 268921: ';' expected after '\"'\n",
            "Skipping line 269121: ';' expected after '\"'\n",
            "Skipping line 269285: ';' expected after '\"'\n",
            "Skipping line 269402: ';' expected after '\"'\n",
            "Skipping line 269638: ';' expected after '\"'\n",
            "Skipping line 270486: ';' expected after '\"'\n",
            "Skipping line 270558: ';' expected after '\"'\n",
            "Skipping line 270821: ';' expected after '\"'\n",
            "Skipping line 271173: ';' expected after '\"'\n",
            "Skipping line 271192: ';' expected after '\"'\n"
          ],
          "name": "stderr"
        }
      ]
    },
    {
      "cell_type": "code",
      "metadata": {
        "id": "u_pvtJ7V2xbd",
        "colab": {
          "base_uri": "https://localhost:8080/"
        },
        "outputId": "ff99ea4c-56e1-425e-9846-8d97dc9c4690"
      },
      "source": [
        "books.shape"
      ],
      "execution_count": 7,
      "outputs": [
        {
          "output_type": "execute_result",
          "data": {
            "text/plain": [
              "(270491, 8)"
            ]
          },
          "metadata": {
            "tags": []
          },
          "execution_count": 7
        }
      ]
    },
    {
      "cell_type": "code",
      "metadata": {
        "id": "tFq4zw0b16n7",
        "colab": {
          "base_uri": "https://localhost:8080/"
        },
        "outputId": "fb3341b1-373c-4c06-c192-191185a33f4c"
      },
      "source": [
        "ratings = pd.read_csv('/content/drive/MyDrive/Ratings.csv', error_bad_lines=False, delimiter=';', engine = 'python' , encoding = 'ISO-8859-1')"
      ],
      "execution_count": 8,
      "outputs": [
        {
          "output_type": "stream",
          "text": [
            "Skipping line 21689: ';' expected after '\"'\n",
            "Skipping line 45329: ';' expected after '\"'\n",
            "Skipping line 45330: ';' expected after '\"'\n",
            "Skipping line 183262: ';' expected after '\"'\n",
            "Skipping line 210093: ';' expected after '\"'\n",
            "Skipping line 531938: ';' expected after '\"'\n",
            "Skipping line 663237: ';' expected after '\"'\n",
            "Skipping line 824822: ';' expected after '\"'\n",
            "Skipping line 877349: ';' expected after '\"'\n",
            "Skipping line 941679: ';' expected after '\"'\n",
            "Skipping line 1134132: ';' expected after '\"'\n",
            "Skipping line 1145176: ';' expected after '\"'\n",
            "Skipping line 1145177: ';' expected after '\"'\n",
            "Skipping line 1148551: ';' expected after '\"'\n"
          ],
          "name": "stderr"
        }
      ]
    },
    {
      "cell_type": "code",
      "metadata": {
        "id": "LUJR9SDh3n2W",
        "colab": {
          "base_uri": "https://localhost:8080/"
        },
        "outputId": "6dc1b03f-b147-472c-e316-b28c255331dc"
      },
      "source": [
        "ratings.shape"
      ],
      "execution_count": 9,
      "outputs": [
        {
          "output_type": "execute_result",
          "data": {
            "text/plain": [
              "(1149766, 3)"
            ]
          },
          "metadata": {
            "tags": []
          },
          "execution_count": 9
        }
      ]
    },
    {
      "cell_type": "code",
      "metadata": {
        "id": "_DsYlLYm3tCW"
      },
      "source": [
        "data = pd.merge(ratings, users, on='User-ID', how='inner')"
      ],
      "execution_count": 10,
      "outputs": []
    },
    {
      "cell_type": "code",
      "metadata": {
        "id": "RNt32aDt3xC_"
      },
      "source": [
        "data = pd.merge(data, books, on='ISBN', how='inner')"
      ],
      "execution_count": 11,
      "outputs": []
    },
    {
      "cell_type": "code",
      "metadata": {
        "id": "QxG6hJbx3ziX",
        "colab": {
          "base_uri": "https://localhost:8080/"
        },
        "outputId": "25a1b09e-b567-42b6-fd71-2fa770c49959"
      },
      "source": [
        "data.columns"
      ],
      "execution_count": 12,
      "outputs": [
        {
          "output_type": "execute_result",
          "data": {
            "text/plain": [
              "Index(['User-ID', 'ISBN', 'Book-Rating', 'Location', 'Age', 'Book-Title',\n",
              "       'Book-Author', 'Year-Of-Publication', 'Publisher', 'Image-URL-S',\n",
              "       'Image-URL-M', 'Image-URL-L'],\n",
              "      dtype='object')"
            ]
          },
          "metadata": {
            "tags": []
          },
          "execution_count": 12
        }
      ]
    },
    {
      "cell_type": "code",
      "metadata": {
        "id": "nMJcrde74DAO",
        "colab": {
          "base_uri": "https://localhost:8080/",
          "height": 173
        },
        "outputId": "97b29c90-5aa7-4f06-b3c1-7735165ecbbf"
      },
      "source": [
        "data.corr()"
      ],
      "execution_count": 13,
      "outputs": [
        {
          "output_type": "execute_result",
          "data": {
            "text/html": [
              "<div>\n",
              "<style scoped>\n",
              "    .dataframe tbody tr th:only-of-type {\n",
              "        vertical-align: middle;\n",
              "    }\n",
              "\n",
              "    .dataframe tbody tr th {\n",
              "        vertical-align: top;\n",
              "    }\n",
              "\n",
              "    .dataframe thead th {\n",
              "        text-align: right;\n",
              "    }\n",
              "</style>\n",
              "<table border=\"1\" class=\"dataframe\">\n",
              "  <thead>\n",
              "    <tr style=\"text-align: right;\">\n",
              "      <th></th>\n",
              "      <th>User-ID</th>\n",
              "      <th>Book-Rating</th>\n",
              "      <th>Age</th>\n",
              "      <th>Year-Of-Publication</th>\n",
              "    </tr>\n",
              "  </thead>\n",
              "  <tbody>\n",
              "    <tr>\n",
              "      <th>User-ID</th>\n",
              "      <td>1.000000</td>\n",
              "      <td>-0.044026</td>\n",
              "      <td>-0.013561</td>\n",
              "      <td>0.004560</td>\n",
              "    </tr>\n",
              "    <tr>\n",
              "      <th>Book-Rating</th>\n",
              "      <td>-0.044026</td>\n",
              "      <td>1.000000</td>\n",
              "      <td>-0.025292</td>\n",
              "      <td>-0.007793</td>\n",
              "    </tr>\n",
              "    <tr>\n",
              "      <th>Age</th>\n",
              "      <td>-0.013561</td>\n",
              "      <td>-0.025292</td>\n",
              "      <td>1.000000</td>\n",
              "      <td>0.014435</td>\n",
              "    </tr>\n",
              "    <tr>\n",
              "      <th>Year-Of-Publication</th>\n",
              "      <td>0.004560</td>\n",
              "      <td>-0.007793</td>\n",
              "      <td>0.014435</td>\n",
              "      <td>1.000000</td>\n",
              "    </tr>\n",
              "  </tbody>\n",
              "</table>\n",
              "</div>"
            ],
            "text/plain": [
              "                      User-ID  Book-Rating       Age  Year-Of-Publication\n",
              "User-ID              1.000000    -0.044026 -0.013561             0.004560\n",
              "Book-Rating         -0.044026     1.000000 -0.025292            -0.007793\n",
              "Age                 -0.013561    -0.025292  1.000000             0.014435\n",
              "Year-Of-Publication  0.004560    -0.007793  0.014435             1.000000"
            ]
          },
          "metadata": {
            "tags": []
          },
          "execution_count": 13
        }
      ]
    },
    {
      "cell_type": "code",
      "metadata": {
        "id": "U2klvDAz4LHx",
        "colab": {
          "base_uri": "https://localhost:8080/",
          "height": 350
        },
        "outputId": "85331d1d-d8d7-4db2-f4d4-50bcf27ee016"
      },
      "source": [
        "plt.figure(figsize = (15,6))\r\n",
        "sns.heatmap( data.corr(), annot=True)"
      ],
      "execution_count": 14,
      "outputs": [
        {
          "output_type": "execute_result",
          "data": {
            "text/plain": [
              "<matplotlib.axes._subplots.AxesSubplot at 0x7f2a0bb10d50>"
            ]
          },
          "metadata": {
            "tags": []
          },
          "execution_count": 14
        },
        {
          "output_type": "display_data",
          "data": {
            "image/png": "[encoded data removed]",
            "text/plain": [
              "<Figure size 1080x432 with 2 Axes>"
            ]
          },
          "metadata": {
            "tags": [],
            "needs_background": "light"
          }
        }
      ]
    },
    {
      "cell_type": "code",
      "metadata": {
        "id": "nb7Zj4v94aUn"
      },
      "source": [
        "#sns.pairplot(data)\r\n",
        "#plt.show()"
      ],
      "execution_count": 15,
      "outputs": []
    },
    {
      "cell_type": "code",
      "metadata": {
        "id": "d2Vg03qT40Av"
      },
      "source": [
        "#plt.figure(figsize = (15,4))\r\n",
        "#sns.boxplot(data = data, orient = \"v\")\r\n",
        "#plt.show()"
      ],
      "execution_count": 16,
      "outputs": []
    },
    {
      "cell_type": "code",
      "metadata": {
        "id": "LbSGQz7K7eFt",
        "colab": {
          "base_uri": "https://localhost:8080/",
          "height": 350
        },
        "outputId": "f3660976-415d-4aa5-a566-69d14f1e58c6"
      },
      "source": [
        "sns.distplot(data['Age'].dropna(), kde=False)"
      ],
      "execution_count": 17,
      "outputs": [
        {
          "output_type": "stream",
          "text": [
            "/usr/local/lib/python3.7/dist-packages/seaborn/distributions.py:2557: FutureWarning: `distplot` is a deprecated function and will be removed in a future version. Please adapt your code to use either `displot` (a figure-level function with similar flexibility) or `histplot` (an axes-level function for histograms).\n",
            "  warnings.warn(msg, FutureWarning)\n"
          ],
          "name": "stderr"
        },
        {
          "output_type": "execute_result",
          "data": {
            "text/plain": [
              "<matplotlib.axes._subplots.AxesSubplot at 0x7f29fc59b190>"
            ]
          },
          "metadata": {
            "tags": []
          },
          "execution_count": 17
        },
        {
          "output_type": "display_data",
          "data": {
            "image/png": "[encoded data removed]",
            "text/plain": [
              "<Figure size 432x288 with 1 Axes>"
            ]
          },
          "metadata": {
            "tags": [],
            "needs_background": "light"
          }
        }
      ]
    },
    {
      "cell_type": "code",
      "metadata": {
        "id": "qN0zw5WP7q1L"
      },
      "source": [
        "data['Year-Of-Publication'] = pd.to_numeric(data['Year-Of-Publication'], 'coerce').fillna(2099, downcast = 'infer')"
      ],
      "execution_count": 18,
      "outputs": []
    },
    {
      "cell_type": "code",
      "metadata": {
        "id": "v9aqUND17-Nc"
      },
      "source": [
        "data['Book-Rating'] = data['Book-Rating'].replace(0, None)"
      ],
      "execution_count": 19,
      "outputs": []
    },
    {
      "cell_type": "code",
      "metadata": {
        "id": "9VMfWK5k8GS_"
      },
      "source": [
        "data['Age'] = np.where(data['Age']>90, None, data['Age'])"
      ],
      "execution_count": 20,
      "outputs": []
    },
    {
      "cell_type": "code",
      "metadata": {
        "id": "XG3ThGNb8MN0"
      },
      "source": [
        "data[['Book-Author', 'Publisher']] = data[['Book-Author', 'Publisher']].fillna('Unknown')"
      ],
      "execution_count": 21,
      "outputs": []
    },
    {
      "cell_type": "code",
      "metadata": {
        "id": "sj5HZTmQ8QsO",
        "colab": {
          "base_uri": "https://localhost:8080/"
        },
        "outputId": "e8dcffdd-b61a-4439-ffa1-5602792c50d0"
      },
      "source": [
        "data[['Book-Author', 'Publisher']].isnull().sum()"
      ],
      "execution_count": 22,
      "outputs": [
        {
          "output_type": "execute_result",
          "data": {
            "text/plain": [
              "Book-Author    0\n",
              "Publisher      0\n",
              "dtype: int64"
            ]
          },
          "metadata": {
            "tags": []
          },
          "execution_count": 22
        }
      ]
    },
    {
      "cell_type": "code",
      "metadata": {
        "id": "Bvc2tt-v8cAi"
      },
      "source": [
        "#Controlla e sistema utenti con etá null\r\n",
        "median = data[\"Age\"].median()\r\n",
        "std = data[\"Age\"].std()\r\n",
        "is_null = data[\"Age\"].isnull().sum()\r\n",
        "rand_age = np.random.randint(median - std, median + std, size = is_null)\r\n",
        "age_slice = data[\"Age\"].copy()\r\n",
        "age_slice[pd.isnull(age_slice)] = rand_age\r\n",
        "data[\"Age\"] = age_slice\r\n",
        "data[\"Age\"] = data[\"Age\"].astype(int)"
      ],
      "execution_count": 23,
      "outputs": []
    },
    {
      "cell_type": "code",
      "metadata": {
        "id": "bcbGl-r_8f9M",
        "colab": {
          "base_uri": "https://localhost:8080/"
        },
        "outputId": "07f817ed-3e9e-450f-f6b3-160112b9a86e"
      },
      "source": [
        "#Controllo se sono rimaste etá a null\r\n",
        "data['Age'].isnull().sum()"
      ],
      "execution_count": 24,
      "outputs": [
        {
          "output_type": "execute_result",
          "data": {
            "text/plain": [
              "0"
            ]
          },
          "metadata": {
            "tags": []
          },
          "execution_count": 24
        }
      ]
    },
    {
      "cell_type": "code",
      "metadata": {
        "id": "WMws97s58l5k"
      },
      "source": [
        "#Separo paese, regione, nazione e prendo soltanto il primo \r\n",
        "data['Country'] = data['Location'].apply(lambda row: str(row).split(',')[-1])"
      ],
      "execution_count": 25,
      "outputs": []
    },
    {
      "cell_type": "code",
      "metadata": {
        "id": "I3HJ4tTU8s3W"
      },
      "source": [
        "#Mantengo solo la nazione\r\n",
        "data = data.drop('Location', axis=1)"
      ],
      "execution_count": 26,
      "outputs": []
    },
    {
      "cell_type": "code",
      "metadata": {
        "id": "tZ4dueqw8vZC",
        "colab": {
          "base_uri": "https://localhost:8080/"
        },
        "outputId": "cbdbf375-fe18-47e1-e608-860d90d21f27"
      },
      "source": [
        "data['Country'].head()"
      ],
      "execution_count": 27,
      "outputs": [
        {
          "output_type": "execute_result",
          "data": {
            "text/plain": [
              "0     usa\n",
              "1     usa\n",
              "2     usa\n",
              "3     usa\n",
              "4     usa\n",
              "Name: Country, dtype: object"
            ]
          },
          "metadata": {
            "tags": []
          },
          "execution_count": 27
        }
      ]
    },
    {
      "cell_type": "code",
      "metadata": {
        "id": "GRDI3wGf85vj"
      },
      "source": [
        "df = data\r\n",
        "# Relevant score\r\n",
        "df = df[df['Book-Rating'] >= 6]"
      ],
      "execution_count": 28,
      "outputs": []
    },
    {
      "cell_type": "code",
      "metadata": {
        "id": "PiP_foId8-pj",
        "colab": {
          "base_uri": "https://localhost:8080/"
        },
        "outputId": "c159b69b-1c9a-4eaf-c066-5f264a05132b"
      },
      "source": [
        "# Check\r\n",
        "df.groupby('ISBN')['User-ID'].count().describe()"
      ],
      "execution_count": 29,
      "outputs": [
        {
          "output_type": "execute_result",
          "data": {
            "text/plain": [
              "count    228259.000000\n",
              "mean          3.731572\n",
              "std          12.420819\n",
              "min           1.000000\n",
              "25%           1.000000\n",
              "50%           1.000000\n",
              "75%           3.000000\n",
              "max        1206.000000\n",
              "Name: User-ID, dtype: float64"
            ]
          },
          "metadata": {
            "tags": []
          },
          "execution_count": 29
        }
      ]
    },
    {
      "cell_type": "code",
      "metadata": {
        "id": "kkt-PN2N9JON"
      },
      "source": [
        "df = df.groupby('ISBN').filter(lambda x: len(x) >= 5)"
      ],
      "execution_count": 30,
      "outputs": []
    },
    {
      "cell_type": "code",
      "metadata": {
        "id": "ruyAReSc9NWo",
        "colab": {
          "base_uri": "https://localhost:8080/"
        },
        "outputId": "af81875d-fd00-424a-ca45-bd7111b56c83"
      },
      "source": [
        "df.groupby('User-ID')['ISBN'].count().describe()"
      ],
      "execution_count": 31,
      "outputs": [
        {
          "output_type": "execute_result",
          "data": {
            "text/plain": [
              "count    66453.000000\n",
              "mean         8.227770\n",
              "std         50.589459\n",
              "min          1.000000\n",
              "25%          1.000000\n",
              "50%          1.000000\n",
              "75%          3.000000\n",
              "max       5830.000000\n",
              "Name: ISBN, dtype: float64"
            ]
          },
          "metadata": {
            "tags": []
          },
          "execution_count": 31
        }
      ]
    },
    {
      "cell_type": "code",
      "metadata": {
        "id": "HjBmfKC_9TOQ"
      },
      "source": [
        "df = df.groupby('User-ID').filter(lambda x: len(x) >= 5)"
      ],
      "execution_count": 32,
      "outputs": []
    },
    {
      "cell_type": "code",
      "metadata": {
        "id": "jqYVemqE9VXj",
        "colab": {
          "base_uri": "https://localhost:8080/"
        },
        "outputId": "83d00085-b1a5-4b25-8dd3-0d109289fc75"
      },
      "source": [
        "df.columns"
      ],
      "execution_count": 33,
      "outputs": [
        {
          "output_type": "execute_result",
          "data": {
            "text/plain": [
              "Index(['User-ID', 'ISBN', 'Book-Rating', 'Age', 'Book-Title', 'Book-Author',\n",
              "       'Year-Of-Publication', 'Publisher', 'Image-URL-S', 'Image-URL-M',\n",
              "       'Image-URL-L', 'Country'],\n",
              "      dtype='object')"
            ]
          },
          "metadata": {
            "tags": []
          },
          "execution_count": 33
        }
      ]
    },
    {
      "cell_type": "code",
      "metadata": {
        "id": "ZcjDxtNwvuE5"
      },
      "source": [
        "data1= df.copy()\r\n",
        "df.drop(['Book-Title','Publisher','Image-URL-S','Image-URL-M','Image-URL-L'],axis=1,inplace=True)"
      ],
      "execution_count": 34,
      "outputs": []
    },
    {
      "cell_type": "code",
      "metadata": {
        "id": "0WJvYqVy5iy3",
        "outputId": "adc194cd-3af7-4310-c099-b8b1ee797c52",
        "colab": {
          "base_uri": "https://localhost:8080/",
          "height": 221
        }
      },
      "source": [
        "df.head()"
      ],
      "execution_count": 35,
      "outputs": [
        {
          "output_type": "execute_result",
          "data": {
            "text/html": [
              "<div>\n",
              "<style scoped>\n",
              "    .dataframe tbody tr th:only-of-type {\n",
              "        vertical-align: middle;\n",
              "    }\n",
              "\n",
              "    .dataframe tbody tr th {\n",
              "        vertical-align: top;\n",
              "    }\n",
              "\n",
              "    .dataframe thead th {\n",
              "        text-align: right;\n",
              "    }\n",
              "</style>\n",
              "<table border=\"1\" class=\"dataframe\">\n",
              "  <thead>\n",
              "    <tr style=\"text-align: right;\">\n",
              "      <th></th>\n",
              "      <th>User-ID</th>\n",
              "      <th>ISBN</th>\n",
              "      <th>Book-Rating</th>\n",
              "      <th>Age</th>\n",
              "      <th>Book-Author</th>\n",
              "      <th>Year-Of-Publication</th>\n",
              "      <th>Country</th>\n",
              "    </tr>\n",
              "  </thead>\n",
              "  <tbody>\n",
              "    <tr>\n",
              "      <th>4</th>\n",
              "      <td>10314</td>\n",
              "      <td>034545104X</td>\n",
              "      <td>9</td>\n",
              "      <td>29</td>\n",
              "      <td>M. J. Rose</td>\n",
              "      <td>2002</td>\n",
              "      <td>usa</td>\n",
              "    </tr>\n",
              "    <tr>\n",
              "      <th>5</th>\n",
              "      <td>23768</td>\n",
              "      <td>034545104X</td>\n",
              "      <td>9</td>\n",
              "      <td>45</td>\n",
              "      <td>M. J. Rose</td>\n",
              "      <td>2002</td>\n",
              "      <td>usa</td>\n",
              "    </tr>\n",
              "    <tr>\n",
              "      <th>7</th>\n",
              "      <td>28523</td>\n",
              "      <td>034545104X</td>\n",
              "      <td>9</td>\n",
              "      <td>24</td>\n",
              "      <td>M. J. Rose</td>\n",
              "      <td>2002</td>\n",
              "      <td>usa</td>\n",
              "    </tr>\n",
              "    <tr>\n",
              "      <th>10</th>\n",
              "      <td>56157</td>\n",
              "      <td>034545104X</td>\n",
              "      <td>9</td>\n",
              "      <td>36</td>\n",
              "      <td>M. J. Rose</td>\n",
              "      <td>2002</td>\n",
              "      <td>usa</td>\n",
              "    </tr>\n",
              "    <tr>\n",
              "      <th>14</th>\n",
              "      <td>77480</td>\n",
              "      <td>034545104X</td>\n",
              "      <td>8</td>\n",
              "      <td>51</td>\n",
              "      <td>M. J. Rose</td>\n",
              "      <td>2002</td>\n",
              "      <td>usa</td>\n",
              "    </tr>\n",
              "  </tbody>\n",
              "</table>\n",
              "</div>"
            ],
            "text/plain": [
              "    User-ID        ISBN  Book-Rating  ...  Book-Author Year-Of-Publication  Country\n",
              "4     10314  034545104X            9  ...   M. J. Rose                2002      usa\n",
              "5     23768  034545104X            9  ...   M. J. Rose                2002      usa\n",
              "7     28523  034545104X            9  ...   M. J. Rose                2002      usa\n",
              "10    56157  034545104X            9  ...   M. J. Rose                2002      usa\n",
              "14    77480  034545104X            8  ...   M. J. Rose                2002      usa\n",
              "\n",
              "[5 rows x 7 columns]"
            ]
          },
          "metadata": {
            "tags": []
          },
          "execution_count": 35
        }
      ]
    },
    {
      "cell_type": "code",
      "metadata": {
        "id": "QymiIj8-5qqq"
      },
      "source": [
        "data_encoded = pd.get_dummies(df)"
      ],
      "execution_count": null,
      "outputs": []
    }
  ]
}