{
 "cells": [
  {
   "cell_type": "markdown",
   "metadata": {
    "colab_type": "text",
    "id": "view-in-github"
   },
   "source": [
    "<a href=\"https://colab.research.google.com/github/paolopetta/FIA-Yourbook/blob/main/Yourbook.ipynb\" target=\"_parent\"><img src=\"https://colab.research.google.com/assets/colab-badge.svg\" alt=\"Open In Colab\"/></a>"
   ]
  },
  {
   "cell_type": "code",
   "execution_count": null,
   "metadata": {
    "id": "g0lEmDxv-I4H"
   },
   "outputs": [],
   "source": [
    "#Import delle librerie necessarie\n",
    "import numpy as np\n",
    "import pandas as pd\n",
    "import seaborn as sns\n",
    "import matplotlib.pyplot as plt\n",
    "from scipy.sparse import csr_matrix\n",
    "from sklearn.neighbors import NearestNeighbors\n",
    "from PIL import Image\n",
    "import requests"
   ]
  },
  {
   "cell_type": "code",
   "execution_count": null,
   "metadata": {
    "colab": {
     "base_uri": "https://localhost:8080/"
    },
    "id": "DXj2iOWD-Ql3",
    "outputId": "590f8b28-b6c3-4b45-daf3-c86a66a8a988"
   },
   "outputs": [],
   "source": [
    "#Import dei dataset con le informazioni:\n",
    "#user.cvs -> info sugli utenti\n",
    "#book.cvs -> info su i libri\n",
    "#ratings.cvs -> votazioni che utenti hanno dati ai libri\n",
    "#Inoltre, l'import elimina tutte le righe dei dataset che non sono corrette \n",
    "users = pd.read_csv('Users.csv', error_bad_lines=False, delimiter=';', encoding = 'ISO-8859-1')\n",
    "books = pd.read_csv('Books.csv', error_bad_lines=False, delimiter=';', engine = 'python' , encoding = 'ISO-8859-1')\n",
    "ratings = pd.read_csv('Ratings.csv', error_bad_lines=False, delimiter=';', engine = 'python' , encoding = 'ISO-8859-1')"
   ]
  },
  {
   "cell_type": "code",
   "execution_count": null,
   "metadata": {
    "id": "R-Tp91-T-bWx"
   },
   "outputs": [],
   "source": [
    "#Inizia la fase di preparazione dei dati di ratings\n",
    "#Rimuoviamo tutti i duplicati presenti\n",
    "ratings.drop_duplicates(inplace=True, keep='first')\n",
    "#Rimuoviamo le righe di rating che sono nulle\n",
    "ratings = ratings.dropna()\n",
    "#stampiamo la dimesione della tabella di ratings\n",
    "print(ratings.shape)\n",
    "#stampiamo la media delle votazioni\n",
    "ratings['Book-Rating'].mean()\n",
    "#rimuoviamo da rating tutte le votazioni dei libri uguali a 0\n",
    "ratings = ratings[ratings['Book-Rating'] != 0]\n",
    "ratings.info()"
   ]
  },
  {
   "cell_type": "code",
   "execution_count": null,
   "metadata": {
    "colab": {
     "base_uri": "https://localhost:8080/"
    },
    "id": "t1TmRIEGA9Sd",
    "outputId": "a801c763-6f05-4869-bb45-de372af9bd12"
   },
   "outputs": [],
   "source": [
    "#Inizia la fase di preparazione dei dati di user\n",
    "#stampiamo le informazioni di user-id\n",
    "users['User-ID'].describe()\n",
    "#andiamo ad eliminare tutti gli user che sono null\n",
    "users_df0 = users.dropna()\n",
    "#Gli userid erano scritti come float e li trasformiamo in int\n",
    "users_df0['User-ID'].astype(np.int64)"
   ]
  },
  {
   "cell_type": "code",
   "execution_count": null,
   "metadata": {
    "id": "ayrkt0ex-7IT"
   },
   "outputs": [],
   "source": [
    "#Merge tra ratings e user\n",
    "B1 = pd.merge(ratings, users_df0, on='User-ID', how='left')"
   ]
  },
  {
   "cell_type": "code",
   "execution_count": null,
   "metadata": {
    "id": "K5Gn0Khi_Ag9"
   },
   "outputs": [],
   "source": [
    "#Merge b1 e books\n",
    "B2 = pd.merge(B1, books, on='ISBN', how='left')\n",
    "#Cancelliamo tutti i dati che sono null\n",
    "B3 = B2.dropna()\n",
    "#Abbiamo ottenuto una tabella unita e di molto ridotta rispetto alle tabelle iniziali\n",
    "print(B3.shape)\n",
    "#Rinominiamo le colonne\n",
    "B3.rename(columns={\n",
    "    'User-ID': 'User_ID', \n",
    "    'Book-Rating': 'Book_Rating', \n",
    "    'Book-Title': 'Book_Title',\n",
    "    'Book-Author': 'Book_Author',\n",
    "    'Year-Of-Publication': 'Year_Of_Publication'\n",
    "}, inplace=True)\n",
    "B3.info()\n",
    "bn = B3[\"Book_Title\"].value_counts()\n",
    "B3[\"User_ID\"].value_counts()\n",
    "user = B3['User_ID'].astype(\"str\")\n",
    "user.describe()"
   ]
  },
  {
   "cell_type": "code",
   "execution_count": null,
   "metadata": {
    "colab": {
     "base_uri": "https://localhost:8080/"
    },
    "id": "7rNVXlPX_RSY",
    "outputId": "4fa2ee8b-728a-4d0e-f1b2-4ea4ecab4063"
   },
   "outputs": [],
   "source": [
    "#Eliminiamo tutti gli utenti che hanno età >= 80 || <= 10\n",
    "B4 = B3.drop(B3[B3['Age'] >= 80].index)\n",
    "B4 = B4.drop(B4[B4['Age'] <= 10].index)\n",
    "B4.shape"
   ]
  },
  {
   "cell_type": "code",
   "execution_count": null,
   "metadata": {
    "colab": {
     "base_uri": "https://localhost:8080/"
    },
    "id": "GkAHn5L-_dC7",
    "outputId": "8683e26e-62d2-4596-8268-d3d446e65bce"
   },
   "outputs": [],
   "source": [
    "#Eliminiarmo tutti i libri pubblicati dal 2010 in poi e prima del 1200\n",
    "B4 = B4.drop(B4[B4['Year_Of_Publication'] >= 2010].index)\n",
    "B4 = B4.drop(B4[B4['Year_Of_Publication'] <= 1200].index)\n",
    "B4['Year_Of_Publication'].describe()\n",
    "B4.shape"
   ]
  },
  {
   "cell_type": "code",
   "execution_count": null,
   "metadata": {
    "id": "cShJ7qOn_jgq"
   },
   "outputs": [],
   "source": [
    "#Contiamo quanti titoli sono presenti\n",
    "bn = B4[\"Book_Title\"].value_counts()"
   ]
  },
  {
   "cell_type": "code",
   "execution_count": null,
   "metadata": {
    "colab": {
     "base_uri": "https://localhost:8080/",
     "height": 298
    },
    "id": "mQQlYBJf_lx0",
    "outputId": "e4704871-deb3-4c95-e839-a98854614a25"
   },
   "outputs": [],
   "source": [
    "#Assegnamo a user tutti gli id e ne eliminiamo i duplicati\n",
    "user = B4['User_ID']\n",
    "user.drop_duplicates(inplace=True, keep='first') \n",
    "\n",
    "#grafico che rappresenta la frequenza delle votazioni e la frequenza di una determinata età degli utenti\n",
    "#x (da 0 a 10) votazione dei libri, (da 11 a 80) età degli utenti\n",
    "#y frequenza di questi componenti\n",
    "user = pd.merge(user, B4, on='User_ID', how='left')\n",
    "user['Age'].plot(kind='hist', title='Age Distribution',)\n",
    "B4['Book_Rating'].plot(kind='hist', title='Book_Rating Distribution',)"
   ]
  },
  {
   "cell_type": "code",
   "execution_count": null,
   "metadata": {
    "colab": {
     "base_uri": "https://localhost:8080/",
     "height": 419
    },
    "id": "RQkSHQO8_rex",
    "outputId": "e7c15cd5-b893-4a54-c4f7-4c3993569692"
   },
   "outputs": [],
   "source": [
    "from matplotlib import pyplot as plt\n",
    "from matplotlib import font_manager\n",
    "\n",
    "#grafico con i 5 libri più apprezzati (*)\n",
    "data1 = B4.groupby(by=\"Book_Title\").count().sort_values(by=\"Book_Rating\", ascending=False)[:5][\"Book_Rating\"]\n",
    "_x = data1.index\n",
    "_y = data1.values\n",
    "\n",
    "\n",
    "plt.figure(figsize=(29,8), dpi=100)\n",
    "plt.bar(range(len(_x)), _y, width=0.5)\n",
    "\n",
    "plt.xticks(range(len(_x)), _x)\n",
    "plt.xlabel(\"Book Title\")\n",
    "plt.ylabel(\"Num Counts\")\n",
    "plt.title(\"Top Rated Books\")\n",
    "plt.show()"
   ]
  },
  {
   "cell_type": "code",
   "execution_count": null,
   "metadata": {
    "id": "xRrluoxP_3Ba"
   },
   "outputs": [],
   "source": [
    "user = B4['User_ID'].astype(\"str\")"
   ]
  },
  {
   "cell_type": "code",
   "execution_count": null,
   "metadata": {
    "colab": {
     "base_uri": "https://localhost:8080/"
    },
    "id": "TGKhANth_4Ha",
    "outputId": "a8f62d10-2a49-4e8b-8316-ffa6238fc017"
   },
   "outputs": [],
   "source": [
    "B4[\"User_ID\"].value_counts()"
   ]
  },
  {
   "cell_type": "code",
   "execution_count": null,
   "metadata": {
    "colab": {
     "base_uri": "https://localhost:8080/",
     "height": 366
    },
    "id": "ctFrX92m_5hk",
    "outputId": "264921ce-1dc6-44d0-b03c-a5e975129a2f"
   },
   "outputs": [],
   "source": []
  },
  {
   "cell_type": "code",
   "execution_count": null,
   "metadata": {
    "id": "rbAe6nju_9TR"
   },
   "outputs": [],
   "source": [
    "import numpy as np \n",
    "import pandas as pd \n",
    "import matplotlib.pyplot as plt\n",
    "import seaborn as sns\n",
    "import networkx as nx\n",
    "from networkx.algorithms import bipartite"
   ]
  },
  {
   "cell_type": "code",
   "execution_count": null,
   "metadata": {
    "id": "ixJRH_WsDjX2"
   },
   "outputs": [],
   "source": [
    "#dataset su cui lavorare, ancora da modificare\n",
    "data = B4"
   ]
  },
  {
   "cell_type": "code",
   "execution_count": null,
   "metadata": {
    "colab": {
     "base_uri": "https://localhost:8080/",
     "height": 791
    },
    "id": "2TU-w7LADoCK",
    "outputId": "fa50df86-fbce-41c7-b9a4-5ecc679a4923"
   },
   "outputs": [],
   "source": [
    "#stampa dei primi 20 elmenti, da modificare se lo manteniamo\n",
    "data.head(100)"
   ]
  },
  {
   "cell_type": "code",
   "execution_count": null,
   "metadata": {
    "colab": {
     "base_uri": "https://localhost:8080/"
    },
    "id": "ZVs-rKaWDuLD",
    "outputId": "e34aea68-62b0-4517-9ad5-0ff13da0aceb"
   },
   "outputs": [],
   "source": [
    "\n",
    "data['ISBN'] = pd.to_numeric(data['ISBN'],errors='coerce')\n",
    "data.dropna(inplace=True)\n",
    "data.head()\n",
    "data.info()"
   ]
  },
  {
   "cell_type": "code",
   "execution_count": null,
   "metadata": {
    "id": "ba4r6aujEabq"
   },
   "outputs": [],
   "source": [
    "#eliminazione delle immagini\n",
    "data.drop(['Image-URL-S','Image-URL-M','Image-URL-L'],axis=1,inplace=True)"
   ]
  },
  {
   "cell_type": "code",
   "execution_count": null,
   "metadata": {
    "colab": {
     "base_uri": "https://localhost:8080/"
    },
    "id": "GgJX9ZZnE_bV",
    "outputId": "e1a3faaf-429f-4521-d989-f3c9a19268a0"
   },
   "outputs": [],
   "source": [
    "G = nx.Graph()\n",
    "m=list(data['User_ID'])\n",
    "n=list(data['Book_Title'])\n",
    "zip_list=list(zip(m,n))\n",
    "# Add nodes with the node attribute \"bipartite\"\n",
    "G.add_nodes_from(m, bipartite=0)\n",
    "G.add_nodes_from(n, bipartite=1)\n",
    "G.add_edges_from(list(zip(m,n))) \n",
    "    \n",
    "bipartite.is_bipartite(G)"
   ]
  },
  {
   "cell_type": "code",
   "execution_count": null,
   "metadata": {
    "colab": {
     "base_uri": "https://localhost:8080/"
    },
    "id": "V5C0WaUAD5W3",
    "outputId": "7481db22-f667-4111-e8a4-6a5c1ff9a5e4"
   },
   "outputs": [],
   "source": [
    "#G.adj"
   ]
  },
  {
   "cell_type": "code",
   "execution_count": null,
   "metadata": {
    "id": "alaJk3OBD72_"
   },
   "outputs": [],
   "source": [
    "#togliere quello sopra assolutamente\n",
    "#print(nx.adjacency_matrix(G).todense())"
   ]
  },
  {
   "cell_type": "code",
   "execution_count": null,
   "metadata": {
    "colab": {
     "base_uri": "https://localhost:8080/",
     "height": 195
    },
    "id": "5DG8peNcHNyo",
    "outputId": "cdde23dd-2115-4089-c032-5e39f87453d8"
   },
   "outputs": [],
   "source": [
    "pdd = pd.DataFrame(zip_list,columns=['source','target'])\n",
    "pdd.head()"
   ]
  },
  {
   "cell_type": "code",
   "execution_count": null,
   "metadata": {
    "id": "i4CMLT6LHPv5"
   },
   "outputs": [],
   "source": [
    "top_nodes = {n for n, d in G.nodes(data=True) if d[\"bipartite\"] == 0}\n",
    "bottom_nodes = set(G) - top_nodes"
   ]
  },
  {
   "cell_type": "code",
   "execution_count": null,
   "metadata": {
    "id": "G0mo2w9yHWEm"
   },
   "outputs": [],
   "source": []
  },
  {
   "cell_type": "code",
   "execution_count": null,
   "metadata": {
    "id": "u7nzlN5XHdV0"
   },
   "outputs": [],
   "source": []
  },
  {
   "cell_type": "code",
   "execution_count": null,
   "metadata": {
    "id": "YcJilGreHmop"
   },
   "outputs": [],
   "source": [
    "cent = nx.degree_centrality(G)\n",
    "name = []\n",
    "centrality = []\n",
    "\n",
    "for key, value in cent.items():\n",
    "    name.append(key)\n",
    "    centrality.append(value)"
   ]
  },
  {
   "cell_type": "code",
   "execution_count": null,
   "metadata": {
    "id": "NUGEhHU6Hsuh"
   },
   "outputs": [],
   "source": [
    "cent = pd.DataFrame()    \n",
    "cent['name'] = name\n",
    "cent['centrality'] = centrality\n",
    "cent = cent.sort_values(by='centrality', ascending=False)"
   ]
  },
  {
   "cell_type": "code",
   "execution_count": null,
   "metadata": {
    "colab": {
     "base_uri": "https://localhost:8080/",
     "height": 1000
    },
    "id": "9fuzZwZqHu6J",
    "outputId": "381be863-9503-4442-ac3a-583058ce59ef"
   },
   "outputs": [],
   "source": []
  },
  {
   "cell_type": "code",
   "execution_count": null,
   "metadata": {
    "id": "5rPGPPHLIzhJ"
   },
   "outputs": [],
   "source": [
    "from sklearn.preprocessing import MinMaxScaler\n",
    "from sklearn.model_selection import train_test_split\n",
    "import numpy as np\n",
    "import pandas as pd\n",
    "from sklearn.cluster import KMeans\n",
    "from scipy.spatial.distance import cdist\n",
    "import matplotlib.pyplot as plt\n",
    "import seaborn as sns\n",
    "from sklearn.decomposition import PCA"
   ]
  },
  {
   "cell_type": "code",
   "execution_count": null,
   "metadata": {
    "id": "BcTqxAbgI_EA"
   },
   "outputs": [],
   "source": [
    "data1 = data.copy()"
   ]
  },
  {
   "cell_type": "code",
   "execution_count": null,
   "metadata": {
    "id": "ecYntnsAJF19"
   },
   "outputs": [],
   "source": [
    "#eliminiamo altri dati inutili\n",
    "data.drop(['Book_Title','Publisher','Location'],axis=1,inplace=True)"
   ]
  },
  {
   "cell_type": "code",
   "execution_count": null,
   "metadata": {
    "colab": {
     "base_uri": "https://localhost:8080/"
    },
    "id": "cfFc6KpJJiAs",
    "outputId": "852cb7b5-9bee-487e-def1-a48ec3b7cfdf"
   },
   "outputs": [],
   "source": [
    "#stampa dei dati risultanti\n",
    "data.head()\n",
    "data.info()"
   ]
  },
  {
   "cell_type": "code",
   "execution_count": null,
   "metadata": {
    "colab": {
     "base_uri": "https://localhost:8080/"
    },
    "id": "rgjxxuIyJltl",
    "outputId": "c47263e3-669b-47fb-9e91-afb1e0ca138d"
   },
   "outputs": [],
   "source": [
    "#prendiamo i get dummies su bookauthor\n",
    "data_encoded = pd.get_dummies(data, columns=[\"Book_Author\"], sparse=True)                  \n",
    "data_encoded\n",
    "data1.info()"
   ]
  },
  {
   "cell_type": "code",
   "execution_count": null,
   "metadata": {},
   "outputs": [],
   "source": [
    "data_encoded.info()"
   ]
  },
  {
   "cell_type": "code",
   "execution_count": null,
   "metadata": {
    "colab": {
     "base_uri": "https://localhost:8080/"
    },
    "id": "aVdrw0s8KXJ7",
    "outputId": "9cd1452c-0fbe-4393-d844-3592a81d5c4e"
   },
   "outputs": [],
   "source": [
    "# minmax scaler (this part is referred from HW2)\n",
    "scaler = MinMaxScaler()\n",
    "\n",
    "#andiamo a creare i dataset per il training e il test\n",
    "#molto ridotti per mancanza di capacità di elaborazione\n",
    "train = data_encoded[:1000]\n",
    "test = data_encoded[1001:1101]\n",
    "\n",
    "#train, test = np.split(data_encoded.sample(frac=0.01), [int(.6*len(data_encoded))], [int(.4*len(data_encoded))])\n",
    "#print(train)\n",
    "#print(test)\n",
    "\n",
    "#train_X,test_X = train_test_split(data_encoded, test_size=0.3, random_state=930)\n",
    "X_train = scaler.fit_transform(train)\n",
    "X_test = scaler.transform(test)\n",
    "print(X_test)"
   ]
  },
  {
   "cell_type": "code",
   "execution_count": null,
   "metadata": {},
   "outputs": [],
   "source": [
    "data_encoded.info()"
   ]
  },
  {
   "cell_type": "code",
   "execution_count": null,
   "metadata": {},
   "outputs": [],
   "source": [
    "X = scaler.transform(data_encoded[:1000])"
   ]
  },
  {
   "cell_type": "raw",
   "metadata": {},
   "source": []
  },
  {
   "cell_type": "code",
   "execution_count": null,
   "metadata": {},
   "outputs": [],
   "source": [
    "print(X)"
   ]
  },
  {
   "cell_type": "code",
   "execution_count": null,
   "metadata": {},
   "outputs": [],
   "source": [
    "#grafico di punto di gomito\n",
    "K = range(1, 7)\n",
    "meanDispersions = [] \n",
    "for k in K:\n",
    "    kmeans = KMeans(n_clusters=2)\n",
    "    kmeans.fit(X_train)\n",
    "    \n",
    "    meanDispersions.append(kmeans.inertia_)\n",
    "      "
   ]
  },
  {
   "cell_type": "code",
   "execution_count": null,
   "metadata": {},
   "outputs": [],
   "source": [
    "plt.plot(K, meanDispersions, 'rx-')\n",
    "plt.xlabel('k')\n",
    "plt.ylabel('Average Dispersion')\n",
    "plt.title('Selecting k with the Elbow Method')\n",
    "plt.show() "
   ]
  },
  {
   "cell_type": "code",
   "execution_count": null,
   "metadata": {},
   "outputs": [],
   "source": [
    "kmeans = KMeans(n_clusters=3)\n",
    "\n",
    "y1 = kmeans.fit_predict(X_train)\n",
    "y2 = kmeans.predict(X_test)\n",
    "whole_data = kmeans.predict(X)\n",
    "\n",
    "#generate two subsets with data generated from last step \n",
    "train = pd.DataFrame(X_train, columns = data_encoded.columns)\n",
    "test = pd.DataFrame(X_test, columns = data_encoded.columns)\n",
    "#then add the prediction of clustering to these data\n",
    "train['Cluster'] = y1\n",
    "test['Cluster'] = y2\n",
    "data1= data1[:1000]\n",
    "data1['Cluster']= whole_data"
   ]
  },
  {
   "cell_type": "code",
   "execution_count": null,
   "metadata": {},
   "outputs": [],
   "source": [
    "# check the outcomes of each cluster\n",
    "groupby1 = data1.groupby(by='Cluster').mean()\n",
    "groupby1"
   ]
  },
  {
   "cell_type": "code",
   "execution_count": null,
   "metadata": {},
   "outputs": [],
   "source": [
    "plt.scatter(X[:, 0], X[:, 1], c=y1, s=50, cmap='viridis')\n",
    "centers = kmeans.cluster_centers_\n",
    "plt.scatter(centers[:, 0], centers[:, 1], c='black', s=200, alpha=0.5);"
   ]
  },
  {
   "cell_type": "code",
   "execution_count": null,
   "metadata": {},
   "outputs": [],
   "source": [
    "from sklearn.metrics import silhouette_samples, silhouette_score\n",
    "score = silhouette_score(X, y1)\n",
    "print(\"Silouhette score: \" + str(score))"
   ]
  },
  {
   "cell_type": "code",
   "execution_count": null,
   "metadata": {},
   "outputs": [],
   "source": []
  },
  {
   "cell_type": "code",
   "execution_count": null,
   "metadata": {},
   "outputs": [],
   "source": [
    "merged = ratings.merge(books, on = 'ISBN')\n",
    "merged.head()\n",
    "merged.info()"
   ]
  },
  {
   "cell_type": "code",
   "execution_count": null,
   "metadata": {},
   "outputs": [],
   "source": [
    "#merge the data with number of ratings\n",
    "merged_groupby=merged.groupby('Book-Title')['Book-Rating'].count().reset_index()\n",
    "merged_groupby.rename(columns={'Book-Rating':'number_of_ratings'},inplace=True)\n",
    "#filter books with more than 30 reviews \n",
    "merged_groupby=merged_groupby[merged_groupby['number_of_ratings']>30]\n",
    "merged_groupby.head()"
   ]
  },
  {
   "cell_type": "code",
   "execution_count": null,
   "metadata": {},
   "outputs": [],
   "source": [
    "#merge the above two files together to get an integrated book review data with total review count for each book;then remove the duplicates\n",
    "integrated_merged=merged.merge(merged_groupby, on='Book-Title')\n",
    "integrated_merged.drop_duplicates(['User-ID','Book-Title'],inplace=True)\n",
    "integrated_merged.head()\n",
    "integrated_merged.info()"
   ]
  },
  {
   "cell_type": "code",
   "execution_count": null,
   "metadata": {},
   "outputs": [],
   "source": [
    "pivot=pd.pivot_table(integrated_merged, columns='User-ID',index='Book-Title',fill_value=0,values='Book-Rating')\n",
    "pivot.shape\n",
    "pivot"
   ]
  },
  {
   "cell_type": "code",
   "execution_count": null,
   "metadata": {},
   "outputs": [],
   "source": [
    "pivot_csr=csr_matrix(pivot)\n",
    "pivot_csr"
   ]
  },
  {
   "cell_type": "code",
   "execution_count": null,
   "metadata": {},
   "outputs": [],
   "source": [
    "#construct kNN models\n",
    "model=NearestNeighbors(algorithm='brute')\n",
    "model.fit(pivot_csr)"
   ]
  },
  {
   "cell_type": "code",
   "execution_count": null,
   "metadata": {},
   "outputs": [],
   "source": [
    "pivot.iloc[:,:].values.reshape(1,-1)\n",
    "#example of k neighbors \n",
    "distances,suggestions=model.kneighbors(pivot.iloc[55,:].values.reshape(1,-1))"
   ]
  },
  {
   "cell_type": "code",
   "execution_count": null,
   "metadata": {},
   "outputs": [],
   "source": [
    "distances"
   ]
  },
  {
   "cell_type": "code",
   "execution_count": null,
   "metadata": {},
   "outputs": [],
   "source": [
    "suggestions"
   ]
  },
  {
   "cell_type": "code",
   "execution_count": null,
   "metadata": {},
   "outputs": [],
   "source": [
    "#test the kNN collaborative filtering model\n",
    "for i in range(len(suggestions)):\n",
    "    print(pivot.index[suggestions[i]])\n",
    "    print(suggestions[i])"
   ]
  },
  {
   "cell_type": "code",
   "execution_count": null,
   "metadata": {},
   "outputs": [],
   "source": [
    "list1=list(B3['Book_Title'])\n",
    "list1"
   ]
  },
  {
   "cell_type": "code",
   "execution_count": null,
   "metadata": {},
   "outputs": [],
   "source": [
    "#final recommender system function building\n",
    "def book_recommend(book_name):\n",
    "    if book_name in list1:\n",
    "        book_id = np.where(pivot.index == book_name)[0][0]\n",
    "        distances, recommendations = model.kneighbors(pivot.iloc[book_id,:].values.reshape(1,-1))\n",
    "        print('begin to recommend all books similar to this book!!!')\n",
    "        for i in range(len(recommendations)):\n",
    "            if i == 0:\n",
    "                print(f\"For book \\\"{book_name}\\\" we would recommend the following:\")\n",
    "            if not i:\n",
    "                list2=pivot.index[recommendations[i]]\n",
    "                for j in range(len(list2)):\n",
    "                    print(list2[j])\n",
    "    else:\n",
    "        raise ValueError"
   ]
  },
  {
   "cell_type": "code",
   "execution_count": null,
   "metadata": {},
   "outputs": [],
   "source": [
    "name=input('Please Input a book name: ')\n",
    "book_recommend(name)"
   ]
  },
  {
   "cell_type": "code",
   "execution_count": null,
   "metadata": {},
   "outputs": [],
   "source": []
  },
  {
   "cell_type": "code",
   "execution_count": null,
   "metadata": {},
   "outputs": [],
   "source": []
  },
  {
   "cell_type": "code",
   "execution_count": null,
   "metadata": {},
   "outputs": [],
   "source": []
  }
 ],
 "metadata": {
  "colab": {
   "include_colab_link": true,
   "name": "Untitled1.ipynb",
   "provenance": []
  },
  "kernelspec": {
   "display_name": "Python 3",
   "language": "python",
   "name": "python3"
  },
  "language_info": {
   "codemirror_mode": {
    "name": "ipython",
    "version": 3
   },
   "file_extension": ".py",
   "mimetype": "text/x-python",
   "name": "python",
   "nbconvert_exporter": "python",
   "pygments_lexer": "ipython3",
   "version": "3.8.5"
  }
 },
 "nbformat": 4,
 "nbformat_minor": 4
}
